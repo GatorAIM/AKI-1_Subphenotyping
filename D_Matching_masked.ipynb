{
 "cells": [
  {
   "cell_type": "code",
   "execution_count": null,
   "id": "b544fa30-4b31-46c7-9336-1a89145c778b",
   "metadata": {
    "tags": []
   },
   "outputs": [],
   "source": [
    "import pandas as pd\n",
    "import numpy as np\n",
    "import matplotlib.pyplot as plt\n",
    "from tqdm import tqdm\n",
    "tqdm.pandas()\n",
    "import nbimporter\n",
    "from A_Label_AKI_Onsets import read_and_format_DX, read_and_format_DEMO\n",
    "import warnings\n",
    "warnings.simplefilter(action=\"...\", category=FutureWarning)"
   ]
  },
  {
   "cell_type": "markdown",
   "id": "4fa185e5-85c4-4d3d-9d77-6c0daaf9940b",
   "metadata": {},
   "source": [
    "Procedures:    \n",
    "1. Matching non-AKI patients according step 1\n",
    "2. Append cormorbidities to non-AKI patients\n",
    "3. Score non-AKI patients and choose the best one"
   ]
  },
  {
   "cell_type": "markdown",
   "id": "38cee579-5e36-4cdb-80cc-af9ad8286d2e",
   "metadata": {},
   "source": [
    "# Read Data with Cluster Labels"
   ]
  },
  {
   "cell_type": "code",
   "execution_count": null,
   "id": "88e8219b-e60a-4b39-a8fc-c75bd138aec5",
   "metadata": {
    "tags": []
   },
   "outputs": [],
   "source": [
    "%store -r pat_id_cols\n",
    "%store -r ct_names\n",
    "%store -r raw_path\n",
    "%store -r race_mapping"
   ]
  },
  {
   "cell_type": "code",
   "execution_count": null,
   "id": "04e75bc1-4f07-4701-a857-af1ffb900bbd",
   "metadata": {
    "tags": []
   },
   "outputs": [],
   "source": [
    "AKI_df = pd.read_csv(\"...\")"
   ]
  },
  {
   "cell_type": "code",
   "execution_count": null,
   "id": "6d69ed47-e240-4378-b35c-85538360c228",
   "metadata": {
    "tags": []
   },
   "outputs": [],
   "source": [
    "# format data\n",
    "AKI_df[pat_id_cols] = AKI_df[pat_id_cols].astype(str)\n",
    "date_cols = [\"...\", \"...\", \"...\"]\n",
    "for col in date_cols:\n",
    "    AKI_df[col] = pd.to_datetime(AKI_df[col], format = \"...\")"
   ]
  },
  {
   "cell_type": "code",
   "execution_count": null,
   "id": "71d2d117-fd4c-4234-ba74-c77ee0fa5440",
   "metadata": {
    "tags": []
   },
   "outputs": [],
   "source": [
    "AKI_DX_df = read_and_format_DX(ct_names, raw_path, AKI_df)"
   ]
  },
  {
   "cell_type": "code",
   "execution_count": null,
   "id": "1388bf72-eb9c-4395-b525-a9e41c2f4f75",
   "metadata": {},
   "outputs": [],
   "source": [
    "AKI_DX_df.drop(\"...\", axis = 1, inplace = True)"
   ]
  },
  {
   "cell_type": "code",
   "execution_count": null,
   "id": "5378ec7d-0b5d-4c3e-996e-eb8e32771e5e",
   "metadata": {
    "tags": []
   },
   "outputs": [],
   "source": [
    "DEMO_df = read_and_format_DEMO(ct_names, raw_path, race_mapping)"
   ]
  },
  {
   "cell_type": "markdown",
   "id": "fb56a183-0c69-4b3f-bb5e-7ae9a90ef1fa",
   "metadata": {},
   "source": [
    "# Prepare DX Reference Dict"
   ]
  },
  {
   "cell_type": "code",
   "execution_count": null,
   "id": "51607b06-c85e-465a-a08c-2d72efe141f2",
   "metadata": {
    "tags": []
   },
   "outputs": [],
   "source": [
    "Comorbidities_dict = {\n",
    "    \"...\": {\"...\": [\"...\"], \"...\":[\"...\"]},\n",
    "    \"...\": {\"...\": [\"...\"], \"...\":[\"...\"]},\n",
    "    \"...\": {\"...\": [\"...\"], \"...\":[\"...\", \"...\", \"...\", \"...\"]},\n",
    "    \"...\": {\"...\": [\"...\"], \"...\":[\"...\"]},\n",
    "    \"...\": {\"...\": [\"...\"], \"...\":[\"...\"]},\n",
    "    \"...\":{\"...\":[\"...\"], \"...\": [\"...\", \"...\"]},\n",
    "    \"...\":{\"...\":[\"...\", \"...\", \"...\", \"...\", \"...\", \"...\", \"...\", \"...\", \"...\", \"...\",\n",
    "                                 \"...\", \"...\", \"...\"], \n",
    "                             \"...\": [\"...\", \"...\", \"...\", \"...\", \"...\", \"...\",\n",
    "                                    \"...\", \"...\", \"...\", \"...\", \"...\", \"...\",\n",
    "                                   \"...\", \"...\", \"...\", \"...\", \"...\", \"...\", \"...\", \"...\",\n",
    "                                   \"...\", \"...\", \"...\", \"...\", \"...\", \"...\", \"...\", \"...\", \"...\", \"...\",\n",
    "                                   \"...\", \"...\", \"...\", \"...\", \"...\", \"...\", \"...\", \"...\", \"...\",\n",
    "                                   \"...\", \"...\", \"...\", \"...\", \"...\", \"...\", \"...\", \"...\", \"...\", \"...\",\n",
    "                                    \"...\", \"...\", \"...\", \"...\", \"...\", \"...\", \"...\", \"...\", \"...\", \"...\",\n",
    "                                   \"...\", \"...\", \"...\", \"...\", \"...\", \"...\", \"...\", \"...\", \"...\", \"...\", \"...\", \"...\"]},\n",
    "    \"...\": {\"...\":[\"...\", \"...\", \"...\", \"...\", \"...\", \"...\",\n",
    "                                       \"...\", \"...\"], \n",
    "                                   \"...\": [\"...\", \"...\", \"...\", \"...\", \"...\", \"...\", \"...\"]},\n",
    "    \"...\":{\"...\":[\"...\", \"...\", \"...\", \"...\", \"...\", \"...\", \"...\", \"...\", \"...\"], \n",
    "                            \"...\": [\"...\", \"...\", \"...\"]},\n",
    "    \"...\":{\"...\":[\"...\", \"...\", \"...\", \"...\", \"...\", \"...\"], \n",
    "                              \"...\": [\"...\", \"...\", \"...\", \"...\"]},\n",
    "    \"...\":{\"...\":[\"...\"], \"...\": [\"...\"]},\n",
    "    \"...\":{\"...\":[\"...\", \"...\", \"...\", \"...\"], \"...\": [\"...\", \"...\"]},\n",
    "    \"...\":{\"...\":[\"...\"], \"...\": [\"...\"]},\n",
    "    \"...\":{\"...\":[\"...\"], \"...\": [\"...\"]},\n",
    "    \"...\":{\"...\":[\"...\"], \"...\": [\"...\"]},\n",
    "    \"...\":{\"...\":[\"...\"], \"...\": [\"...\"]},\n",
    "    \"...\": {\"...\":[\"...\", \"...\", \"...\", \"...\", \"...\", \"...\"], \n",
    "                             \"...\": [\"...\", \"...\", \"...\", \"...\", \"...\", \"...\"]},\n",
    "    \"...\": {\"...\":[\"...\", \"...\", \"...\", \"...\", \"...\", \"...\", \"...\"], \n",
    "                             \"...\": [\"...\", \"...\", \"...\", \"...\", \"...\", \"...\", \"...\", \"...\"]},\n",
    "    \"...\":{\"...\":[\"...\"], \"...\": [\"...\"]},\n",
    "    \"...\":{\"...\":[\"...\"], \"...\": [\"...\"]},\n",
    "    \"...\":{\"...\":[\"...\"], \"...\": [\"...\"]},\n",
    "}\n",
    "%store Comorbidities_dict"
   ]
  },
  {
   "cell_type": "code",
   "execution_count": null,
   "id": "61fc334b-28e8-428b-b82c-2d9d178cd917",
   "metadata": {
    "tags": []
   },
   "outputs": [],
   "source": [
    "rows = []\n",
    "for condition, codes in Comorbidities_dict.items():\n",
    "    formatted_condition = condition.replace(\"...\", \"...\").title()\n",
    "    icd_9_codes = \"...\".join(codes.get(\"...\", []))  \n",
    "    icd_10_codes = \"...\".join(codes.get(\"...\", []))  \n",
    "    rows.append([formatted_condition, icd_9_codes, icd_10_codes])\n",
    "\n",
    "ICD_code_df = pd.DataFrame(rows, columns=[\"...\", \"...\", \"...\"])"
   ]
  },
  {
   "cell_type": "code",
   "execution_count": null,
   "id": "f2edc285-6ba3-4372-bfe9-3ebde5a738d3",
   "metadata": {
    "tags": []
   },
   "outputs": [],
   "source": [
    "ICD_code_df.to_csv(\"...\", index = False)"
   ]
  },
  {
   "cell_type": "code",
   "execution_count": null,
   "id": "8be3768f-7f2c-457c-b4b4-739c73cd4791",
   "metadata": {
    "tags": []
   },
   "outputs": [],
   "source": [
    "def reverse_comorbidity_dict(Comorbidities_dict):\n",
    "    reversed_Comorbidities_dict = dict()\n",
    "    for disease, ICDs in Comorbidities_dict.items():\n",
    "        merged_codes = []\n",
    "        for codes in ICDs.values():\n",
    "            merged_codes += codes\n",
    "        reversed_Comorbidities_dict[disease] = merged_codes\n",
    "\n",
    "    reversed_Comorbidities_dict = {code: disease for disease, codes in reversed_Comorbidities_dict.items() for code in codes} \n",
    "    return reversed_Comorbidities_dict"
   ]
  },
  {
   "cell_type": "code",
   "execution_count": null,
   "id": "dbc630ed-60a7-42b3-bd8d-cb6da1c1b49f",
   "metadata": {
    "tags": []
   },
   "outputs": [],
   "source": [
    "reversed_Comorbidities_dict = reverse_comorbidity_dict(Comorbidities_dict)\n",
    "%store reversed_Comorbidities_dict"
   ]
  },
  {
   "cell_type": "markdown",
   "id": "02b58b7d-e545-4371-a82c-6acae88f80b0",
   "metadata": {},
   "source": [
    "# Append Comorbidities"
   ]
  },
  {
   "cell_type": "code",
   "execution_count": null,
   "id": "0ba8e1c2-7a53-4f54-aece-ef7b1b0e0952",
   "metadata": {
    "tags": []
   },
   "outputs": [],
   "source": [
    "def append_comorbidities(pat_info, DX_df, reversed_Comorbidities_dict, pat_id_cols):\n",
    "    ct_names = list(pat_info.CENTER_NAME.unique())\n",
    "    pat_DX_df = pat_info.merge(DX_df, on = [\"...\", \"...\"], how = \"...\")\n",
    "    \n",
    "        \n",
    "    # make sure that comorbidities happened in the past and unique for each encounter\n",
    "    pat_DX_df = pat_DX_df[pat_DX_df.DX_DATE < pat_DX_df.ADMIT_DATE]\n",
    "    \n",
    "    # sanity check of merge\n",
    "    for ct_name in tqdm(ct_names):\n",
    "        assert(len(pat_DX_df[pat_DX_df.CENTER_NAME == ct_name] != 0))\n",
    "\n",
    "    # remove DX dups for each encoutner (we do not care about DX time here), since DX\n",
    "    # codes are unique between ICD 9 and 10, we drop DX_TYPE\n",
    "    pat_DX_df.drop([\"...\", \"...\"], axis = 1, inplace = True)\n",
    "    pat_DX_df = pat_DX_df.drop_duplicates(subset=[\"...\", \"...\", \"...\", \"...\"])\n",
    "\n",
    "    # convert DX to the comorbidities we interest in, drop others\n",
    "    pat_DX_df.loc[:, \"...\"] = pat_DX_df.loc[:, \"...\"].map(reversed_Comorbidities_dict)\n",
    "    pat_DX_df.dropna(subset=[\"...\"], inplace=True)\n",
    "    pat_DX_df.drop(\"...\", axis = 1, inplace = True)\n",
    "    \n",
    "    # pivot table\n",
    "    pat_DX_df[\"...\"] = True\n",
    "    pat_DX_df = pat_DX_df.pivot_table(\n",
    "        index=pat_id_cols,\n",
    "        columns=\"...\",\n",
    "        values=\"...\",\n",
    "        aggfunc=\"...\",  \n",
    "        fill_value=False \n",
    "    )\n",
    "    pat_DX_df = pat_DX_df.reset_index()\n",
    "    \n",
    "    final_df = pat_info.merge(pat_DX_df, on = pat_id_cols, how = \"...\")\n",
    "\n",
    "    return final_df"
   ]
  },
  {
   "cell_type": "code",
   "execution_count": null,
   "id": "df043dd1-a1c1-4802-9738-42c5e3bf0b4e",
   "metadata": {
    "tags": []
   },
   "outputs": [],
   "source": [
    "AKI_df = append_comorbidities(AKI_df, AKI_DX_df, reversed_Comorbidities_dict, pat_id_cols)"
   ]
  },
  {
   "cell_type": "code",
   "execution_count": null,
   "id": "9215a656-d502-40c0-abd3-7adefa9bc5d4",
   "metadata": {
    "tags": []
   },
   "outputs": [],
   "source": [
    "comorbidity_cols = list(Comorbidities_dict.keys())"
   ]
  },
  {
   "cell_type": "code",
   "execution_count": null,
   "id": "037dcb86-5b28-4960-8a35-aeb33a581833",
   "metadata": {
    "tags": []
   },
   "outputs": [],
   "source": [
    "# those who do not have records we set their comorbidities to False\n",
    "AKI_df.loc[:, comorbidity_cols] = AKI_df.loc[:, comorbidity_cols].fillna(False)"
   ]
  },
  {
   "cell_type": "markdown",
   "id": "6b26b25b-5eb5-442a-a92c-4a808f77a448",
   "metadata": {},
   "source": [
    "# Get Non-AKI Patient Pool and Filtered by Step 1"
   ]
  },
  {
   "cell_type": "code",
   "execution_count": null,
   "id": "fa84d5d0-53a3-455b-8f9c-9b3c822c16e4",
   "metadata": {
    "tags": []
   },
   "outputs": [],
   "source": [
    "onset_df = pd.read_csv(\"...\")"
   ]
  },
  {
   "cell_type": "code",
   "execution_count": null,
   "id": "009b05ff-1953-4fe0-ba12-a977e992efae",
   "metadata": {
    "tags": []
   },
   "outputs": [],
   "source": [
    "NON_AKI_df = onset_df[onset_df.NONAKI_SINCE_ADMIT == True].copy(deep = True).reset_index(drop = True)"
   ]
  },
  {
   "cell_type": "code",
   "execution_count": null,
   "id": "0c7688a2-1906-41fc-b8f2-ff2756b91a93",
   "metadata": {},
   "outputs": [],
   "source": [
    "# format data\n",
    "NON_AKI_df[pat_id_cols] = NON_AKI_df[pat_id_cols].astype(str)\n",
    "date_cols = [\"...\", \"...\"]\n",
    "for col in date_cols:\n",
    "    NON_AKI_df[col] = pd.to_datetime(NON_AKI_df[col], format = \"...\")"
   ]
  },
  {
   "cell_type": "code",
   "execution_count": null,
   "id": "ae13db3f-070d-4b4f-9e9a-163bd8ae1afb",
   "metadata": {
    "tags": []
   },
   "outputs": [],
   "source": [
    "# append demographics\n",
    "NON_AKI_df = NON_AKI_df.merge(DEMO_df, on = pat_id_cols, how = \"...\")\n",
    "# drop those who do not have demos\n",
    "NON_AKI_df = NON_AKI_df.dropna(subset=[\"...\", \"...\", \"...\"])\n",
    "# only keep each patients' earliest encunter to keep them unique\n",
    "NON_AKI_df = NON_AKI_df.sort_values(by=[\"...\", \"...\", \"...\"], ascending=True)\n",
    "NON_AKI_df = NON_AKI_df.groupby([\"...\", \"...\"]).first().reset_index()\n",
    "# further remove those who already in AKI df in case they match themselves\n",
    "NON_AKI_df = NON_AKI_df[~NON_AKI_df.set_index([\"...\", \"...\"]).index.isin(AKI_df.set_index([\"...\", \"...\"]).index)]"
   ]
  },
  {
   "cell_type": "code",
   "execution_count": null,
   "id": "af348236-2295-4418-b966-2228fce2bb05",
   "metadata": {
    "tags": []
   },
   "outputs": [],
   "source": [
    "def find_matches_by_DEMO(row, NON_AKI_df, NON_AKI_info_dict, sample_n):\n",
    "    age = row[\"...\"]\n",
    "    gender = row[\"...\"]\n",
    "    is_black = row[\"...\"] == \"...\"\n",
    "    SCr_base = row[\"...\"]\n",
    "    ct_name = row[\"...\"]\n",
    "    \n",
    "    \n",
    "    this_center_NON_AKI = NON_AKI_info_dict[ct_name]\n",
    "    \n",
    "    matched = this_center_NON_AKI[\n",
    "        (this_center_NON_AKI[\"...\"].between(age - 1, age + 1)) &\n",
    "        ((this_center_NON_AKI[\"...\"] == \"...\") == is_black) &\n",
    "        (this_center_NON_AKI[\"...\"] == gender) &\n",
    "        (this_center_NON_AKI[\"...\"].between(0.95 * SCr_base, 1.05 * SCr_base))\n",
    "    ]\n",
    "    \n",
    "    #loose: if not found matched, we lose the age\n",
    "    if len(matched) == 0:\n",
    "        matched = this_center_NON_AKI[\n",
    "                (this_center_NON_AKI[\"...\"].between(age - 2, age + 2)) &\n",
    "                ((this_center_NON_AKI[\"...\"] == \"...\") == is_black) &\n",
    "                (this_center_NON_AKI[\"...\"] == gender) &\n",
    "                (this_center_NON_AKI[\"...\"].between(0.95 * SCr_base, 1.05 * SCr_base))\n",
    "        ]\n",
    "    #loose: if not found matched, we lose the SCr \n",
    "    if len(matched) == 0:\n",
    "        matched = this_center_NON_AKI[\n",
    "                (this_center_NON_AKI[\"...\"].between(age - 2, age + 2)) &\n",
    "                ((this_center_NON_AKI[\"...\"] == \"...\") == is_black) &\n",
    "                (this_center_NON_AKI[\"...\"] == gender) &\n",
    "                (this_center_NON_AKI[\"...\"].between(0.9 * SCr_base, 1.1 * SCr_base))\n",
    "        ]\n",
    "    \n",
    "    #loose: if not found matched, we use the whole dataset to search\n",
    "    if len(matched) == 0:\n",
    "        matched = NON_AKI_df[\n",
    "            (NON_AKI_df[\"...\"].between(age - 1, age + 1)) &\n",
    "            ((NON_AKI_df[\"...\"] == \"...\") == is_black) &\n",
    "            (NON_AKI_df[\"...\"] == gender) &\n",
    "            (NON_AKI_df[\"...\"].between(0.95 * SCr_base, 1.05 * SCr_base))\n",
    "        ]\n",
    "                    \n",
    "    #loose: if still not found, we loose the requirement of race, age and SCr\n",
    "    if len(matched) == 0:\n",
    "        matched = NON_AKI_df[\n",
    "            (NON_AKI_df[\"...\"].between(age - 2, age + 2)) &\n",
    "            (NON_AKI_df[\"...\"] == gender) &\n",
    "            (NON_AKI_df[\"...\"].between(0.95 * SCr_base, 1.05 * SCr_base))\n",
    "        ]\n",
    "\n",
    "    #loose: if still no match, we loose the requirement of SCr\n",
    "    if len(matched) == 0:\n",
    "        matched = NON_AKI_df[\n",
    "            (NON_AKI_df[\"...\"].between(age - 2, age + 2)) &\n",
    "            (NON_AKI_df[\"...\"] == gender) & \n",
    "            (NON_AKI_df[\"...\"].between(0.9 * SCr_base, 1.1 * SCr_base))\n",
    "        ] \n",
    "\n",
    "    #loose: if still no match, we loose the requirement of SCr\n",
    "    if len(matched) == 0:\n",
    "        matched = NON_AKI_df[\n",
    "            (NON_AKI_df[\"...\"].between(age - 2, age + 2)) &\n",
    "            (NON_AKI_df[\"...\"] == gender) & \n",
    "            (NON_AKI_df[\"...\"].between(0.8 * SCr_base, 1.2 * SCr_base))\n",
    "        ] \n",
    "\n",
    "    #loose: only requirement age\n",
    "    if len(matched) == 0:\n",
    "        matched = NON_AKI_df[\n",
    "            (NON_AKI_df[\"...\"].between(age - 2, age + 2))\n",
    "        ] \n",
    "\n",
    "    #loose: use all data\n",
    "    if len(matched) == 0:\n",
    "        matched = NON_AKI_df\n",
    "    \n",
    "    n_rows = min(len(matched), sample_n)\n",
    "    matched = matched.sample(n=n_rows, replace=False)\n",
    "    \n",
    "    # label each non-AKI with its matched AKI patients \n",
    "    matched[\"...\"] = ct_name\n",
    "    matched[\"...\"] = row[\"...\"]\n",
    "    matched[\"...\"] = row[\"...\"]\n",
    "    matched[\"...\"] = row[\"...\"]\n",
    "    \n",
    "    return matched"
   ]
  },
  {
   "cell_type": "code",
   "execution_count": null,
   "id": "8278fbb1-3fe7-4da4-9c5c-1c76e4b5f781",
   "metadata": {
    "tags": []
   },
   "outputs": [],
   "source": [
    "# prepare a dict in advance to reduce conputation time\n",
    "NON_AKI_info_dict = dict()\n",
    "for ct_name in ct_names:\n",
    "    NON_AKI_df_this_center = NON_AKI_df[NON_AKI_df.CENTER_NAME == ct_name]\n",
    "    NON_AKI_info_dict[ct_name] = NON_AKI_df_this_center"
   ]
  },
  {
   "cell_type": "code",
   "execution_count": null,
   "id": "7dd85fb2-9fb0-4a21-ab37-01e0ef822b5e",
   "metadata": {
    "tags": []
   },
   "outputs": [],
   "source": [
    "NON_AKI_matched_df_lists = AKI_df.progress_apply(lambda row: find_matches_by_DEMO(row, \n",
    "                                                                    NON_AKI_df, NON_AKI_info_dict, 50), axis=1)"
   ]
  },
  {
   "cell_type": "code",
   "execution_count": null,
   "id": "29ed9048-8281-4471-9c12-7c97a96d1da6",
   "metadata": {
    "tags": []
   },
   "outputs": [],
   "source": [
    "NON_AKI_matched_df = pd.concat(NON_AKI_matched_df_lists.tolist(), ignore_index=True)"
   ]
  },
  {
   "cell_type": "markdown",
   "id": "bd809830-cb0b-46ca-a4bc-c4a23758435c",
   "metadata": {},
   "source": [
    "# Append Comorbidities to Non-AKI Patients "
   ]
  },
  {
   "cell_type": "code",
   "execution_count": null,
   "id": "38507916-1bb4-4ed7-8c83-c48ad9e98c33",
   "metadata": {
    "tags": []
   },
   "outputs": [],
   "source": [
    "NON_AKI_matched_ids = NON_AKI_matched_df.loc[:, pat_id_cols + [\"...\"]]\n",
    "NON_AKI_matched_ids.drop_duplicates(subset = pat_id_cols, inplace = True)"
   ]
  },
  {
   "cell_type": "code",
   "execution_count": null,
   "id": "570d7ab9-67d2-4124-8d34-9fecb29cec7f",
   "metadata": {},
   "outputs": [],
   "source": [
    "NON_AKI_DX_df = read_and_format_DX(ct_names, raw_path, NON_AKI_matched_ids)"
   ]
  },
  {
   "cell_type": "code",
   "execution_count": null,
   "id": "00f9ba61-47a3-440f-9c01-b79241416baa",
   "metadata": {
    "tags": []
   },
   "outputs": [],
   "source": [
    "NON_AKI_DX_df.drop(\"...\", axis = 1, inplace = True)"
   ]
  },
  {
   "cell_type": "code",
   "execution_count": null,
   "id": "39773d60-b4c6-484a-a02e-a12106ad7fa7",
   "metadata": {},
   "outputs": [],
   "source": [
    "NON_AKI_matched_DX_df = append_comorbidities(NON_AKI_matched_ids, NON_AKI_DX_df, \n",
    "                                             reversed_Comorbidities_dict, pat_id_cols)"
   ]
  },
  {
   "cell_type": "code",
   "execution_count": null,
   "id": "c9c03ed3-e2ce-4d4e-b52e-d738347fb29f",
   "metadata": {
    "tags": []
   },
   "outputs": [],
   "source": [
    "# those who do not have records we set their comorbidities to False\n",
    "NON_AKI_matched_DX_df.loc[:, comorbidity_cols] = NON_AKI_matched_DX_df.loc[:, comorbidity_cols].fillna(False)"
   ]
  },
  {
   "cell_type": "markdown",
   "id": "35c93c0d-6eaf-4459-9fef-7edb948c67a4",
   "metadata": {},
   "source": [
    "# Screening by Scoring on Comorbidities"
   ]
  },
  {
   "cell_type": "code",
   "execution_count": null,
   "id": "7901764a-3641-4f83-adb3-41d47fe4724d",
   "metadata": {
    "tags": []
   },
   "outputs": [],
   "source": [
    "NON_AKI_matched_df = NON_AKI_matched_df.merge(NON_AKI_matched_DX_df[pat_id_cols + comorbidity_cols],\n",
    "                                             on = pat_id_cols, how = \"...\")"
   ]
  },
  {
   "cell_type": "code",
   "execution_count": null,
   "id": "fc1731ff-a106-4ebb-a8f5-c29c62ccd97d",
   "metadata": {
    "tags": []
   },
   "outputs": [],
   "source": [
    "AKI_df_for_merge = AKI_df[pat_id_cols + comorbidity_cols].copy(deep = True)"
   ]
  },
  {
   "cell_type": "code",
   "execution_count": null,
   "id": "d3f99983-ef51-423a-9346-dd5ec18fc22c",
   "metadata": {
    "tags": []
   },
   "outputs": [],
   "source": [
    "AKI_df_for_merge.columns = [\"...\" + col for col in AKI_df_for_merge.columns]"
   ]
  },
  {
   "cell_type": "code",
   "execution_count": null,
   "id": "d2f50769-c3a9-49f3-9200-840ce4faa373",
   "metadata": {
    "tags": []
   },
   "outputs": [],
   "source": [
    "AKI_NON_AKI_matched_df = NON_AKI_matched_df.merge(AKI_df_for_merge, \n",
    "                                                  on = [\"...\", \"...\", \"...\"], \n",
    "                                                  how = \"...\")"
   ]
  },
  {
   "cell_type": "code",
   "execution_count": null,
   "id": "0c8ab68f-d9f5-4dfb-9591-9bbd55de3a69",
   "metadata": {},
   "outputs": [],
   "source": [
    "comorbidity_socre_dict = {\n",
    "    \"...\": 4,\n",
    "    \"...\": 4,\n",
    "    \"...\": 4,\n",
    "    \"...\": 4,\n",
    "    \"...\": 4,\n",
    "    \"...\": 1,\n",
    "    \"...\": 2,\n",
    "    \"...\": 1,\n",
    "    \"...\": 2,\n",
    "    \"...\": 1,\n",
    "    \"...\": 1,\n",
    "    \"...\": 2,\n",
    "    \"...\": 2,\n",
    "    \"...\": 1,\n",
    "    \"...\": 1,\n",
    "    \"...\": 1,\n",
    "    \"...\": 2,\n",
    "    \"...\": 2, \n",
    "}"
   ]
  },
  {
   "cell_type": "code",
   "execution_count": null,
   "id": "0100a95d-6162-4c84-8827-9d81e1bafe58",
   "metadata": {},
   "outputs": [],
   "source": [
    "def score_each_patient_pair(row, comorbidity_socre_dict):\n",
    "    score = 0\n",
    "    for k, v in comorbidity_socre_dict.items():\n",
    "        if (row[k] == True) and (row[\"...\" + k] == True):\n",
    "            score += v\n",
    "        elif (row[k] == False) and (row[\"...\" + k] == False):\n",
    "            score += 0\n",
    "        else:\n",
    "            score -= v\n",
    "    return score"
   ]
  },
  {
   "cell_type": "code",
   "execution_count": null,
   "id": "3bbbb5a5-7581-45b6-a520-73c131660222",
   "metadata": {
    "tags": []
   },
   "outputs": [],
   "source": [
    "AKI_NON_AKI_matched_df[\"...\"] = AKI_NON_AKI_matched_df.progress_apply(score_each_patient_pair, \n",
    "                                                                 args = (comorbidity_socre_dict,), axis = 1)"
   ]
  },
  {
   "cell_type": "markdown",
   "id": "a96ffc67-d455-48c0-8de1-2fb45d6b4b94",
   "metadata": {},
   "source": [
    "# Pick the Highest Matching Score without Replacement"
   ]
  },
  {
   "cell_type": "code",
   "execution_count": null,
   "id": "4eb17fe2-7766-4df6-bd13-27a723dc2b87",
   "metadata": {
    "tags": []
   },
   "outputs": [],
   "source": [
    "# Step 1: sort by scores \n",
    "AKI_NON_AKI_matched_df = AKI_NON_AKI_matched_df.sort_values(by=[\"...\", \"...\", \"...\", \"...\"], \n",
    "                                                            ascending=[True, True, True, False])\n",
    "\n",
    "# create a set to save those used PATID\n",
    "selected_patids = set()\n",
    "# save the picked rows\n",
    "final_rows = []\n",
    "\n",
    "# Step 2: process each group \n",
    "for _, group in tqdm(AKI_NON_AKI_matched_df.groupby([\"...\", \"...\", \"...\"])):\n",
    "    selected_row = None\n",
    "\n",
    "    for idx, row in group.iterrows():\n",
    "        # Step 3: if this row was not chosen\n",
    "        if row[\"...\"] not in selected_patids:\n",
    "            selected_row = row\n",
    "            selected_patids.add(row[\"...\"])\n",
    "            break\n",
    "\n",
    "    # Step 4: if non matched, just pick the highest score one\n",
    "    if selected_row is None:\n",
    "        selected_row = group.iloc[0]\n",
    "\n",
    "    final_rows.append(selected_row)\n",
    "\n",
    "AKI_best_match = pd.DataFrame(final_rows)"
   ]
  },
  {
   "cell_type": "code",
   "execution_count": null,
   "id": "8074268a-3e7b-48b2-8df2-5cd13edab27e",
   "metadata": {
    "tags": []
   },
   "outputs": [],
   "source": [
    "# fill in those columns that is not aligned with AKI_df\n",
    "from B_Data_Preprocessing import calculate_ckd_epi\n",
    "%store -r window_full"
   ]
  },
  {
   "cell_type": "code",
   "execution_count": null,
   "id": "f6002594-dc19-4896-9886-f708950dcf72",
   "metadata": {
    "tags": []
   },
   "outputs": [],
   "source": [
    "AKI_best_match[window_full] = np.NaN\n",
    "AKI_best_match[\"...\"] = (AKI_best_match[\"...\"] - AKI_best_match[\"...\"]).dt.days\n",
    "AKI_best_match[\"...\"] = AKI_best_match.apply(calculate_ckd_epi, axis = 1)\n",
    "\n",
    "# we want the Non-AKI cluster to be the base, thus change the AKI_df cluster\n",
    "AKI_best_match[\"...\"] = AKI_best_match[\"...\"]\n",
    "n_clusters = len(AKI_df.CLUSTERS.unique())\n",
    "AKI_df[\"...\"] = AKI_df[\"...\"] + n_clusters"
   ]
  },
  {
   "cell_type": "code",
   "execution_count": null,
   "id": "6217484c-b6c5-4a14-b103-4e50c8994546",
   "metadata": {
    "tags": []
   },
   "outputs": [],
   "source": [
    "Non_AKI_final_df = AKI_best_match.loc[:, AKI_df.columns]"
   ]
  },
  {
   "cell_type": "code",
   "execution_count": null,
   "id": "1c1a3776-9591-41b1-98fb-14f5e2abd475",
   "metadata": {
    "tags": []
   },
   "outputs": [],
   "source": [
    "all_patients_df = pd.concat([AKI_df, Non_AKI_final_df], axis = 0)"
   ]
  },
  {
   "cell_type": "code",
   "execution_count": null,
   "id": "0bc18488-c55b-49d0-9391-d1d1df8ea1b9",
   "metadata": {
    "tags": []
   },
   "outputs": [],
   "source": [
    "all_patients_df.reset_index(drop = True, inplace = True)"
   ]
  },
  {
   "cell_type": "markdown",
   "id": "082b92d1-0fcc-47ba-b95e-d9bb6b11645a",
   "metadata": {},
   "source": [
    "# Sanity Check of Final DataFrame and Save"
   ]
  },
  {
   "cell_type": "code",
   "execution_count": null,
   "id": "1832f5af-582b-4ac5-be79-a70afa7adc76",
   "metadata": {
    "tags": []
   },
   "outputs": [],
   "source": [
    "all_patients_df.to_csv(\"...\", index = False)"
   ]
  },
  {
   "cell_type": "code",
   "execution_count": null,
   "id": "f7dc092f-9c62-4c09-9585-2147f3fb9920",
   "metadata": {
    "tags": []
   },
   "outputs": [],
   "source": [
    "all_patients_df"
   ]
  },
  {
   "cell_type": "code",
   "execution_count": null,
   "id": "fd75a993-c680-4a1d-b936-69768360e841",
   "metadata": {
    "tags": []
   },
   "outputs": [],
   "source": [
    "all_patients_df.CLUSTERS.value_counts()"
   ]
  }
 ],
 "metadata": {
  "kernelspec": {
   "display_name": "AKI_subphenotyping",
   "language": "python",
   "name": "aki_subphenotyping"
  },
  "language_info": {
   "codemirror_mode": {
    "name": "ipython",
    "version": 3
   },
   "file_extension": ".py",
   "mimetype": "text/x-python",
   "name": "python",
   "nbconvert_exporter": "python",
   "pygments_lexer": "ipython3",
   "version": "3.11.5"
  }
 },
 "nbformat": 4,
 "nbformat_minor": 5
}
