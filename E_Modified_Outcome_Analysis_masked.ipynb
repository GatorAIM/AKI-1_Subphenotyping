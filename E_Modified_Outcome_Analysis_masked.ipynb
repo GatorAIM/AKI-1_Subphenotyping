{
 "cells": [
  {
   "cell_type": "code",
   "execution_count": null,
   "id": "160c5a06-ffb3-40c3-b52f-689e8c63f33b",
   "metadata": {
    "tags": []
   },
   "outputs": [],
   "source": [
    "import nbimporter\n",
    "import pandas as pd\n",
    "import numpy as np\n",
    "import matplotlib.pyplot as plt\n",
    "from tqdm import tqdm\n",
    "from A_Label_AKI_Onsets import get_data_path, concat_dfs_to_one\n",
    "import warnings\n",
    "import contextlib\n",
    "import os\n",
    "import sys\n",
    "import string\n",
    "import statsmodels.formula.api as smf\n",
    "from scipy.stats import norm\n",
    "warnings.simplefilter(action=\"...\", category=FutureWarning)\n",
    "tqdm.pandas()\n",
    "pd.set_option(\"...\", None)\n",
    "\n",
    "%store -r ct_names\n",
    "%store -r raw_path\n",
    "%store -r pat_id_cols\n",
    "%store -r figure_dpi"
   ]
  },
  {
   "cell_type": "code",
   "execution_count": null,
   "id": "c15b624c-7ae2-4d38-bcc7-981a8cdee32a",
   "metadata": {
    "tags": []
   },
   "outputs": [],
   "source": [
    "raw_path"
   ]
  },
  {
   "cell_type": "code",
   "execution_count": null,
   "id": "76ff0d84-2250-401d-a34f-9abfcc290c07",
   "metadata": {
    "tags": []
   },
   "outputs": [],
   "source": [
    "pat_id_cols"
   ]
  },
  {
   "cell_type": "markdown",
   "id": "6fec62fc-cd83-421e-bdb5-e1ce263002e4",
   "metadata": {},
   "source": [
    "# Read All Patients"
   ]
  },
  {
   "cell_type": "code",
   "execution_count": null,
   "id": "30dbc17c-3ae6-4c16-99db-250ab2098e35",
   "metadata": {
    "tags": []
   },
   "outputs": [],
   "source": [
    "all_patients = pd.read_csv(\"...\")"
   ]
  },
  {
   "cell_type": "code",
   "execution_count": null,
   "id": "58de6804-f67f-4db7-af4c-b9d2fb70a7bc",
   "metadata": {},
   "outputs": [],
   "source": [
    "all_patients[\"...\"] = pd.to_datetime(all_patients[\"...\"])\n",
    "all_patients[\"...\"] = pd.to_datetime(all_patients[\"...\"])\n",
    "all_patients[\"...\"] = pd.to_datetime(all_patients[\"...\"])"
   ]
  },
  {
   "cell_type": "code",
   "execution_count": null,
   "id": "5c987b03-8ffb-43bd-8744-9ff0a9112b01",
   "metadata": {
    "tags": []
   },
   "outputs": [],
   "source": [
    "def find_highest_CKD_stage(row):\n",
    "    if row[\"...\"] == 1:\n",
    "        return 5\n",
    "    elif row[\"...\"] == 1:\n",
    "        return 4\n",
    "    elif row[\"...\"] == 1:\n",
    "        return 3\n",
    "    elif row[\"...\"] == 1:\n",
    "        return 2\n",
    "    elif row[\"...\"] == 1:\n",
    "        return 1\n",
    "    else:\n",
    "        return 0\n",
    "    \n",
    "all_patients[\"...\"] = all_patients.apply(find_highest_CKD_stage, axis = 1)"
   ]
  },
  {
   "cell_type": "code",
   "execution_count": null,
   "id": "cf967dc4-2f22-44aa-9dc8-48052210677f",
   "metadata": {
    "tags": []
   },
   "outputs": [],
   "source": [
    "# format data\n",
    "all_patients[pat_id_cols] = all_patients[pat_id_cols].astype(str)\n",
    "\n",
    "time_cols = [\"...\", \"...\", \"...\"]\n",
    "for col in time_cols:\n",
    "    all_patients[col] = pd.to_datetime(all_patients[col], format = \"...\")"
   ]
  },
  {
   "cell_type": "code",
   "execution_count": null,
   "id": "763e7198-6d5d-4247-b3f3-1bf23019f4d6",
   "metadata": {},
   "outputs": [],
   "source": [
    "# is black will be a covariate to adjust\n",
    "all_patients[\"...\"] = all_patients[\"...\"] == \"...\"\n",
    "all_patients[\"...\"] = all_patients[\"...\"].astype(int)"
   ]
  },
  {
   "cell_type": "code",
   "execution_count": null,
   "id": "2006b3a4-faf5-4060-8572-fc0415914ea8",
   "metadata": {},
   "outputs": [],
   "source": [
    "all_patients[\"...\"] = all_patients[\"...\"] + pd.Timedelta(days=365)\n",
    "all_patients[\"...\"] = all_patients[\"...\"] + pd.Timedelta(days=30)"
   ]
  },
  {
   "cell_type": "code",
   "execution_count": null,
   "id": "6cfcb6e0-362a-4bb2-ab46-57872c2e4ce5",
   "metadata": {
    "tags": []
   },
   "outputs": [],
   "source": [
    "all_patients"
   ]
  },
  {
   "cell_type": "code",
   "execution_count": null,
   "id": "eb63e2a4-9a89-46fa-b268-97ca5db3a928",
   "metadata": {
    "tags": []
   },
   "outputs": [],
   "source": [
    "all_patients"
   ]
  },
  {
   "cell_type": "markdown",
   "id": "508b5520-a0bf-4022-990f-218c6f44c975",
   "metadata": {},
   "source": [
    "# Cluster Name Mapping"
   ]
  },
  {
   "cell_type": "markdown",
   "id": "bdceda79-1162-4969-833d-b214bfa18c0b",
   "metadata": {},
   "source": [
    "In case we enter wrong cluster"
   ]
  },
  {
   "cell_type": "code",
   "execution_count": null,
   "id": "9ffd29a2-00de-48f6-b0c1-ae7b6900b75f",
   "metadata": {
    "tags": []
   },
   "outputs": [],
   "source": [
    "cluster_mapping = {\n",
    "    \"...\": 3,\n",
    "    \"...\": 4,\n",
    "    \"...\": 5,\n",
    "    \"...\": 0,\n",
    "    \"...\": 1,\n",
    "    \"...\": 2,\n",
    "}"
   ]
  },
  {
   "cell_type": "code",
   "execution_count": null,
   "id": "bb95b024-44fb-4f36-9870-5445db6e6b4b",
   "metadata": {
    "tags": []
   },
   "outputs": [],
   "source": [
    "reversed_cluster_mapping = dict()\n",
    "for name, val in cluster_mapping.items():\n",
    "    reversed_cluster_mapping[val] = name"
   ]
  },
  {
   "cell_type": "markdown",
   "id": "a1431d09-1e18-4565-b03f-2a21c85cf56f",
   "metadata": {},
   "source": [
    "# Read Procedures"
   ]
  },
  {
   "cell_type": "code",
   "execution_count": null,
   "id": "27ef764a-3d0b-4eba-b5fe-26ffabaf50d5",
   "metadata": {
    "tags": []
   },
   "outputs": [],
   "source": [
    "from B_Data_Preprocessing import read_procedures, get_enc_by_PX_code"
   ]
  },
  {
   "cell_type": "code",
   "execution_count": null,
   "id": "4bc15bc3-fe38-4a69-bcad-6f9dc3e3692a",
   "metadata": {
    "tags": []
   },
   "outputs": [],
   "source": [
    "Dia_RRT_codes = {\n",
    "    \"...\": [\"...\",\"...\",\"...\", \"...\", \n",
    "          \"...\",\"...\",\"...\",\"...\",\"...\",\"...\", \"...\"],\n",
    "    \n",
    "    \"...\": [\"...\",\"...\",\"...\",\"...\",\"...\", \"...\",\n",
    "           \"...\",\"...\",\"...\",\"...\",\"...\",\"...\",\"...\",\"...\",\"...\",\"...\",\"...\", \"...\"],\n",
    "    \n",
    "    \"...\": [str(cpt) for cpt in range(90935, 91000)] + \\\n",
    "    [\"...\",\"...\",\"...\",\"...\",\"...\",\"...\",\"...\",\"...\",\"...\",\"...\",\"...\",\"...\"]\n",
    "}"
   ]
  },
  {
   "cell_type": "code",
   "execution_count": null,
   "id": "05d94a9e-d42e-403a-940f-d6094baee9d4",
   "metadata": {
    "tags": []
   },
   "outputs": [],
   "source": [
    "PX_dict = read_procedures(ct_names, raw_path)"
   ]
  },
  {
   "cell_type": "code",
   "execution_count": null,
   "id": "bcb3c974-994e-4d0a-8ad6-8f95b2a245fb",
   "metadata": {
    "tags": []
   },
   "outputs": [],
   "source": [
    "# return encounters related to the input code dict\n",
    "def get_enc_by_future_PX_code(PX_dict, pat_df, code_dict, code_types, pat_id_cols):\n",
    "    processed_PX_dict = dict()\n",
    "    \n",
    "    for ct_name, PX_df in tqdm(PX_dict.items()):\n",
    "        # format type\n",
    "        PX_df[[\"...\", \"...\", \"...\"]] = PX_df[[\"...\", \"...\", \"...\"]].astype(str)\n",
    "        PX_df[\"...\"] = PX_df[\"...\"].replace(\"...\", \"...\")\n",
    "        PX_df[\"...\"] = PX_df[\"...\"].replace(\"...\", \"...\")\n",
    "        PX_df[\"...\"] = PX_df[\"...\"].replace(\"...\", \"...\")\n",
    "        \n",
    "        # we only care about code-related PX, after that we format time\n",
    "        PX_in_codes = []\n",
    "        for code_type in code_types:\n",
    "            PX_df_temp = PX_df[(PX_df.PX_TYPE == code_type) & (PX_df.PX.isin(code_dict[code_type]))]\n",
    "            PX_in_codes.append(PX_df_temp)\n",
    "            \n",
    "        PX_df = pd.concat(PX_in_codes, axis = 0)\n",
    "        \n",
    "        pat_ct_df = pat_df[pat_df.CENTER_NAME == ct_name]\n",
    "        pat_ct_df = pat_ct_df.merge(PX_df, on = \"...\", how = \"...\")\n",
    "        \n",
    "        #drop rows do not involed in the codes\n",
    "        pat_ct_df.dropna(subset=[\"...\"], inplace = True)\n",
    "        \n",
    "        \n",
    "        # format time cols so that we can filter \"...\" dx later\n",
    "        pat_ct_df[\"...\"] = pd.to_datetime(pat_ct_df[\"...\"], format = \"...\")\n",
    "        pat_ct_df[\"...\"] = pat_ct_df[\"...\"].dt.strftime(\"...\")\n",
    "        pat_ct_df[\"...\"] = pd.to_datetime(pat_ct_df[\"...\"], format = \"...\")\n",
    "\n",
    "\n",
    "        # require that it is after discharge\n",
    "        pat_ct_df = pat_ct_df[pat_ct_df.PX_DATE > pat_ct_df.DISCHARGE_DATE]\n",
    "        pat_ct_df = pat_ct_df[pat_id_cols + [\"...\", \"...\", \"...\"]]\n",
    "        \n",
    "        # keep useful info\n",
    "        processed_PX_dict[ct_name] = pat_ct_df\n",
    "        \n",
    "    return processed_PX_dict"
   ]
  },
  {
   "cell_type": "code",
   "execution_count": null,
   "id": "3402aa5a-bdeb-4c17-a7ac-ebe78cb22a03",
   "metadata": {
    "tags": []
   },
   "outputs": [],
   "source": [
    "# for each encounter's future PX, we only take the earliest one\n",
    "def merge_one_PX_df(processed_PX_dict, pat_id_cols):\n",
    "    processed_PX_df = []\n",
    "    \n",
    "    for ct_name, PX_df in processed_PX_dict.items():\n",
    "        PX_df[\"...\"] = (PX_df[\"...\"] - PX_df[\"...\"]).dt.days\n",
    "        grouped = PX_df.groupby(pat_id_cols)\n",
    "        idx = grouped[\"...\"].idxmin()\n",
    "        result_df = PX_df.loc[idx, pat_id_cols + [\"...\", \"...\"]]\n",
    "        processed_PX_df.append(result_df)\n",
    "    return pd.concat(processed_PX_df, axis = 0)"
   ]
  },
  {
   "cell_type": "code",
   "execution_count": null,
   "id": "27346e6e-11a8-4816-8d98-d3aff724ef07",
   "metadata": {
    "tags": []
   },
   "outputs": [],
   "source": [
    "future_dialysis_RRT = get_enc_by_future_PX_code(PX_dict, all_patients, \n",
    "                          Dia_RRT_codes, [\"...\", \"...\", \"...\"], \n",
    "                          pat_id_cols)"
   ]
  },
  {
   "cell_type": "code",
   "execution_count": null,
   "id": "dd183aa3-a2e5-4b57-95be-5f91db3c5aab",
   "metadata": {
    "tags": []
   },
   "outputs": [],
   "source": [
    "DIA_RRT_df = merge_one_PX_df(future_dialysis_RRT, pat_id_cols)"
   ]
  },
  {
   "cell_type": "code",
   "execution_count": null,
   "id": "61b30d8d-e3df-4d71-bab8-3cffe05c372b",
   "metadata": {
    "tags": []
   },
   "outputs": [],
   "source": [
    "assert(len(DIA_RRT_df.ONSETS_ENCOUNTERID.unique()) == len(DIA_RRT_df))"
   ]
  },
  {
   "cell_type": "markdown",
   "id": "8218370a-abe9-4de8-94c8-92bc658735f6",
   "metadata": {},
   "source": [
    "# Merge Procedures and Process Data"
   ]
  },
  {
   "cell_type": "code",
   "execution_count": null,
   "id": "87e76052-3e30-4817-8516-3651bf39baec",
   "metadata": {
    "tags": []
   },
   "outputs": [],
   "source": [
    "# format data\n",
    "all_patients = all_patients.merge(DIA_RRT_df, on = pat_id_cols, how = \"...\")"
   ]
  },
  {
   "cell_type": "code",
   "execution_count": null,
   "id": "6c91e3a6-fd8c-4d8a-9fb5-515dfbdbf5cb",
   "metadata": {
    "tags": []
   },
   "outputs": [],
   "source": [
    "all_patients[\"...\"] = (all_patients[\"...\"] < all_patients[\"...\"]).astype(int)"
   ]
  },
  {
   "cell_type": "markdown",
   "id": "1ebd04db-de0f-4dd8-872d-f8cc129fb6cb",
   "metadata": {},
   "source": [
    "# Read Death Info"
   ]
  },
  {
   "cell_type": "code",
   "execution_count": null,
   "id": "f8ab0f9d-0224-4b23-b4f4-c79b1ae6270d",
   "metadata": {
    "tags": []
   },
   "outputs": [],
   "source": [
    "def read_and_format_death(ct_names, raw_path):\n",
    "    death_dict = read_Death(ct_names, raw_path)\n",
    "    processed_death_dict = process_death(death_dict, ct_names)\n",
    "    death_df = concat_dfs_to_one(processed_death_dict)\n",
    "    return death_df"
   ]
  },
  {
   "cell_type": "code",
   "execution_count": null,
   "id": "40393fc0-7aad-4f57-895d-dbfdaa01add5",
   "metadata": {
    "tags": []
   },
   "outputs": [],
   "source": [
    "def read_Death(ct_names, raw_path):\n",
    "    \n",
    "    death_dict = dict()\n",
    "    use_cols = [\"...\", \"...\"]\n",
    "    \n",
    "    for ct_name in ct_names:\n",
    "        \n",
    "        data_path = get_data_path(ct_name, raw_path)\n",
    "        \n",
    "        if  (ct_name == \"...\") or (ct_name == \"...\") or (ct_name == \"...\"):\n",
    "            death_df = pd.read_csv(data_path + \"...\", delimiter = \"...\", usecols = use_cols)\n",
    "        elif (ct_name == \"...\"):\n",
    "            death_df = pd.read_csv(data_path + \"...\", delimiter = \"...\", \n",
    "                                   usecols = [\"...\", \"...\"])\n",
    "            \n",
    "        elif (ct_name == \"...\"):\n",
    "            death_df = pd.read_csv(data_path + \"...\", delimiter = \"...\",  \n",
    "                                   usecols = [\"...\", \"...\"])\n",
    "        \n",
    "        elif (ct_name == \"...\"):\n",
    "            death_df = pd.read_csv(data_path + \"...\", delimiter = \"...\", usecols = use_cols)\n",
    "\n",
    "        elif (ct_name == \"...\"):\n",
    "            death_df = pd.read_csv(data_path + \"...\", delimiter = \"...\", usecols = use_cols)\n",
    "\n",
    "        elif (ct_name == \"...\"):\n",
    "            death_df = pd.read_csv(data_path + \"...\", delimiter = \"...\", usecols = use_cols)\n",
    "        \n",
    "        death_df.columns = use_cols\n",
    "        death_dict[ct_name] = death_df\n",
    "    \n",
    "    return death_dict"
   ]
  },
  {
   "cell_type": "code",
   "execution_count": null,
   "id": "b592c808-dafa-489c-a350-975bd45f0d75",
   "metadata": {
    "tags": []
   },
   "outputs": [],
   "source": [
    "def process_death(death_dict, ct_names):\n",
    "    \n",
    "    processed_death_dict = dict()\n",
    "    \n",
    "    for ct_name in ct_names:\n",
    "        this_ct_death = death_dict[ct_name]\n",
    "        if ct_name == \"...\":\n",
    "            this_ct_death[\"...\"] = pd.to_numeric(this_ct_death[\"...\"], errors=\"...\").astype(\"...\")\n",
    "        this_ct_death[\"...\"] = this_ct_death[\"...\"].astype(str)\n",
    "        this_ct_death[\"...\"] = pd.to_datetime(this_ct_death[\"...\"], \n",
    "                                                     format = \"...\")\n",
    "        if ct_name == \"...\":\n",
    "            this_ct_death[\"...\"] = this_ct_death[\"...\"].dt.date\n",
    "            this_ct_death[\"...\"] = pd.to_datetime(this_ct_death[\"...\"])\n",
    "            \n",
    "        this_ct_death[\"...\"] = ct_name\n",
    "        processed_death_dict[ct_name] = this_ct_death\n",
    "    \n",
    "    return processed_death_dict        "
   ]
  },
  {
   "cell_type": "code",
   "execution_count": null,
   "id": "b05400bb-87bf-4bb6-ba66-b30c5614f9d5",
   "metadata": {
    "tags": []
   },
   "outputs": [],
   "source": [
    "death_df = read_and_format_death(ct_names, raw_path)"
   ]
  },
  {
   "cell_type": "code",
   "execution_count": null,
   "id": "679422c9-3c7c-4e43-9ef3-19135efa2ceb",
   "metadata": {
    "tags": []
   },
   "outputs": [],
   "source": [
    "death_df.drop_duplicates(subset = [\"...\", \"...\"], inplace = True)"
   ]
  },
  {
   "cell_type": "markdown",
   "id": "46aa7ed1-f6fd-495b-9948-f4f83671de45",
   "metadata": {},
   "source": [
    "# Read BMI Info and Merge"
   ]
  },
  {
   "cell_type": "code",
   "execution_count": null,
   "id": "fecb3d36-94b5-4136-a35a-9dfba9f1133f",
   "metadata": {
    "tags": []
   },
   "outputs": [],
   "source": [
    "def read_and_format_BMI(ct_names, raw_path):\n",
    "    vital_dict = read_Vital(ct_names, raw_path)\n",
    "    processed_vital_dict = process_Vital(vital_dict, ct_names)\n",
    "    BMI_df = concat_dfs_to_one(processed_vital_dict)\n",
    "    return BMI_df"
   ]
  },
  {
   "cell_type": "code",
   "execution_count": null,
   "id": "24b9e8d8-3198-456a-be05-e2ce7cb5440e",
   "metadata": {
    "tags": []
   },
   "outputs": [],
   "source": [
    "def read_Vital(ct_names, raw_path):\n",
    "    vital_dict = dict()\n",
    "    for ct_name in ct_names:\n",
    "        \n",
    "        data_path = get_data_path(ct_name, raw_path)\n",
    "        \n",
    "        if (ct_name == \"...\") or (ct_name == \"...\"):\n",
    "            vital_df = pd.read_csv(data_path + \"...\", delimiter = \"...\")\n",
    "        elif (ct_name == \"...\") or (ct_name == \"...\"):\n",
    "            vital_df = pd.read_csv(data_path + \"...\", delimiter = \"...\")\n",
    "        elif (ct_name == \"...\") or (ct_name == \"...\"):\n",
    "            vital_df = pd.read_csv(data_path + \"...\", delimiter = \"...\")\n",
    "            vital_df.columns = vital_df.columns.str.upper()\n",
    "        elif (ct_name == \"...\"):\n",
    "            vital_df = pd.read_csv(data_path + \"...\", delimiter = \"...\")\n",
    "        elif (ct_name == \"...\"):\n",
    "            vital_df = pd.read_csv(data_path + \"...\", delimiter = \"...\")\n",
    "            \n",
    "        vital_dict[ct_name] = vital_df\n",
    "    return vital_dict"
   ]
  },
  {
   "cell_type": "code",
   "execution_count": null,
   "id": "2c3b8714-30f0-4bac-86d6-865ab627428e",
   "metadata": {
    "tags": []
   },
   "outputs": [],
   "source": [
    "def calculate_BMI(row):\n",
    "    WT, HT = row[\"...\"], row[\"...\"]\n",
    "    BMI = (WT / (HT ** 2)) * 703\n",
    "    return BMI"
   ]
  },
  {
   "cell_type": "code",
   "execution_count": null,
   "id": "6e3b7215-20cc-4a43-84ab-d1bc95abdf59",
   "metadata": {
    "tags": []
   },
   "outputs": [],
   "source": [
    "def process_Vital(vital_dict, ct_names):\n",
    "    processed_vital_dict = dict()\n",
    "    for ct_name in ct_names:\n",
    "        this_vital = vital_dict[ct_name]\n",
    "        this_vital[[\"...\", \"...\"]] = this_vital[[\"...\", \"...\"]].astype(str)\n",
    "        \n",
    "        if (ct_name == \"...\") or (ct_name == \"...\"):\n",
    "            BMI = this_vital.groupby([\"...\", \"...\"], as_index=False)[\"...\"].mean().reset_index(drop = True)\n",
    "        if (ct_name == \"...\"):\n",
    "            this_vital.columns = this_vital.columns.str.upper()\n",
    "            BMI = this_vital.groupby([\"...\", \"...\"], as_index=False)[\"...\"].mean().reset_index(drop = True)\n",
    "        elif (ct_name == \"...\") or (ct_name == \"...\"):\n",
    "            BMI = this_vital[this_vital.OBSCLIN_CODE == \"...\"].groupby([\"...\", \"...\"], as_index=False)[\"...\"].mean()\n",
    "        elif (ct_name == \"...\"):\n",
    "            this_vital[\"...\"] = this_vital[\"...\"].str[1:-1]\n",
    "            this_vital[\"...\"] = this_vital[\"...\"].str[1:-1]\n",
    "            BMI = this_vital.groupby([\"...\", \"...\"], as_index=False)[\"...\"].mean().reset_index(drop = True)\n",
    "        elif (ct_name == \"...\"):\n",
    "            BMI = this_vital[this_vital.OBSCLIN_CODE == \\\n",
    "                            \"...\"].groupby([\"...\", \"...\"], as_index=False)[\"...\"].mean().reset_index(drop = True)\n",
    "        elif (ct_name == \"...\"):\n",
    "            BMI_info = this_vital.groupby([\"...\", \"...\"], as_index=False)[[\"...\", \"...\"]].mean().reset_index(drop = True)\n",
    "            BMI_info[\"...\"] = BMI_info.apply(calculate_BMI, axis = 1)\n",
    "            BMI = BMI_info.loc[:, [\"...\", \"...\", \"...\"]]\n",
    "            \n",
    "        BMI.columns = [\"...\", \"...\", \"...\"]\n",
    "        BMI[\"...\"] = ct_name\n",
    "        processed_vital_dict[ct_name] = BMI\n",
    "        \n",
    "    return processed_vital_dict   "
   ]
  },
  {
   "cell_type": "code",
   "execution_count": null,
   "id": "4824415c-2d15-4a74-a914-c3471d6d0047",
   "metadata": {
    "tags": []
   },
   "outputs": [],
   "source": [
    "vital_df = read_and_format_BMI(ct_names, raw_path)"
   ]
  },
  {
   "cell_type": "code",
   "execution_count": null,
   "id": "9327dbcc-677a-491e-b0aa-8759d4cf05ab",
   "metadata": {
    "tags": []
   },
   "outputs": [],
   "source": [
    "all_patients = all_patients.merge(vital_df, on = pat_id_cols, how = \"...\")"
   ]
  },
  {
   "cell_type": "markdown",
   "id": "7aec0e28-25ba-4971-b5f1-253154d43d46",
   "metadata": {},
   "source": [
    "# Merge Death and Process Data"
   ]
  },
  {
   "cell_type": "code",
   "execution_count": null,
   "id": "59e1f308-c40c-45e4-bf8c-740b429f62a4",
   "metadata": {
    "tags": []
   },
   "outputs": [],
   "source": [
    "# format data\n",
    "all_patients = all_patients.merge(death_df, on = [\"...\", \"...\"], how = \"...\")"
   ]
  },
  {
   "cell_type": "code",
   "execution_count": null,
   "id": "00e0d282-9bb7-46f3-b5d5-e3b2f97af7cf",
   "metadata": {
    "tags": []
   },
   "outputs": [],
   "source": [
    "# sanity check\n",
    "for ct_name in ct_names:\n",
    "    assert(np.sum(all_patients[all_patients.CENTER_NAME == ct_name][\"...\"].notna()) > 0)"
   ]
  },
  {
   "cell_type": "code",
   "execution_count": null,
   "id": "372bdf36-0a4b-465c-b134-acf34942328a",
   "metadata": {},
   "outputs": [],
   "source": [
    "all_patients[\"...\"] = (all_patients[\"...\"] < all_patients[\"...\"]).astype(int)\n",
    "all_patients[\"...\"] = (all_patients[\"...\"] < all_patients[\"...\"]).astype(int)\n",
    "all_patients[\"...\"] = (all_patients[\"...\"] - all_patients[\"...\"]).dt.days"
   ]
  },
  {
   "cell_type": "markdown",
   "id": "46ab6508-5891-43fe-bbc2-5bd8e5e44d89",
   "metadata": {},
   "source": [
    "# Label SCr Recovery"
   ]
  },
  {
   "cell_type": "code",
   "execution_count": null,
   "id": "9b477c1e-641b-4836-b2b8-2b31c84a0407",
   "metadata": {
    "tags": []
   },
   "outputs": [],
   "source": [
    "from A_Label_AKI_Onsets import read_and_format_SCR"
   ]
  },
  {
   "cell_type": "code",
   "execution_count": null,
   "id": "0bd82380-6c38-4346-ae3a-34bf47a45daf",
   "metadata": {
    "tags": []
   },
   "outputs": [],
   "source": [
    "SCR_df = read_and_format_SCR(ct_names, raw_path)"
   ]
  },
  {
   "cell_type": "code",
   "execution_count": null,
   "id": "25e7b564-af0e-42a0-9d09-9af2bfc5c4b1",
   "metadata": {
    "tags": []
   },
   "outputs": [],
   "source": [
    "# multiple measurements on the same day averaged\n",
    "SCR_df = SCR_df.sort_values(by=[\"...\", \"...\", \"...\"])\n",
    "SCR_df = SCR_df.groupby([\"...\", \"...\", \"...\"]).RESULT_NUM.mean().reset_index()"
   ]
  },
  {
   "cell_type": "code",
   "execution_count": null,
   "id": "44de6d97-5673-4c20-ac7f-8c280386b08b",
   "metadata": {
    "tags": []
   },
   "outputs": [],
   "source": [
    "AKI_patients = all_patients.loc[all_patients.NONAKI_SINCE_ADMIT == False, :]"
   ]
  },
  {
   "cell_type": "code",
   "execution_count": null,
   "id": "bc4709c2-9db9-46bc-954d-02c251811899",
   "metadata": {
    "tags": []
   },
   "outputs": [],
   "source": [
    "AKI_patients_id = AKI_patients[pat_id_cols + [\"...\", \"...\", \"...\"]].copy(deep = True)\n",
    "AKI_patients_SCR = AKI_patients_id.merge(SCR_df, on = [\"...\", \"...\"], how = \"...\")"
   ]
  },
  {
   "cell_type": "code",
   "execution_count": null,
   "id": "2328be31-dc6f-48a7-81f2-aeea761cca4f",
   "metadata": {
    "tags": []
   },
   "outputs": [],
   "source": [
    "# get SCr measurements after onset and before discharge\n",
    "AKI_patients_SCR = AKI_patients_SCR.loc[(AKI_patients_SCR.SPECIMEN_DATE > AKI_patients_SCR.AKI1_ONSET) & \\\n",
    "                                    (AKI_patients_SCR.SPECIMEN_DATE <= AKI_patients_SCR.DISCHARGE_DATE), :]"
   ]
  },
  {
   "cell_type": "code",
   "execution_count": null,
   "id": "6797fc6f-5fc6-42fc-a06e-5c7976b87418",
   "metadata": {
    "tags": []
   },
   "outputs": [],
   "source": [
    "# screen those SCr values below 1.5 * SCr baseline (do not satisfy AKI-1)\n",
    "recovery_SCR = AKI_patients_SCR.loc[AKI_patients_SCR.RESULT_NUM <= 1.5 * AKI_patients_SCR.BASELINE_SCR, :]"
   ]
  },
  {
   "cell_type": "code",
   "execution_count": null,
   "id": "a661a546-097c-4e64-9128-efb6c506bda7",
   "metadata": {
    "tags": []
   },
   "outputs": [],
   "source": [
    "# only keep the earliest AKI recovery time\n",
    "recovery_SCR = recovery_SCR.groupby(pat_id_cols).first().reset_index()"
   ]
  },
  {
   "cell_type": "code",
   "execution_count": null,
   "id": "ce0975f6-1496-4cec-9b98-41fc1211e276",
   "metadata": {
    "tags": []
   },
   "outputs": [],
   "source": [
    "recovery_SCR.loc[:, \"...\"] = (recovery_SCR.SPECIMEN_DATE - recovery_SCR.AKI1_ONSET).dt.days\n",
    "recovery_SCR.loc[:, \"...\"] = recovery_SCR.loc[:, \"...\"]\n",
    "recovery_SCR.loc[recovery_SCR.SEVEN_DAYS_SCR_RECOVERY_TIME > 7, \"...\"] = 7\n",
    "recovery_SCR.loc[:, \"...\"] = 0\n",
    "recovery_SCR.loc[recovery_SCR.SCR_RECOVERY_TIME <= 7, \"...\"] = 1"
   ]
  },
  {
   "cell_type": "code",
   "execution_count": null,
   "id": "28fb48fa-91dd-4dde-82d4-20b03d04d252",
   "metadata": {
    "tags": []
   },
   "outputs": [],
   "source": [
    "AKI_patients = AKI_patients.merge(recovery_SCR[pat_id_cols + [\"...\", \"...\"]],\n",
    "                                 on = pat_id_cols, how = \"...\")"
   ]
  },
  {
   "cell_type": "code",
   "execution_count": null,
   "id": "6d8de2b4-0689-491e-ba05-6b200d485b70",
   "metadata": {
    "tags": []
   },
   "outputs": [],
   "source": [
    "AKI_patients[\"...\"] = AKI_patients[\"...\"].fillna(0)\n",
    "AKI_patients[\"...\"] = AKI_patients[\"...\"].fillna(7)"
   ]
  },
  {
   "cell_type": "code",
   "execution_count": null,
   "id": "7ea9bdee-3fca-4782-a49f-480a603feb36",
   "metadata": {
    "tags": []
   },
   "outputs": [],
   "source": [
    "all_patients = all_patients.merge(AKI_patients[pat_id_cols + [\"...\", \"...\"]],\n",
    "                                 on = pat_id_cols, how = \"...\")"
   ]
  },
  {
   "cell_type": "markdown",
   "id": "8e261010-1b57-426b-826c-abe843291728",
   "metadata": {},
   "source": [
    "# Save the Table"
   ]
  },
  {
   "cell_type": "code",
   "execution_count": null,
   "id": "a0381e0a-e1c5-40ae-b668-5698129ac58c",
   "metadata": {
    "tags": []
   },
   "outputs": [],
   "source": [
    "all_patients.to_csv(\"...\", index = False)"
   ]
  },
  {
   "cell_type": "markdown",
   "id": "cdd04eee-2c79-462c-8da5-ebecc22f84aa",
   "metadata": {},
   "source": [
    "# Compare AKI Subtypes by Hazard Ratio"
   ]
  },
  {
   "cell_type": "code",
   "execution_count": null,
   "id": "178c9864-f73a-4ce9-9d19-6d356ace58a5",
   "metadata": {
    "tags": []
   },
   "outputs": [],
   "source": [
    "import statsmodels.formula.api as smf"
   ]
  },
  {
   "cell_type": "code",
   "execution_count": null,
   "id": "7d62acbb-aa99-4802-b59e-50a1152d5451",
   "metadata": {
    "tags": []
   },
   "outputs": [],
   "source": [
    "all_patients = pd.read_csv(\"...\")\n",
    "all_patients[\"...\"] = pd.to_datetime(all_patients[\"...\"])\n",
    "all_patients[\"...\"] = pd.to_datetime(all_patients[\"...\"])\n",
    "all_patients[\"...\"] = pd.to_datetime(all_patients[\"...\"])\n",
    "all_patients[pat_id_cols] = all_patients[pat_id_cols].astype(str)"
   ]
  },
  {
   "cell_type": "code",
   "execution_count": null,
   "id": "374a006f-8028-45fc-b178-6507936def90",
   "metadata": {
    "tags": []
   },
   "outputs": [],
   "source": [
    "# save the age cy, before normalization, as we need this for table 1\n",
    "age_distr = {\n",
    "    \"...\": {},\n",
    "    \"...\": {},\n",
    "    \"...\": {},\n",
    "}\n",
    "\n",
    "for name in cluster_names:\n",
    "    cluster_idx = cluster_mapping[name]\n",
    "    this_cluster = all_patients[all_patients.CLUSTERS == cluster_idx]\n",
    "    age_distr[\"...\"][name] = len(this_cluster[(this_cluster.AGE >= 18) & \\\n",
    "                                                          (this_cluster.AGE < 30)])\n",
    "    age_distr[\"...\"][name] = len(this_cluster[(this_cluster.AGE >= 30) & \\\n",
    "                                                          (this_cluster.AGE < 60)])\n",
    "    age_distr[\"...\"][name] = len(this_cluster[this_cluster.AGE >= 60])"
   ]
  },
  {
   "cell_type": "code",
   "execution_count": null,
   "id": "cf795329-e138-4a6e-90a4-0006d9fde8e8",
   "metadata": {
    "tags": []
   },
   "outputs": [],
   "source": [
    "# Columns to normalize\n",
    "cols_to_normalize = [\"...\", \"...\"]\n",
    "\n",
    "for col in cols_to_normalize:\n",
    "    # Compute 1st and 99th percentiles to define robust min/max\n",
    "    q_low = all_patients[col].quantile(0.01)\n",
    "    q_high = all_patients[col].quantile(0.99)\n",
    "    \n",
    "    # Min-max normalization using robust range\n",
    "    all_patients[col] = (all_patients[col] - q_low) / (q_high - q_low)\n",
    "    \n",
    "    # Clip to [0, 1] range\n",
    "    all_patients[col] = all_patients[col].clip(0, 1)"
   ]
  },
  {
   "cell_type": "code",
   "execution_count": null,
   "id": "cacef78a-c50c-40a4-89ed-5498de453aa5",
   "metadata": {
    "tags": []
   },
   "outputs": [],
   "source": [
    "adjust_variables_1 = []\n",
    "adjust_variables_2 = [\"...\", \"...\"]\n",
    "adjust_variables_3 = adjust_variables_2 + [\"...\", \"...\", \"...\", \"...\"]\n",
    "adjust_variables_4 = adjust_variables_3 + [\"...\"]"
   ]
  },
  {
   "cell_type": "code",
   "execution_count": null,
   "id": "cb43eebf-6c3a-415c-85e0-466ddb1aae80",
   "metadata": {
    "tags": []
   },
   "outputs": [],
   "source": [
    "all_AKI_patients = all_patients[all_patients.CLUSTERS.isin([cluster_mapping[\"...\"], cluster_mapping[\"...\"], cluster_mapping[\"...\"]])]\n",
    "all_AKI_patients = all_AKI_patients[adjust_variables_4+[\"...\", \"...\", \n",
    "                                                        \"...\", \"...\", \"...\"]].copy(deep = True)"
   ]
  },
  {
   "cell_type": "code",
   "execution_count": null,
   "id": "9b6cfae9-c2dd-43eb-a905-0eef368294ee",
   "metadata": {
    "tags": []
   },
   "outputs": [],
   "source": [
    "def compare_risk_among_AKI(patients, ref_group, adjust_variables, event_col, non_AKI_compare = False):\n",
    "\n",
    "    # Build formula and fit model\n",
    "    formula = construct_formula(ref_group, adjust_variables, event_col)\n",
    "    LR_model = smf.logit(formula=formula, data=patients).fit(maxiter=50)\n",
    "\n",
    "    # Extract summary\n",
    "    summary = LR_model.summary2().tables[1]\n",
    "    summary[\"...\"] = np.exp(summary[\"...\"])\n",
    "    summary[\"...\"] = np.exp(summary[\"...\"] - 1.96 * summary[\"...\"])\n",
    "    summary[\"...\"] = np.exp(summary[\"...\"] + 1.96 * summary[\"...\"])\n",
    "    \n",
    "    if non_AKI_compare == False:\n",
    "\n",
    "        # Extract coefficients for 4 vs 3 and 5 vs 3\n",
    "        beta_4 = LR_model.params[\"...\" % ref_group]\n",
    "        beta_5 = LR_model.params[\"...\" % ref_group]\n",
    "\n",
    "        # Delta method for 5 vs 4\n",
    "        contrast = beta_5 - beta_4\n",
    "        cov = LR_model.cov_params()\n",
    "        var_4 = cov.loc[\"...\" % ref_group,\n",
    "                        \"...\" % ref_group]\n",
    "        var_5 = cov.loc[\"...\" % ref_group,\n",
    "                        \"...\" % ref_group]\n",
    "        cov_45 = cov.loc[\"...\" % ref_group,\n",
    "                         \"...\" % ref_group]\n",
    "        se_contrast = np.sqrt(var_4 + var_5 - 2 * cov_45)\n",
    "\n",
    "        # Calculate OR, CI, p-value\n",
    "        or_5vs4 = np.exp(contrast)\n",
    "        ci_lower = np.exp(contrast - 1.96 * se_contrast)\n",
    "        ci_upper = np.exp(contrast + 1.96 * se_contrast)\n",
    "        p_val = 2 * (1 - norm.cdf(np.abs(contrast / se_contrast)))\n",
    "\n",
    "        # Prepare output\n",
    "        result = summary.loc[\n",
    "            [f\"...\",\n",
    "             f\"...\"],\n",
    "            [\"...\", \"...\", \"...\", \"...\"]\n",
    "        ].copy()\n",
    "        result.index = [f\"...\", f\"...\"]\n",
    "        # Add 5 vs 4 comparison\n",
    "        result.loc[\"...\"] = [or_5vs4, p_val, ci_lower, ci_upper]\n",
    "    else:\n",
    "        cluster_prefix = f\"...\"\n",
    "        mask = summary.index.to_series().str.startswith(cluster_prefix)\n",
    "        result = summary.loc[mask, [\"...\", \"...\", \"...\", \"...\"]].copy()\n",
    "        \n",
    "    return result"
   ]
  },
  {
   "cell_type": "code",
   "execution_count": null,
   "id": "4136ce62-7adf-4ecb-af76-ce9b822a8c7f",
   "metadata": {
    "tags": []
   },
   "outputs": [],
   "source": [
    "def construct_formula(ref_group, adjust_variables, event_col):\n",
    "    adjustment = \"...\"\n",
    "    for var in adjust_variables:\n",
    "        adjustment += \"...\"%(var)\n",
    "    formula = event_col + \"...\"%(ref_group) + adjustment\n",
    "    return formula"
   ]
  },
  {
   "cell_type": "markdown",
   "id": "e01cba84-b8ff-4365-8e2b-9508291c6983",
   "metadata": {},
   "source": [
    "# Populate the Outcome Table"
   ]
  },
  {
   "cell_type": "code",
   "execution_count": null,
   "id": "14555d98-9a2a-4b6e-97ae-91ca19f89c93",
   "metadata": {
    "tags": []
   },
   "outputs": [],
   "source": [
    "import warnings"
   ]
  },
  {
   "cell_type": "code",
   "execution_count": null,
   "id": "60e3dc44-ce95-4aca-9ccb-98327deb3cde",
   "metadata": {
    "tags": []
   },
   "outputs": [],
   "source": [
    "outcome_df = pd.DataFrame(index = [\"...\", \n",
    "                                   \"...\",\n",
    "                                   \"...\",\n",
    "                                   \"...\", \"...\",\n",
    "                                   \"...\", \"...\", \n",
    "                                   \"...\", \"...\",\n",
    "                                   \"...\", \"...\",\n",
    "                                   \"...\", \"...\",\n",
    "                                   \"...\", \"...\",\n",
    "                                    \"...\", \"...\",\n",
    "                                   \"...\", \"...\"],\n",
    "                          \n",
    "                         columns = [\"...\", \"...\", \"...\",\n",
    "                                    \"...\", \"...\", \"...\"])"
   ]
  },
  {
   "cell_type": "code",
   "execution_count": null,
   "id": "b6e75b59-05f2-4493-8b9f-298442938879",
   "metadata": {
    "tags": []
   },
   "outputs": [],
   "source": [
    "# we do not compare SCr recovry between AKI and non-AKI\n",
    "outcome_df.loc[[ \"...\", \"...\",\n",
    "                \"...\"],\n",
    "              [\"...\", \"...\", \"...\"]] = \"...\""
   ]
  },
  {
   "cell_type": "code",
   "execution_count": null,
   "id": "fd14103c-c3d5-48cd-a0c0-658ddbd5b75c",
   "metadata": {
    "tags": []
   },
   "outputs": [],
   "source": [
    "def populate_AKI_outcome(outcome_df, all_AKI_patients, target_list, adjust_var_list):\n",
    "    for tgt in target_list:\n",
    "        for i, adj_var in enumerate(adjust_var_list):\n",
    "            print(i)\n",
    "            \n",
    "            if tgt == \"...\" and i == 3:\n",
    "                continue\n",
    "                \n",
    "            else:\n",
    "                result = compare_risk_among_AKI(all_AKI_patients, cluster_mapping[\"...\"], adj_var, tgt)\n",
    "                \n",
    "                # locate row\n",
    "                if tgt == \"...\":\n",
    "                    index_name_start = \"...\"\n",
    "                elif tgt == \"...\":\n",
    "                    index_name_start = \"...\"\n",
    "                elif tgt == \"...\":\n",
    "                    index_name_start = \"...\"\n",
    "                elif tgt == \"...\":\n",
    "                    index_name_start = \"...\"\n",
    "                elif tgt == \"...\":\n",
    "                    index_name_start = \"...\"\n",
    "                    \n",
    "                \n",
    "                if i == 0:\n",
    "                    model_name = \"...\"\n",
    "                else:\n",
    "                    model_name = \"...\" + str(i)\n",
    "                \n",
    "                row_name = index_name_start + \"...\" + model_name\n",
    "                \n",
    "                outcome_df.loc[row_name, \"...\"] = format_OR_CI_pval(result, \"...\")\n",
    "                outcome_df.loc[row_name, \"...\"] = format_OR_CI_pval(result, \"...\")\n",
    "                outcome_df.loc[row_name, \"...\"] = format_OR_CI_pval(result, \"...\")\n",
    "    return outcome_df \n",
    "\n",
    "def format_OR_CI_pval(table, index_name):\n",
    "    row = table.loc[index_name]\n",
    "    OR = row[\"...\"]\n",
    "    CI_lower = row[\"...\"]\n",
    "    CI_upper = row[\"...\"]\n",
    "    p_val = row[\"...\"]\n",
    "\n",
    "    # Format output string\n",
    "    formatted = f\"...\"\n",
    "    return formatted"
   ]
  },
  {
   "cell_type": "code",
   "execution_count": null,
   "id": "29d1f2c1-0db6-4585-aaa6-b6ebeabd2e33",
   "metadata": {
    "tags": []
   },
   "outputs": [],
   "source": [
    "with contextlib.redirect_stdout(open(os.devnull, \"...\")), \\\n",
    "     contextlib.redirect_stderr(open(os.devnull, \"...\")), \\\n",
    "     warnings.catch_warnings():\n",
    "    \n",
    "    warnings.simplefilter(\"...\")     # Suppress warnings like ConvergenceWarning\n",
    "    np.seterr(all=\"...\")             # Suppress numpy warnings like overflow\n",
    "    target_list = [\"...\", \"...\", \"...\", \"...\"]\n",
    "    adjust_var_list = [adjust_variables_1, adjust_variables_2, adjust_variables_3, adjust_variables_4]\n",
    "    outcome_df = populate_AKI_outcome(outcome_df, all_AKI_patients, target_list, adjust_var_list)"
   ]
  },
  {
   "cell_type": "markdown",
   "id": "cabab095-6c72-4a1c-90d6-986eaa1166ad",
   "metadata": {},
   "source": [
    "# Compare AKI vs Non-AKI"
   ]
  },
  {
   "cell_type": "code",
   "execution_count": null,
   "id": "110aee94-0432-48fb-96d9-04d6aa571939",
   "metadata": {
    "tags": []
   },
   "outputs": [],
   "source": [
    "def populate_AKI_vs_non_AKI_outcome(outcome_df, all_patients, target_list, adjust_var_list):\n",
    "    \n",
    "    \n",
    "    ref_groups = [\"...\", \"...\", \"...\"]\n",
    "    \n",
    "    for ref in ref_groups:\n",
    "        sub_pop = all_patients[all_patients.CLUSTERS.isin([cluster_mapping[ref[:-1]], cluster_mapping[ref]])].copy(deep = True)\n",
    "        \n",
    "        for tgt in target_list:\n",
    "            for i, adj_var in enumerate(adjust_var_list):\n",
    "                result = compare_risk_among_AKI(sub_pop, cluster_mapping[ref], adj_var, tgt, True)\n",
    "\n",
    "                # locate row\n",
    "                if tgt == \"...\":\n",
    "                    index_name_start = \"...\"\n",
    "                elif tgt == \"...\":\n",
    "                    index_name_start = \"...\"\n",
    "                elif tgt == \"...\":\n",
    "                    index_name_start = \"...\"\n",
    "                elif tgt == \"...\":\n",
    "                    index_name_start = \"...\"\n",
    "\n",
    "                if i == 0:\n",
    "                    model_name = \"...\"\n",
    "                else:\n",
    "                    model_name = \"...\" + str(i)\n",
    "\n",
    "                row_name = index_name_start + \"...\" + model_name\n",
    "\n",
    "                outcome_df.loc[row_name, \"...\"%(ref, ref[:-1])] = format_OR_CI_pval(result, result.index[0])\n",
    "\n",
    "    return outcome_df "
   ]
  },
  {
   "cell_type": "code",
   "execution_count": null,
   "id": "b9b6f9f8-da6e-4289-bfac-2c4db9d927a1",
   "metadata": {
    "tags": []
   },
   "outputs": [],
   "source": [
    "with contextlib.redirect_stdout(open(os.devnull, \"...\")), \\\n",
    "     contextlib.redirect_stderr(open(os.devnull, \"...\")), \\\n",
    "     warnings.catch_warnings():\n",
    "    warnings.simplefilter(\"...\")     # Suppress warnings like ConvergenceWarning\n",
    "    np.seterr(all=\"...\")             # Suppress numpy warnings like overflow\n",
    "    target_list = [\"...\", \"...\", \"...\"]\n",
    "    adjust_var_list = [adjust_variables_1, adjust_variables_2, adjust_variables_3, adjust_variables_4]\n",
    "    outcome_df = populate_AKI_vs_non_AKI_outcome(outcome_df, all_patients, target_list, adjust_var_list)"
   ]
  },
  {
   "cell_type": "code",
   "execution_count": null,
   "id": "ac8f52ef-b34f-4048-ab1e-ac79b49197ed",
   "metadata": {
    "tags": []
   },
   "outputs": [],
   "source": [
    "outcome_df"
   ]
  },
  {
   "cell_type": "markdown",
   "id": "6198a89d-41b7-4d45-92c4-a25f54ac52b1",
   "metadata": {},
   "source": [
    "# Read Labs"
   ]
  },
  {
   "cell_type": "markdown",
   "id": "c20d93a0-5e7d-4b5d-a961-af657851cca9",
   "metadata": {},
   "source": [
    "We want to know the lab status 3 days before onset. For non-AKI patients, the window is 3-days before the last SCR measurements, thus, we also need SCr."
   ]
  },
  {
   "cell_type": "code",
   "execution_count": null,
   "id": "24c62c3f-7d33-4f4f-8c90-c4d84f571134",
   "metadata": {
    "tags": []
   },
   "outputs": [],
   "source": [
    "def read_Labs(ct_names, raw_path):\n",
    "    \n",
    "    LAB_dict = dict()\n",
    "    use_cols = [\"...\", \"...\", \"...\", \"...\"]\n",
    "    \n",
    "    for ct_name in tqdm(ct_names):\n",
    "        \n",
    "        data_path = get_data_path(ct_name, raw_path)\n",
    "        \n",
    "        if ct_name == \"...\":\n",
    "            with open(data_path + \"...\", \"...\", encoding=\"...\", errors=\"...\") as file:\n",
    "                LAB_df = pd.read_csv(data_path + \"...\", \n",
    "                                  delimiter=\"...\", usecols=[\"...\", \"...\", \"...\", \n",
    "                                                          \"...\"],\n",
    "                                  encoding=\"...\")\n",
    "\n",
    "        elif ct_name == \"...\":\n",
    "            with open(data_path + \"...\", \"...\", encoding=\"...\", errors=\"...\") as file:\n",
    "                LAB_df = pd.read_csv(data_path + \"...\", \n",
    "                                  delimiter=\"...\", usecols=[\"...\", \"...\", \"...\", \"...\"],\n",
    "                                  encoding=\"...\")\n",
    "\n",
    "        elif ct_name == \"...\":\n",
    "            with open(data_path + \"...\", \"...\", encoding=\"...\", errors=\"...\") as file:\n",
    "                LAB_df = pd.read_csv(data_path + \"...\", \n",
    "                                  delimiter = \"...\", usecols = use_cols,\n",
    "                                  encoding = \"...\")\n",
    "\n",
    "        elif ct_name == \"...\":\n",
    "            with open(data_path + \"...\", \"...\", encoding=\"...\", errors=\"...\") as file:\n",
    "                LAB_df = pd.read_csv(data_path + \"...\", \n",
    "                                  delimiter = \"...\", usecols = use_cols,\n",
    "                                  encoding = \"...\")\n",
    "            LAB_df[\"...\"] = pd.to_datetime(LAB_df[\"...\"], format=\"...\")\n",
    "            LAB_df[\"...\"] = LAB_df[\"...\"].dt.date\n",
    "\n",
    "        elif ct_name == \"...\":\n",
    "            with open(data_path + \"...\", \"...\", encoding=\"...\", errors=\"...\") as file:\n",
    "                LAB_df = pd.read_csv(data_path + \"...\", \n",
    "                                  delimiter=\"...\", usecols = use_cols,\n",
    "                                  encoding=\"...\")\n",
    "\n",
    "        elif (ct_name == \"...\") or (ct_name == \"...\"):\n",
    "            LAB_df = pd.read_csv(data_path + \"...\", delimiter = \"...\", \n",
    "                              usecols = use_cols)\n",
    "\n",
    "        elif ct_name == \"...\":\n",
    "            with open(data_path + \"...\", \"...\", encoding=\"...\", errors=\"...\") as file:\n",
    "                LAB_df = pd.read_csv(file, delimiter=\"...\", \n",
    "                                  usecols = use_cols)\n",
    "\n",
    "\n",
    "        LAB_df.columns = [\"...\", \"...\", \"...\", \"...\"]       \n",
    "        LAB_dict[ct_name] = LAB_df\n",
    "    return LAB_dict"
   ]
  },
  {
   "cell_type": "code",
   "execution_count": null,
   "id": "23fa0a74-37b2-488a-ab7a-f454ab8cb568",
   "metadata": {
    "tags": []
   },
   "outputs": [],
   "source": [
    "def process_Labs(pat_df, LAB_dict):\n",
    "    processed_Lab_dict = dict()\n",
    "    \n",
    "    for ct_name, Lab_df in tqdm(LAB_dict.items()):\n",
    "        # format type\n",
    "        Lab_df[[\"...\", \"...\"]] = Lab_df[[\"...\", \"...\"]].astype(str)\n",
    "        \n",
    "        pat_ct_df = pat_df[pat_df.CENTER_NAME == ct_name][[\"...\", \"...\"]]\n",
    "        pat_ct_df = pat_ct_df.merge(Lab_df, on = \"...\", how = \"...\")\n",
    "        \n",
    "        pat_ct_df[\"...\"] = pd.to_datetime(pat_ct_df[\"...\"], format = \"...\")\n",
    "        \n",
    "        # get the lab status 7 days before lab collection point\n",
    "        pat_ct_df_filtered = pat_ct_df[(pat_ct_df.SPECIMEN_DATE >= (pat_ct_df.LAB_WINDOW_POINT - pd.Timedelta(days=7))) & \\\n",
    "                                       (pat_ct_df.SPECIMEN_DATE < pat_ct_df.LAB_WINDOW_POINT)]\n",
    "        \n",
    "        pat_ct_df_filtered = pat_ct_df_filtered.sort_values(by=[\"...\", \"...\",\"...\"])\n",
    "        pat_ct_df_filtered = pat_ct_df_filtered.groupby([\"...\", \"...\"])[\"...\"].last().reset_index()\n",
    "        pivot_table = pat_ct_df_filtered.pivot(index=\"...\", columns=\"...\", values=\"...\").reset_index()\n",
    "        pivot_table[\"...\"] = ct_name\n",
    "        processed_Lab_dict[ct_name] = pivot_table\n",
    "    \n",
    "    return processed_Lab_dict"
   ]
  },
  {
   "cell_type": "code",
   "execution_count": null,
   "id": "5d6fb74d-e409-4ebd-b68b-0c5edb222629",
   "metadata": {
    "tags": []
   },
   "outputs": [],
   "source": [
    "# now we can merge Labs to patients\n",
    "Lab_dict = read_Labs(ct_names, raw_path)"
   ]
  },
  {
   "cell_type": "code",
   "execution_count": null,
   "id": "eb05e2c7-876c-4531-bec7-a53f13d04411",
   "metadata": {
    "tags": []
   },
   "outputs": [],
   "source": [
    "# we still separate AKI and non-AKI patients and collect their lab collection point separately\n",
    "# for AKI patients, it is just AKI-1 onset date\n",
    "# for non-AKI patients, it is the last SCr measurement time\n",
    "AKI_patients = all_patients.loc[all_patients.NONAKI_SINCE_ADMIT == False, :].copy(deep = True)\n",
    "Non_AKI_patients = all_patients.loc[all_patients.NONAKI_SINCE_ADMIT == True, :].copy(deep = True)\n",
    "AKI_patients.loc[:, \"...\"] = AKI_patients.loc[:, \"...\"]\n",
    "AKI_patients[\"...\"] = pd.to_datetime(AKI_patients[\"...\"])"
   ]
  },
  {
   "cell_type": "code",
   "execution_count": null,
   "id": "37d3dcb0-e2bd-4c50-8f8a-12019ca9fe56",
   "metadata": {
    "tags": []
   },
   "outputs": [],
   "source": [
    "Non_AKI_patients_SCR = Non_AKI_patients.merge(SCR_df, on = [\"...\", \"...\"], how = \"...\")\n",
    "# since SCR_df is already sorted, we do not sort here\n",
    "# get SCr measurements during hospitalization\n",
    "Non_AKI_patients_SCR = Non_AKI_patients_SCR.loc[(Non_AKI_patients_SCR.SPECIMEN_DATE > Non_AKI_patients_SCR.ADMIT_DATE) & \\\n",
    "                                    (Non_AKI_patients_SCR.SPECIMEN_DATE < Non_AKI_patients_SCR.DISCHARGE_DATE), :]\n",
    "Non_AKI_patients_SCR = Non_AKI_patients_SCR.groupby(pat_id_cols)[\"...\"].last().reset_index()"
   ]
  },
  {
   "cell_type": "code",
   "execution_count": null,
   "id": "349d6b5a-fc7b-4470-9dae-75c3a065311a",
   "metadata": {
    "tags": []
   },
   "outputs": [],
   "source": [
    "Non_AKI_patients_SCR.rename(columns = {\"...\": \"...\"}, inplace = True)\n",
    "Non_AKI_patients = Non_AKI_patients.merge(Non_AKI_patients_SCR, on = pat_id_cols, how = \"...\")\n",
    "Non_AKI_patients[\"...\"] = Non_AKI_patients[\"...\"].fillna(Non_AKI_patients[\"...\"])\n",
    "Non_AKI_patients[\"...\"] = pd.to_datetime(Non_AKI_patients[\"...\"])"
   ]
  },
  {
   "cell_type": "code",
   "execution_count": null,
   "id": "f148d747-7c46-4f38-a3e3-88d41a9b5372",
   "metadata": {
    "tags": []
   },
   "outputs": [],
   "source": [
    "all_patients = pd.concat([AKI_patients, Non_AKI_patients], axis = 0)"
   ]
  },
  {
   "cell_type": "code",
   "execution_count": null,
   "id": "6e83c3c3-73d5-465d-b6ba-75e1c683f082",
   "metadata": {
    "tags": []
   },
   "outputs": [],
   "source": [
    "processed_Lab_dict = process_Labs(all_patients, Lab_dict)"
   ]
  },
  {
   "cell_type": "code",
   "execution_count": null,
   "id": "95319226-39b5-4ce7-bc1a-ca25da6dcea7",
   "metadata": {
    "tags": []
   },
   "outputs": [],
   "source": [
    "Lab_df = concat_dfs_to_one(processed_Lab_dict)"
   ]
  },
  {
   "cell_type": "code",
   "execution_count": null,
   "id": "37af59d2-b689-4e5a-8585-dd49b7797d5e",
   "metadata": {
    "tags": []
   },
   "outputs": [],
   "source": [
    "original_lab_space = list(Lab_df.columns)\n",
    "original_lab_space.remove(\"...\")\n",
    "original_lab_space.remove(\"...\")"
   ]
  },
  {
   "cell_type": "code",
   "execution_count": null,
   "id": "0d741a36-d62e-475d-9fdf-f89db30d7342",
   "metadata": {
    "tags": []
   },
   "outputs": [],
   "source": [
    "all_patients = all_patients.merge(Lab_df, on = [\"...\", \"...\"], how = \"...\")"
   ]
  },
  {
   "cell_type": "code",
   "execution_count": null,
   "id": "cd9877de-727e-4639-a3bf-4318abcc06c9",
   "metadata": {
    "tags": []
   },
   "outputs": [],
   "source": [
    "# drop labs with nan rate > 0.3\n",
    "nan_ratios = all_patients[original_lab_space].isna().mean()\n",
    "columns_to_drop = nan_ratios[nan_ratios > 0.3].index\n",
    "# also drop SCr\n",
    "columns_to_drop = list(columns_to_drop) + [\"...\"]\n",
    "all_patients = all_patients.drop(columns=columns_to_drop)"
   ]
  },
  {
   "cell_type": "code",
   "execution_count": null,
   "id": "9db43506-cbfa-44a6-b892-894ea3bd67d1",
   "metadata": {
    "tags": []
   },
   "outputs": [],
   "source": [
    "filtered_lab_space = []\n",
    "for lab in original_lab_space:\n",
    "    if lab not in list(columns_to_drop):\n",
    "        filtered_lab_space.append(lab)"
   ]
  },
  {
   "cell_type": "code",
   "execution_count": null,
   "id": "c01648d6-c6f5-4b50-92e5-515ba0a0cb9d",
   "metadata": {
    "tags": []
   },
   "outputs": [],
   "source": [
    "loinc_to_lab_name = {\n",
    "    \"...\": \"...\",\n",
    "    \"...\": \"...\",\n",
    "    \"...\": \"...\",\n",
    "    \"...\": \"...\",\n",
    "    \"...\": \"...\",\n",
    "    \"...\": \"...\",\n",
    "    \"...\": \"...\",\n",
    "    \"...\": \"...\",\n",
    "    \"...\": \"...\",\n",
    "    \"...\": \"...\",\n",
    "    \"...\": \"...\",\n",
    "    \"...\": \"...\",\n",
    "    \"...\": \"...\",\n",
    "    \"...\": \"...\",\n",
    "    \"...\": \"...\",\n",
    "}"
   ]
  },
  {
   "cell_type": "code",
   "execution_count": null,
   "id": "2235aa0b-da3a-4384-baa5-fceb0803fa91",
   "metadata": {
    "tags": []
   },
   "outputs": [],
   "source": [
    "all_patients.rename(columns = loinc_to_lab_name, inplace = True)\n",
    "# now labs have been transformed into names\n",
    "filtered_lab_space = list(loinc_to_lab_name.values())"
   ]
  },
  {
   "cell_type": "markdown",
   "id": "2df53321-f2e0-4b03-9a97-58f0c0bdf78c",
   "metadata": {},
   "source": [
    "For lab illustration, we will show one X plot and one table showing percentage of abnormalty and a p-value table"
   ]
  },
  {
   "cell_type": "markdown",
   "id": "b45c2311-081b-4d3f-a291-34183e222328",
   "metadata": {},
   "source": [
    "1. X Plots"
   ]
  },
  {
   "cell_type": "code",
   "execution_count": null,
   "id": "fee0fd6f-b555-46e6-86fc-bd1ff6d66073",
   "metadata": {
    "tags": []
   },
   "outputs": [],
   "source": [
    "from sklearn.experimental import enable_iterative_imputer  # noqa\n",
    "from sklearn.impute import IterativeImputer"
   ]
  },
  {
   "cell_type": "code",
   "execution_count": null,
   "id": "bd628e92-1503-4078-bce6-bdba91d72be5",
   "metadata": {
    "tags": []
   },
   "outputs": [],
   "source": [
    "def plot_Standarized_Mean_Variable(chosen_2_cluster_idx, pat_df, use_cols,\n",
    "                                   title, color_key, test_organ_map, organ_color_map, ax):\n",
    "    \n",
    "    clustering = pat_df[(pat_df[\"...\"] == chosen_2_cluster_idx[0]) | \\\n",
    "                               (pat_df[\"...\"] == chosen_2_cluster_idx[1])]\n",
    "    \n",
    "    clustering_for_X_plot = clustering[use_cols]\n",
    "    \n",
    "    \n",
    "    #normalize frame\n",
    "    norm_clustering_for_X_plot = (clustering_for_X_plot - clustering_for_X_plot.mean()) / clustering_for_X_plot.std()\n",
    "    norm_clustering_for_X_plot[\"...\"] = clustering[\"...\"]\n",
    "    \n",
    "    #create helping table\n",
    "    stat_table_for_X_plot = \\\n",
    "    pd.DataFrame(0, index = clustering_for_X_plot.columns, columns = chosen_2_cluster_idx)\n",
    "    for test in clustering_for_X_plot.columns:\n",
    "        for c in chosen_2_cluster_idx:\n",
    "            norm_this_cluster = norm_clustering_for_X_plot[norm_clustering_for_X_plot[\"...\"] == c]\n",
    "            stat_table_for_X_plot.loc[test, c] = np.mean(norm_this_cluster[test])\n",
    "    \n",
    "    #helping col to sort rows so that X will show up\n",
    "    stat_table_for_X_plot[\"...\"] = \\\n",
    "        stat_table_for_X_plot[chosen_2_cluster_idx[0]] - stat_table_for_X_plot[chosen_2_cluster_idx[1]]\n",
    "    stat_table_for_X_plot.sort_values(by=\"...\", inplace = True)\n",
    "\n",
    "    \n",
    "    index = list(stat_table_for_X_plot.index)\n",
    "    \n",
    "    lines = []\n",
    "    for c in chosen_2_cluster_idx:\n",
    "        line, = ax.plot(stat_table_for_X_plot.loc[:, c], index, marker = \"...\", color = color_key[c])\n",
    "        lines.append(line)\n",
    "        \n",
    "    #add some body organ/system marker on the y axis\n",
    "    ytick_locations = ax.get_yticks()\n",
    "    ytick_labels = [label.get_text() for label in ax.get_yticklabels()]\n",
    "    yticks_combined = list(zip(ytick_locations, ytick_labels))\n",
    "\n",
    "    for i, (ytick_loc, ytick_label) in enumerate(yticks_combined):\n",
    "        marker = ax.scatter(-0.65, ytick_loc, marker=\"...\", \n",
    "                                color=organ_color_map[test_organ_map[ytick_label]], zorder=5, s=50) \n",
    "        \n",
    "    ax.axvline(x=0, color=\"...\", lw = 0.4)\n",
    "    ax.grid(True, lw = 0.15)\n",
    "    ax.set_title(title)"
   ]
  },
  {
   "cell_type": "code",
   "execution_count": null,
   "id": "d86742ab-7765-4292-a76c-1ea202a53492",
   "metadata": {
    "tags": []
   },
   "outputs": [],
   "source": [
    "organ_color_map = {\n",
    "    \"...\": \"...\",\n",
    "    \"...\": \"...\",\n",
    "    \"...\": \"...\",\n",
    "    \"...\": \"...\",\n",
    "    \"...\": \"...\",\n",
    "    \"...\": \"...\",\n",
    "    \"...\": \"...\",\n",
    "}\n",
    "\n",
    "test_organ_map = {\n",
    "    \"...\": \"...\",\n",
    "    \"...\": \"...\",\n",
    "    \"...\": \"...\",\n",
    "    \"...\": \"...\",\n",
    "    \"...\": \"...\",\n",
    "    \"...\": \"...\",\n",
    "    \"...\": \"...\",\n",
    "    \"...\": \"...\",\n",
    "    \"...\": \"...\",\n",
    "    \"...\": \"...\",\n",
    "    \"...\": \"...\",\n",
    "    \"...\": \"...\",\n",
    "    \"...\": \"...\",\n",
    "    \"...\": \"...\",\n",
    "    \"...\": \"...\",\n",
    "    \"...\": \"...\",\n",
    "}"
   ]
  },
  {
   "cell_type": "code",
   "execution_count": null,
   "id": "ecf06ce7-9f6a-4f85-8510-6206432a183c",
   "metadata": {
    "tags": []
   },
   "outputs": [],
   "source": [
    "# beacuse we switch the label, we need a new color key\n",
    "new_color_key = {\n",
    "    0: \"...\",\n",
    "    1: \"...\",\n",
    "    2: \"...\",\n",
    "    3: \"...\",\n",
    "    4: \"...\",\n",
    "    5: \"...\",\n",
    "    6: \"...\",\n",
    "    7: \"...\",\n",
    "    8: \"...\"\n",
    "}"
   ]
  },
  {
   "cell_type": "code",
   "execution_count": null,
   "id": "d78de652-23d6-4aff-8adb-746b4e61de55",
   "metadata": {
    "tags": []
   },
   "outputs": [],
   "source": [
    "# Use MICE to impute missing values\n",
    "imputer = IterativeImputer(missing_values=np.nan, \n",
    "                           max_iter=10000, random_state=42)\n",
    "# should only fit on train data in case for data leakage\n",
    "all_patients.loc[:, filtered_lab_space] = \\\n",
    "imputer.fit_transform(all_patients.loc[:, filtered_lab_space])\n",
    "all_patients.loc[:, filtered_lab_space] = all_patients.loc[:, filtered_lab_space].astype(np.float64)"
   ]
  },
  {
   "cell_type": "code",
   "execution_count": null,
   "id": "d0a210d1-9f6e-4570-b30b-65fc399495ea",
   "metadata": {
    "tags": []
   },
   "outputs": [],
   "source": [
    "# make a legend\n",
    "from matplotlib.lines import Line2D\n",
    "from matplotlib.patches import Patch\n",
    "\n",
    "custom_lines = [\n",
    "    Line2D([0], [0], color=\"...\", lw=2, label=\"...\"),\n",
    "    Line2D([0], [0], color=\"...\", lw=2, label=\"...\"),\n",
    "    Line2D([0], [0], color=\"...\", lw=2, label=\"...\"),\n",
    "    Line2D([0], [0], color=\"...\", lw=2, label=\"...\"),\n",
    "    Line2D([0], [0], color=\"...\", lw=2, label=\"...\"),\n",
    "    Line2D([0], [0], color=\"...\", lw=2, label=\"...\"),\n",
    "    Line2D([0], [0], color=organ_color_map[\"...\"], lw=0, marker=\"...\", markersize=10, label=\"...\"),\n",
    "    Line2D([0], [0], color=organ_color_map[\"...\"], lw=0, marker=\"...\", markersize=10, label=\"...\"),\n",
    "    Line2D([0], [0], color=organ_color_map[\"...\"], lw=0, marker=\"...\", markersize=10, label=\"...\")\n",
    "]"
   ]
  },
  {
   "cell_type": "code",
   "execution_count": null,
   "id": "1e3b9f8a-f68e-4d49-8ecc-78ae935d81e4",
   "metadata": {
    "tags": []
   },
   "outputs": [],
   "source": [
    "with warnings.catch_warnings():\n",
    "    warnings.simplefilter(\"...\")\n",
    "    \n",
    "    fig, axs = plt.subplots(2, 3, figsize=(12, 10))\n",
    "    \n",
    "    plot_Standarized_Mean_Variable([3, 4], all_patients, filtered_lab_space, \"...\", \n",
    "                                   new_color_key, test_organ_map, organ_color_map, axs[0, 0])\n",
    "\n",
    "    plot_Standarized_Mean_Variable([4, 5], all_patients, filtered_lab_space, \"...\", \n",
    "                                   new_color_key, test_organ_map, organ_color_map, axs[0, 1])\n",
    "\n",
    "    plot_Standarized_Mean_Variable([3, 5], all_patients, filtered_lab_space, \"...\", \n",
    "                                   new_color_key, test_organ_map, organ_color_map, axs[0, 2])\n",
    "\n",
    "    plot_Standarized_Mean_Variable([0, 3], all_patients, filtered_lab_space, \"...\", \n",
    "                                   new_color_key, test_organ_map, organ_color_map, axs[1, 0])\n",
    "\n",
    "    plot_Standarized_Mean_Variable([1, 4], all_patients, filtered_lab_space, \"...\", \n",
    "                                   new_color_key, test_organ_map, organ_color_map, axs[1, 1])\n",
    "\n",
    "    plot_Standarized_Mean_Variable([2, 5], all_patients, filtered_lab_space, \"...\", \n",
    "                                   new_color_key, test_organ_map, organ_color_map, axs[1, 2])\n",
    "   \n",
    "    # Adding sequential labels (A, B, C, D) to each subplot\n",
    "    labels = list(string.ascii_lowercase)\n",
    "    positions = [(0, 0), (0, 1), (0, 2), (1, 0), (1, 1), (1, 2)]\n",
    "\n",
    "    for label, pos in zip(labels, positions):\n",
    "        axs[pos].text(-0.1, 1.1, label, transform=axs[pos].transAxes, \n",
    "                      fontsize=16, fontweight=\"...\", va=\"...\", ha=\"...\")\n",
    "\n",
    "    plt.tight_layout()\n",
    "    plt.legend(handles=custom_lines, loc=\"...\", bbox_to_anchor=(0.864, 0.85), bbox_transform=plt.gcf().transFigure)\n",
    "    plt.savefig(\"...\", format=\"...\", dpi = figure_dpi)\n",
    "    plt.show()"
   ]
  },
  {
   "cell_type": "markdown",
   "id": "02505371-65f0-4f11-8dba-447bde20761b",
   "metadata": {},
   "source": [
    "2. Table and p-values "
   ]
  },
  {
   "cell_type": "code",
   "execution_count": null,
   "id": "d1ed3593-b75e-44d5-9626-461425b8cbc7",
   "metadata": {
    "tags": []
   },
   "outputs": [],
   "source": [
    "lab_normal_range = dict()\n",
    "lab_normal_range[\"...\"] = [8.5, 10.5]\n",
    "lab_normal_range[\"...\"] = [96, 106]\n",
    "lab_normal_range[\"...\"] = [0, 125]\n",
    "lab_normal_range[\"...\"] = [3.5, 5.5]\n",
    "lab_normal_range[\"...\"] = [135, 145]\n",
    "lab_normal_range[\"...\"] = [6, 24]\n",
    "lab_normal_range[\"...\"] = [38, 51]\n",
    "lab_normal_range[\"...\"] = [12.1, 18]\n",
    "lab_normal_range[\"...\"] = [0, 10]\n",
    "lab_normal_range[\"...\"] = [150, 450]\n",
    "lab_normal_range[\"...\"] = [27, 31]\n",
    "lab_normal_range[\"...\"] = [32, 36]\n",
    "lab_normal_range[\"...\"] = [80, 100]\n",
    "lab_normal_range[\"...\"] = [12, 15.3]\n",
    "lab_normal_range[\"...\"] = [4.1, 5.4]\n",
    "assert(len(lab_normal_range) == len(filtered_lab_space))"
   ]
  },
  {
   "cell_type": "code",
   "execution_count": null,
   "id": "d0d97bc1-0802-44fd-abae-981c2585b1b5",
   "metadata": {
    "tags": []
   },
   "outputs": [],
   "source": [
    "cluster_names = list(cluster_mapping.keys())"
   ]
  },
  {
   "cell_type": "code",
   "execution_count": null,
   "id": "79762931-c7ba-4147-96d2-c35760beb221",
   "metadata": {
    "tags": []
   },
   "outputs": [],
   "source": [
    "lab_abnom_df = pd.DataFrame(0, index = [\"...\"] + filtered_lab_space, \n",
    "                          columns = [\"...\", *cluster_names[:len(cluster_names)//2], \n",
    "                                    \"...\", *cluster_names[len(cluster_names)//2:]])"
   ]
  },
  {
   "cell_type": "code",
   "execution_count": null,
   "id": "e97d6a53-4a96-44de-9489-52b3ad47ea28",
   "metadata": {
    "tags": []
   },
   "outputs": [],
   "source": [
    "for lab in filtered_lab_space:\n",
    "    normal_range_lower = lab_normal_range[lab][0]\n",
    "    normal_range_upper = lab_normal_range[lab][1]\n",
    "    \n",
    "    for cluster_name in cluster_names:\n",
    "        cluster_idx = cluster_mapping[cluster_name]\n",
    "        this_cluster = all_patients.loc[all_patients.CLUSTERS == cluster_idx, :]\n",
    "        this_cluster_lab_abnorm_n = ((this_cluster[lab] > normal_range_upper) | \\\n",
    "                                     (this_cluster[lab] < normal_range_lower)).sum()\n",
    "        lab_abnom_df.loc[lab, cluster_name] = this_cluster_lab_abnorm_n"
   ]
  },
  {
   "cell_type": "code",
   "execution_count": null,
   "id": "f690b16f-e6ec-48b9-874a-564dfd976792",
   "metadata": {
    "tags": []
   },
   "outputs": [],
   "source": [
    "# fill in total patient number\n",
    "for cluster_name in cluster_names:\n",
    "    cluster_idx = cluster_mapping[cluster_name]\n",
    "    lab_abnom_df.loc[\"...\", cluster_name] = \\\n",
    "    len(all_patients[all_patients.CLUSTERS == cluster_idx])"
   ]
  },
  {
   "cell_type": "code",
   "execution_count": null,
   "id": "28b745a7-b84a-415c-b7d4-32592ecb8ca2",
   "metadata": {
    "tags": []
   },
   "outputs": [],
   "source": [
    "lab_abnom_df.loc[:, \"...\"] = lab_abnom_df.loc[:, cluster_names[:len(cluster_names)//2]].sum(axis = 1)\n",
    "lab_abnom_df.loc[:, \"...\"] = lab_abnom_df.loc[:, cluster_names[len(cluster_names)//2:]].sum(axis = 1)"
   ]
  },
  {
   "cell_type": "code",
   "execution_count": null,
   "id": "b622423c-b51f-4cc9-a76d-7240135183f2",
   "metadata": {
    "tags": []
   },
   "outputs": [],
   "source": [
    "def add_percentage(col):\n",
    "    total = col.iloc[0]  # first row (cluster total) is the total count\n",
    "    return col.map(lambda entry: f\"...\" if total != 0 else \"...\")"
   ]
  },
  {
   "cell_type": "code",
   "execution_count": null,
   "id": "8e8803b9-9820-4aee-bdf5-94cbf26b8cea",
   "metadata": {
    "tags": []
   },
   "outputs": [],
   "source": [
    "lab_abnom_df_final = lab_abnom_df.apply(add_percentage, axis = 0)"
   ]
  },
  {
   "cell_type": "code",
   "execution_count": null,
   "id": "2a2d43ad-162b-4f95-bf82-9159c534e0d8",
   "metadata": {
    "tags": []
   },
   "outputs": [],
   "source": [
    "lab_abnom_df_final"
   ]
  },
  {
   "cell_type": "markdown",
   "id": "d9606ef0-bc39-40c8-8bec-ac00e29f1177",
   "metadata": {},
   "source": [
    "Calculate P values"
   ]
  },
  {
   "cell_type": "code",
   "execution_count": null,
   "id": "0e18c25e-5bcd-4e52-b70e-b0e161cb8ac2",
   "metadata": {
    "tags": []
   },
   "outputs": [],
   "source": [
    "from scipy.stats import chi2_contingency"
   ]
  },
  {
   "cell_type": "code",
   "execution_count": null,
   "id": "1d7bf962-6885-4d88-a705-accc65ecf56e",
   "metadata": {
    "tags": []
   },
   "outputs": [],
   "source": [
    "def calculate_P_values(num_df, total_n_row_name = \"...\"):\n",
    "    col_names, cluster_pairs = get_P_valuse_df_col_names(num_df)\n",
    "    index_names = [idx for idx in num_df.index if idx != total_n_row_name]\n",
    "    P_values_df = pd.DataFrame(0, index = index_names, columns = col_names)\n",
    "    \n",
    "    for i, pair in enumerate(cluster_pairs):\n",
    "        pvales = []\n",
    "        col_name = col_names[i]\n",
    "        for catg in P_values_df.index:\n",
    "            clusters_for_test = []\n",
    "            clusters_for_test.append(num_df.loc[catg, pair[0]])\n",
    "            clusters_for_test.append(num_df.loc[catg, pair[1]])\n",
    "            cluster_total = num_df.loc[total_n_row_name, [pair[0], pair[1]]].values\n",
    "            p = contingency_table_and_p_value(clusters_for_test, cluster_total)\n",
    "            pvales.append(p)\n",
    "        \n",
    "        pvales_cats = [\"...\".format(pvalue) for pvalue in pvales]  \n",
    "        P_values_df.loc[:, col_name] = pvales_cats\n",
    "\n",
    "    return P_values_df"
   ]
  },
  {
   "cell_type": "code",
   "execution_count": null,
   "id": "73135316-eee8-40c6-9fe3-62f161a41b74",
   "metadata": {
    "tags": []
   },
   "outputs": [],
   "source": [
    "def get_P_valuse_df_col_names(num_df, calculate_total = True):\n",
    "    NONAKI_cols = [col for col in num_df.columns if (col.endswith(\"...\")) and (col.startswith(\"...\"))]\n",
    "    AKI_cols = [col for col in num_df.columns if (col not in NONAKI_cols) and (col.startswith(\"...\"))]\n",
    "    \n",
    "    cluster_pairs = []\n",
    "    \n",
    "    finished_cols = []\n",
    "    for col1 in AKI_cols:\n",
    "        for col2 in AKI_cols:\n",
    "            if (col1 == col2) or (col2 in finished_cols):\n",
    "                continue\n",
    "            cluster_pairs.append((col1,col2))\n",
    "        finished_cols.append(col1)\n",
    "    \n",
    "    assert(len(AKI_cols) == len(NONAKI_cols))\n",
    "    for i in range(len(AKI_cols)):\n",
    "        cluster_pairs.append((AKI_cols[i], NONAKI_cols[i]))\n",
    "    \n",
    "    if calculate_total:\n",
    "        cluster_pairs.insert(0, (\"...\", \"...\"))\n",
    "    \n",
    "    p_val_cols_names = [cluster_pair[0] + \"...\" + cluster_pair[1] for cluster_pair in cluster_pairs]\n",
    "    \n",
    "    return p_val_cols_names, cluster_pairs"
   ]
  },
  {
   "cell_type": "code",
   "execution_count": null,
   "id": "46b38f14-52e6-4203-9c19-c84b23437f13",
   "metadata": {
    "tags": []
   },
   "outputs": [],
   "source": [
    "def get_contingency_table(clusters_for_test, cluster_total):\n",
    "    contingency_first_row = np.array(clusters_for_test)\n",
    "    contingency_second_row = cluster_total - contingency_first_row\n",
    "    contingency_table = np.vstack((contingency_first_row, contingency_second_row))\n",
    "    return contingency_table"
   ]
  },
  {
   "cell_type": "code",
   "execution_count": null,
   "id": "db4f2b64-5031-493b-9552-e9974e7d2c80",
   "metadata": {
    "tags": []
   },
   "outputs": [],
   "source": [
    "def contingency_table_and_p_value(clusters_for_test, cluster_total):\n",
    "    contingency_table = get_contingency_table(clusters_for_test, cluster_total)\n",
    "            \n",
    "    #when any input value for test is 0, p is 0, else, use chi2\n",
    "    if np.any(np.array(clusters_for_test) == 0):\n",
    "        p = 0\n",
    "    else:\n",
    "        _, p, _, _ = chi2_contingency(contingency_table)\n",
    "    return p"
   ]
  },
  {
   "cell_type": "code",
   "execution_count": null,
   "id": "f5956a3c-5304-4d7a-8ca1-d8f4e06b4af3",
   "metadata": {
    "tags": []
   },
   "outputs": [],
   "source": [
    "with warnings.catch_warnings():\n",
    "    warnings.simplefilter(\"...\")\n",
    "    lab_abnom_p_val_df_final = calculate_P_values(lab_abnom_df, total_n_row_name = \"...\")"
   ]
  },
  {
   "cell_type": "code",
   "execution_count": null,
   "id": "24ee3e11-be88-49cc-97bf-1569d2539320",
   "metadata": {
    "tags": []
   },
   "outputs": [],
   "source": [
    "lab_abnom_p_val_df_final"
   ]
  },
  {
   "cell_type": "code",
   "execution_count": null,
   "id": "ff0b3f69-e2f7-47ab-baa8-58454b8d588d",
   "metadata": {
    "tags": []
   },
   "outputs": [],
   "source": [
    "lab_abnom_p_val_df_final.to_csv(\"...\", index = True)"
   ]
  },
  {
   "cell_type": "markdown",
   "id": "60ac1f23-3827-4a59-813e-35622c2a60e4",
   "metadata": {},
   "source": [
    "# Compare Demographics and Comorbidities"
   ]
  },
  {
   "cell_type": "code",
   "execution_count": null,
   "id": "b80ca53b-d321-4a7b-8ba4-7002331d3882",
   "metadata": {
    "tags": []
   },
   "outputs": [],
   "source": [
    "%store -r Comorbidities_dict"
   ]
  },
  {
   "cell_type": "code",
   "execution_count": null,
   "id": "1b1c1bad-34e3-494b-a90c-3b1a40033602",
   "metadata": {
    "tags": []
   },
   "outputs": [],
   "source": [
    "comorbidity_space = list(Comorbidities_dict.keys())"
   ]
  },
  {
   "cell_type": "code",
   "execution_count": null,
   "id": "b428568f-3057-4876-aaa9-71c822ff6df6",
   "metadata": {
    "tags": []
   },
   "outputs": [],
   "source": [
    "comorbidity_names = [disease.replace(\"...\", \"...\").title() for disease in comorbidity_space]\n",
    "index = [\"...\", \n",
    "         \"...\", \"...\", \"...\",\n",
    "         \"...\",  \"...\", \"...\",\n",
    "         \"...\", \"...\",\n",
    "         \"...\", \"...\", \"...\",\n",
    "         *comorbidity_names]\n",
    "DEMO_df = pd.DataFrame(0, columns = [\"...\", *cluster_names[:len(cluster_names)//2], \n",
    "                                    \"...\", *cluster_names[len(cluster_names)//2:]], \n",
    "                       index = index)"
   ]
  },
  {
   "cell_type": "code",
   "execution_count": null,
   "id": "34fd3321-fe82-46d9-a6df-0b83066e4845",
   "metadata": {
    "tags": []
   },
   "outputs": [],
   "source": [
    "# fill in total patient number\n",
    "for name in cluster_names:\n",
    "    cluster_idx = cluster_mapping[name]\n",
    "    DEMO_df.loc[\"...\", name] = len(all_patients[all_patients.CLUSTERS == cluster_idx])"
   ]
  },
  {
   "cell_type": "code",
   "execution_count": null,
   "id": "b3b5ecc1-71a3-469f-ae5a-9061fa4a4e75",
   "metadata": {
    "tags": []
   },
   "outputs": [],
   "source": [
    "# fill in age\n",
    "for name in cluster_names:\n",
    "    cluster_idx = cluster_mapping[name]\n",
    "    this_cluster = all_patients[all_patients.CLUSTERS == cluster_idx]\n",
    "    DEMO_df.loc[\"...\", name] = age_distr[\"...\"][name]\n",
    "    DEMO_df.loc[\"...\", name] = age_distr[\"...\"][name]\n",
    "    DEMO_df.loc[\"...\", name] = age_distr[\"...\"][name]"
   ]
  },
  {
   "cell_type": "code",
   "execution_count": null,
   "id": "6b2166e3-0e8e-4921-a4b9-9ee1fc596cf1",
   "metadata": {
    "tags": []
   },
   "outputs": [],
   "source": [
    "all_patients[\"...\"] = (all_patients.SEX == \"...\").astype(int)\n",
    "#impute BMI jointly with age, sex, and labs\n",
    "BMI_info_cols = [\"...\", \"...\", \"...\", *filtered_lab_space]\n",
    "# Use MICE to impute BMI values\n",
    "imputer = IterativeImputer(missing_values=np.nan, \n",
    "                           max_iter=10000, random_state=42)\n",
    "# should only fit on train data in case for data leakage\n",
    "all_patients.loc[:, BMI_info_cols] = \\\n",
    "imputer.fit_transform(all_patients.loc[:, BMI_info_cols])\n",
    "# convert data type\n",
    "all_patients.loc[:, [\"...\", *filtered_lab_space]] = \\\n",
    "all_patients.loc[:, [\"...\", *filtered_lab_space]].astype(np.float64)\n",
    "all_patients.loc[:, \"...\"] = all_patients.loc[:, \"...\"].astype(int)\n",
    "all_patients.drop(\"...\", axis = 1, inplace = True)"
   ]
  },
  {
   "cell_type": "code",
   "execution_count": null,
   "id": "a80e429c-8c33-489a-ab0d-b2a70de5a90d",
   "metadata": {
    "tags": []
   },
   "outputs": [],
   "source": [
    "# fill in BMI\n",
    "for name in cluster_names:\n",
    "    cluster_idx = cluster_mapping[name]\n",
    "    this_cluster = all_patients[all_patients.CLUSTERS == cluster_idx]\n",
    "    DEMO_df.loc[\"...\", name] = len(this_cluster[this_cluster.BMI < 18.5])\n",
    "    DEMO_df.loc[\"...\", name] = len(this_cluster[(this_cluster.BMI >= 18.5) & \\\n",
    "                                                          (this_cluster.AGE < 40)])\n",
    "    DEMO_df.loc[\"...\", name] = len(this_cluster[this_cluster.BMI >= 40])"
   ]
  },
  {
   "cell_type": "code",
   "execution_count": null,
   "id": "a5bfef94-c40b-48f0-a770-9f975ddf1cfe",
   "metadata": {
    "tags": []
   },
   "outputs": [],
   "source": [
    "# fill in sex\n",
    "for name in cluster_names:\n",
    "    cluster_idx = cluster_mapping[name]\n",
    "    this_cluster = all_patients[all_patients.CLUSTERS == cluster_idx]\n",
    "    DEMO_df.loc[\"...\", name] = len(this_cluster[this_cluster.SEX == \"...\"])\n",
    "    DEMO_df.loc[\"...\", name] = len(this_cluster[this_cluster.SEX >= \"...\"])"
   ]
  },
  {
   "cell_type": "code",
   "execution_count": null,
   "id": "1956febe-6389-494a-b782-27cc25d30c9b",
   "metadata": {
    "tags": []
   },
   "outputs": [],
   "source": [
    "# fill in race\n",
    "for name in cluster_names:\n",
    "    cluster_idx = cluster_mapping[name]\n",
    "    this_cluster = all_patients[all_patients.CLUSTERS == cluster_idx]\n",
    "    DEMO_df.loc[\"...\", name] = len(this_cluster[this_cluster.RACE == \"...\"])\n",
    "    DEMO_df.loc[\"...\", name] = len(this_cluster[this_cluster.RACE == \"...\"])\n",
    "    DEMO_df.loc[\"...\", name] = len(this_cluster[(this_cluster.RACE != \"...\") & \\\n",
    "                                                  (this_cluster.RACE != \"...\")])"
   ]
  },
  {
   "cell_type": "code",
   "execution_count": null,
   "id": "dec5887b-24e7-4211-9127-93fdb7969d12",
   "metadata": {
    "tags": []
   },
   "outputs": [],
   "source": [
    "# fill in comorbidities and history\n",
    "for name in cluster_names:\n",
    "    cluster_idx = cluster_mapping[name]\n",
    "    this_cluster = all_patients[all_patients.CLUSTERS == cluster_idx]\n",
    "    for disease in comorbidity_space:\n",
    "        disease_row_name = disease.replace(\"...\", \"...\").title()\n",
    "        DEMO_df.loc[disease_row_name, name] = len(this_cluster[this_cluster[disease] == True])"
   ]
  },
  {
   "cell_type": "code",
   "execution_count": null,
   "id": "05ff94e3-46f8-4558-b8e6-ae9f08768af7",
   "metadata": {
    "tags": []
   },
   "outputs": [],
   "source": [
    "DEMO_df.loc[:, \"...\"] = DEMO_df.loc[:, cluster_names[:len(cluster_names)//2]].sum(axis = 1)\n",
    "DEMO_df.loc[:, \"...\"] = DEMO_df.loc[:, cluster_names[len(cluster_names)//2:]].sum(axis = 1)"
   ]
  },
  {
   "cell_type": "code",
   "execution_count": null,
   "id": "afa6025a-f7c5-4788-ab22-59317dbea335",
   "metadata": {
    "tags": []
   },
   "outputs": [],
   "source": [
    "DEMO_df_final = DEMO_df.apply(add_percentage, axis = 0)"
   ]
  },
  {
   "cell_type": "code",
   "execution_count": null,
   "id": "bbc3a86e-f357-4c22-9d8d-4eaaf6fe6704",
   "metadata": {
    "tags": []
   },
   "outputs": [],
   "source": [
    "DEMO_df_final"
   ]
  },
  {
   "cell_type": "code",
   "execution_count": null,
   "id": "140f4eac-8fa5-42aa-a114-bb6f3ea04ed8",
   "metadata": {
    "tags": []
   },
   "outputs": [],
   "source": [
    "DEMO_df_final.to_csv(\"...\", index = True)"
   ]
  },
  {
   "cell_type": "code",
   "execution_count": null,
   "id": "c88e5407-2be0-4aaf-85b3-3af0072279cf",
   "metadata": {
    "tags": []
   },
   "outputs": [],
   "source": [
    "with warnings.catch_warnings():\n",
    "    warnings.simplefilter(\"...\")\n",
    "    DEMO_p_val_df_final = calculate_P_values(DEMO_df, total_n_row_name = \"...\")"
   ]
  },
  {
   "cell_type": "code",
   "execution_count": null,
   "id": "6548b8a5-05e1-4d60-8ff9-4acfc4586b4a",
   "metadata": {
    "tags": []
   },
   "outputs": [],
   "source": [
    "DEMO_p_val_df_final"
   ]
  },
  {
   "cell_type": "code",
   "execution_count": null,
   "id": "5d91b920-77ba-4ce9-a5be-a6503588686a",
   "metadata": {
    "tags": []
   },
   "outputs": [],
   "source": [
    "DEMO_p_val_df_final.to_csv(\"...\", index = True)"
   ]
  },
  {
   "cell_type": "markdown",
   "id": "14ba9360-b58e-41fa-93dc-7d883f85dd16",
   "metadata": {},
   "source": [
    "# CKD Incidence"
   ]
  },
  {
   "cell_type": "markdown",
   "id": "09e37589-41a6-4118-9c04-5164db00beea",
   "metadata": {},
   "source": [
    "Among patients without CKD before, how long it took until they got CKD? focus on 1-year CKD incidence rates"
   ]
  },
  {
   "cell_type": "code",
   "execution_count": null,
   "id": "a8a4fb19-8472-4f46-a5a5-5efa1962c1b9",
   "metadata": {
    "tags": []
   },
   "outputs": [],
   "source": [
    "from A_Label_AKI_Onsets import read_DX\n",
    "from D_Matching_alt import reverse_comorbidity_dict"
   ]
  },
  {
   "cell_type": "code",
   "execution_count": null,
   "id": "84f92333-425f-4fb6-a3e1-a874b9054f66",
   "metadata": {
    "tags": []
   },
   "outputs": [],
   "source": [
    "all_patients[\"...\"] = all_patients[[\"...\", \n",
    "                                            \"...\", \n",
    "                                            \"...\", \n",
    "                                            \"...\", \n",
    "                                            \"...\"]].any(axis=1)\n",
    "\n",
    "# for this one, we can only do in five centers since \"...\", \"...\", \"...\" do not have after-discharge DX\n",
    "non_CKD_patients = all_patients[(all_patients.CKD_HISTORY == False) & \\\n",
    "                                ~(all_patients.CENTER_NAME.isin([\"...\", \"...\", \"...\"]))].copy(deep = True)\n",
    "non_CKD_patients.reset_index(drop = True, inplace = True)\n",
    "non_CKD_patients[\"...\"] = pd.to_datetime(non_CKD_patients[\"...\"])\n",
    "non_CKD_patients[\"...\"] = pd.to_datetime(non_CKD_patients[\"...\"])"
   ]
  },
  {
   "cell_type": "code",
   "execution_count": null,
   "id": "16e3c71b-1707-4fd5-a0fd-db269c848f09",
   "metadata": {
    "tags": []
   },
   "outputs": [],
   "source": [
    "DX_dict = read_DX(ct_names, raw_path)"
   ]
  },
  {
   "cell_type": "code",
   "execution_count": null,
   "id": "ad035e8d-a1e5-4f66-8b8f-056c57dac1ae",
   "metadata": {
    "tags": []
   },
   "outputs": [],
   "source": [
    "def format_CKD_DX_dict(DX_dict, pat_df, reverse_CKD_dict):\n",
    "    processed_DX_dict = dict()\n",
    "    ct_missing_DX_DATE = [\"...\", \"...\", \"...\"]\n",
    "    \n",
    "    for ct_name, DX_df in tqdm(DX_dict.items()):\n",
    "        # filter those not CKD DX\n",
    "        DX_df = DX_df[DX_df.DX.isin(list(reverse_CKD_dict.keys()))]\n",
    "        DX_df.loc[:, \"...\"] = DX_df.loc[:, \"...\"].astype(str)\n",
    "        pat_ct_df = pat_df[pat_df.CENTER_NAME == ct_name]\n",
    "        pat_ct_df = pat_ct_df.merge(DX_df[[\"...\", \"...\", \"...\", \"...\", \"...\"]], \n",
    "                                    on = \"...\", how = \"...\")\n",
    "        pat_ct_df.dropna(subset=[\"...\"], inplace = True)\n",
    "        \n",
    "        if ct_name not in ct_missing_DX_DATE:\n",
    "            pat_ct_df[\"...\"] = pd.to_datetime(pat_ct_df[\"...\"], format = \"...\")\n",
    "            pat_ct_df[\"...\"] = pat_ct_df[\"...\"].dt.strftime(\"...\")\n",
    "            pat_ct_df[\"...\"] = pd.to_datetime(pat_ct_df[\"...\"], format = \"...\")\n",
    "        else:\n",
    "            pat_ct_df.loc[:, \"...\"] = pat_ct_df.loc[:, \"...\"] + \\\n",
    "            pd.to_timedelta(pat_ct_df.loc[:, \"...\"], unit=\"...\")\n",
    "        \n",
    "        pat_ct_df = pat_ct_df.loc[(pat_ct_df.DX_DATE > pat_ct_df.DISCHARGE_DATE) & \\\n",
    "                              (pat_ct_df.DX_DATE < pat_ct_df.DISCHARGE_DATE + pd.Timedelta(days=365)), :]\n",
    "        \n",
    "        # we only care about incidence date\n",
    "        pat_ct_df.drop([\"...\", \"...\"], axis = 1, inplace = True)\n",
    "        pat_ct_df = pat_ct_df.loc[:, [\"...\", \"...\", \"...\", \"...\"]]\n",
    "        processed_DX_dict[ct_name] = pat_ct_df\n",
    "    return processed_DX_dict"
   ]
  },
  {
   "cell_type": "code",
   "execution_count": null,
   "id": "62c27030-3f49-4e2b-b89c-56842119ec35",
   "metadata": {
    "tags": []
   },
   "outputs": [],
   "source": [
    "CKD_dict = {\n",
    "    \"...\": {\"...\": [\"...\"], \"...\":[\"...\"]},\n",
    "    \"...\": {\"...\": [\"...\"], \"...\":[\"...\"]},\n",
    "    \"...\": {\"...\": [\"...\"], \"...\":[\"...\", \"...\", \"...\", \"...\"]},\n",
    "    \"...\": {\"...\": [\"...\"], \"...\":[\"...\"]},\n",
    "    \"...\": {\"...\": [\"...\"], \"...\":[\"...\"]},\n",
    "}\n",
    "reverse_CKD_dict = reverse_comorbidity_dict(CKD_dict)"
   ]
  },
  {
   "cell_type": "code",
   "execution_count": null,
   "id": "13973a82-c5d8-4703-a825-267e716db06d",
   "metadata": {
    "tags": []
   },
   "outputs": [],
   "source": [
    "future_CKD_dict = format_CKD_DX_dict(DX_dict, non_CKD_patients, reverse_CKD_dict)"
   ]
  },
  {
   "cell_type": "code",
   "execution_count": null,
   "id": "b8bd9191-f2af-4408-ac97-73ac8c99c98f",
   "metadata": {
    "tags": []
   },
   "outputs": [],
   "source": [
    "future_CKD_df = concat_dfs_to_one(future_CKD_dict)"
   ]
  },
  {
   "cell_type": "code",
   "execution_count": null,
   "id": "86ccc3cd-5f8f-4f33-8971-23a89943ae5d",
   "metadata": {
    "tags": []
   },
   "outputs": [],
   "source": [
    "# we only take the earlister CKD incidence\n",
    "future_CKD_df = future_CKD_df.sort_values(by=pat_id_cols + [\"...\"], ascending=True)"
   ]
  },
  {
   "cell_type": "code",
   "execution_count": null,
   "id": "968ea0a1-7a30-4cb0-849a-148f3587f8e1",
   "metadata": {
    "tags": []
   },
   "outputs": [],
   "source": [
    "future_CKD_df = future_CKD_df.groupby(pat_id_cols).first().reset_index()\n",
    "future_CKD_df.rename(columns = {\"...\": \"...\"}, inplace = True)"
   ]
  },
  {
   "cell_type": "code",
   "execution_count": null,
   "id": "5c328fc3-2525-49a7-ab08-8e53941e4f5f",
   "metadata": {
    "tags": []
   },
   "outputs": [],
   "source": [
    "non_CKD_patients = non_CKD_patients.merge(future_CKD_df, on = pat_id_cols, how = \"...\")"
   ]
  },
  {
   "cell_type": "code",
   "execution_count": null,
   "id": "4e953c38-3434-429d-aba9-a66f591e1a3b",
   "metadata": {
    "tags": []
   },
   "outputs": [],
   "source": [
    "non_CKD_patients[\"...\"] = (non_CKD_patients[\"...\"] - non_CKD_patients[\"...\"]).dt.days\n",
    "non_CKD_patients[\"...\"] = (non_CKD_patients[\"...\"] < 365).astype(int)\n",
    "non_CKD_patients[\"...\"] = non_CKD_patients[\"...\"].apply(lambda x: 365 if pd.isna(x) or x > 365 else x)"
   ]
  },
  {
   "cell_type": "code",
   "execution_count": null,
   "id": "34d403a8-92b0-48f4-b197-4df7d45781e9",
   "metadata": {
    "tags": []
   },
   "outputs": [],
   "source": [
    "# we observe a sharp increse in the first 100 days of class 3\n",
    "class_2_CKD = non_CKD_patients[(non_CKD_patients.CLUSTERS == cluster_mapping[\"...\"]) & \\\n",
    "                      (non_CKD_patients.CKD_INCIDENCE_1_YEAR_EVENT == 1)]\n",
    "class_2_CKD_first_100 = class_2_CKD[class_2_CKD.CKD_INCIDENCE_1_YEAR_TIME <= 100]\n",
    "\n",
    "class_3_CKD = non_CKD_patients[(non_CKD_patients.CLUSTERS == cluster_mapping[\"...\"]) & \\\n",
    "                      (non_CKD_patients.CKD_INCIDENCE_1_YEAR_EVENT == 1)]\n",
    "class_3_CKD_first_100 = class_3_CKD[class_3_CKD.CKD_INCIDENCE_1_YEAR_TIME <= 100]\n",
    "\n",
    "print(len(class_2_CKD_first_100) / len(class_2_CKD))\n",
    "print(len(class_3_CKD_first_100) / len(class_3_CKD))"
   ]
  },
  {
   "cell_type": "code",
   "execution_count": null,
   "id": "c0fa987c-2fbb-42bc-b211-19694be84aa6",
   "metadata": {
    "tags": []
   },
   "outputs": [],
   "source": [
    "non_CKD_AKI_patients = non_CKD_patients.loc[non_CKD_patients.CLUSTERS.isin([cluster_mapping[\"...\"], cluster_mapping[\"...\"], cluster_mapping[\"...\"]]), :]"
   ]
  },
  {
   "cell_type": "code",
   "execution_count": null,
   "id": "bd93ffcf-45fa-48b3-8564-7f7a69f47afe",
   "metadata": {
    "tags": []
   },
   "outputs": [],
   "source": [
    "CKD_adjust_variables_3 = adjust_variables_2 + [\"...\", \"...\", \"...\"]\n",
    "CKD_adjust_variables_4 = CKD_adjust_variables_3 + [\"...\"]"
   ]
  },
  {
   "cell_type": "code",
   "execution_count": null,
   "id": "527df5aa-d61f-4ec8-a97d-c902fff39e67",
   "metadata": {},
   "outputs": [],
   "source": [
    "with contextlib.redirect_stdout(open(os.devnull, \"...\")), \\\n",
    "     contextlib.redirect_stderr(open(os.devnull, \"...\")), \\\n",
    "     warnings.catch_warnings():\n",
    "    \n",
    "    warnings.simplefilter(\"...\")     # Suppress warnings like ConvergenceWarning\n",
    "    np.seterr(all=\"...\")             # Suppress numpy warnings like overflow\n",
    "    target_list = [\"...\"]\n",
    "    CKD_adjust_var_list = [adjust_variables_1, adjust_variables_2, CKD_adjust_variables_3, CKD_adjust_variables_4]\n",
    "    outcome_df = populate_AKI_outcome(outcome_df, non_CKD_AKI_patients, target_list, CKD_adjust_var_list)"
   ]
  },
  {
   "cell_type": "code",
   "execution_count": null,
   "id": "121d5dfd-fd6e-4b89-84ee-d22f9c038d4b",
   "metadata": {
    "tags": []
   },
   "outputs": [],
   "source": [
    "with contextlib.redirect_stdout(open(os.devnull, \"...\")), \\\n",
    "     contextlib.redirect_stderr(open(os.devnull, \"...\")), \\\n",
    "     warnings.catch_warnings():\n",
    "    \n",
    "    warnings.simplefilter(\"...\")     # Suppress warnings like ConvergenceWarning\n",
    "    np.seterr(all=\"...\")             # Suppress numpy warnings like overflow\n",
    "    target_list = [\"...\"]\n",
    "    CKD_adjust_var_list = [adjust_variables_1, adjust_variables_2, CKD_adjust_variables_3, CKD_adjust_variables_4]\n",
    "    outcome_df = populate_AKI_vs_non_AKI_outcome(outcome_df, non_CKD_patients, target_list, CKD_adjust_var_list)"
   ]
  },
  {
   "cell_type": "code",
   "execution_count": null,
   "id": "5df709b2-9f06-4b33-80fb-d96420e1eac7",
   "metadata": {
    "tags": []
   },
   "outputs": [],
   "source": [
    "outcome_df"
   ]
  },
  {
   "cell_type": "code",
   "execution_count": null,
   "id": "c366e0ec-1c06-4100-8cbf-0a70489a8f9c",
   "metadata": {
    "tags": []
   },
   "outputs": [],
   "source": [
    "outcome_df.to_csv(\"...\", index = True)"
   ]
  },
  {
   "cell_type": "markdown",
   "id": "e473f5ca-50fc-4cf8-b024-a46e1a965131",
   "metadata": {},
   "source": [
    "# Plot Line Charts"
   ]
  },
  {
   "cell_type": "markdown",
   "id": "dbcc15c5-0cf1-4752-a1a0-44e837a940f7",
   "metadata": {},
   "source": [
    "1. 30-day mortality + in-hospital mortality     \n",
    "2. 1-year mortality\n",
    "3. 1-year dialysis or RRT\n",
    "4. 1-year CKD incidence"
   ]
  },
  {
   "cell_type": "code",
   "execution_count": null,
   "id": "c4a3aac3-0b2b-4be8-95f1-5c0569e71bb2",
   "metadata": {
    "tags": []
   },
   "outputs": [],
   "source": [
    "from mpl_toolkits.axes_grid1.inset_locator import inset_axes"
   ]
  },
  {
   "cell_type": "code",
   "execution_count": null,
   "id": "b256d5f3-d694-432e-b46f-a60e304d9740",
   "metadata": {
    "tags": []
   },
   "outputs": [],
   "source": [
    "def plot_outcomes(ax, pat_df, col_to_plot, time_length, title, plot_in_hos_death = False):\n",
    "    n_clusters = len(pat_df.CLUSTERS.unique())\n",
    "    \n",
    "    if plot_in_hos_death:\n",
    "        Hospital_death_rates = []\n",
    "        \n",
    "    for cluster_idx in range(n_clusters):\n",
    "        death_rate_series = [0]\n",
    "        this_cluster = pat_df[pat_df.CLUSTERS == cluster_idx]\n",
    "        this_cluster_n = this_cluster.shape[0]\n",
    "        \n",
    "        # collect in-hospital mortality rates of each cluster\n",
    "        if plot_in_hos_death:\n",
    "            this_cluster_in_hos_death = this_cluster[this_cluster[col_to_plot] < 1]\n",
    "            this_cluster_hos_death_rate = this_cluster_in_hos_death.shape[0] / this_cluster_n\n",
    "            Hospital_death_rates.append(this_cluster_hos_death_rate)\n",
    "            print(reversed_cluster_mapping[cluster_idx], \"...\", this_cluster_hos_death_rate)\n",
    "        \n",
    "        # collect culmulative rates of each cluster\n",
    "        for day in range(1, time_length + 1):\n",
    "            cum_death_this_day = this_cluster[(this_cluster[col_to_plot] <= day) & (this_cluster[col_to_plot] >= 1)]\n",
    "            cum_death_rate_this_day = cum_death_this_day.shape[0] / this_cluster_n\n",
    "            death_rate_series.append(cum_death_rate_this_day)\n",
    "        \n",
    "        # plot culmulative rates\n",
    "        ax.step([day for day in range(time_length + 1)], np.array(death_rate_series) * 100,\n",
    "                 label = reversed_cluster_mapping[cluster_idx], linestyle = \"...\", where = \"...\", \n",
    "                 color = new_color_key[cluster_idx])\n",
    "    \n",
    "    # add figure legend\n",
    "    ax.legend(loc = \"...\")\n",
    "    ax.set_xlabel(\"...\")\n",
    "    ax.set_ylabel(\"...\")\n",
    "    ax.set_title(title, fontsize = 15)\n",
    "    ax.grid(axis=\"...\", linestyle=\"...\", alpha=0.4)\n",
    "    \n",
    "    # plot in-hospital death as small subplot\n",
    "    if plot_in_hos_death:\n",
    "        ax_small = ax.inset_axes([0.74, 0.01, 0.25, 0.23])\n",
    "        for cluster_idx in range(n_clusters):\n",
    "            ax_small.bar(cluster_idx, \n",
    "                         Hospital_death_rates[cluster_idx] * 100, \n",
    "                         width = 0.6, color = new_color_key[cluster_idx])\n",
    "            ax_small.set_ylabel(\"...\", fontsize = 9)\n",
    "            ax_small.set_title(\"...\", fontsize = 9)\n",
    "            ax_small.tick_params(axis=\"...\", labelsize=6)\n",
    "        ax_small.set_xticks([])\n",
    "        ax_small.grid(axis=\"...\", linestyle=\"...\", alpha=0.3)"
   ]
  },
  {
   "cell_type": "code",
   "execution_count": null,
   "id": "87bfec67-5f65-4bdf-912f-eb8d7a0c7207",
   "metadata": {
    "tags": []
   },
   "outputs": [],
   "source": [
    "figure, axs = plt.subplots(2, 2, figsize = (12, 10))\n",
    "\n",
    "plot_outcomes(axs[0, 0], all_patients, \"...\", 30, \n",
    "              \"...\", plot_in_hos_death = True)\n",
    "\n",
    "plot_outcomes(axs[0, 1], all_patients, \"...\", 365, \n",
    "              \"...\", plot_in_hos_death = False)\n",
    "\n",
    "plot_outcomes(axs[1, 0], all_patients, \"...\", 365, \n",
    "              \"...\", plot_in_hos_death = False)\n",
    "\n",
    "plot_outcomes(axs[1, 1], non_CKD_patients, \"...\", 365, \n",
    "              \"...\", plot_in_hos_death = False)\n",
    "\n",
    "# Adding sequential labels (A, B, C, D) to each subplot\n",
    "labels = [\"...\", \"...\", \"...\", \"...\"]\n",
    "positions = [(0, 0), (0, 1), (1, 0), (1, 1)]\n",
    "\n",
    "for label, pos in zip(labels, positions):\n",
    "    axs[pos].text(-0.1, 1.1, label, transform=axs[pos].transAxes, \n",
    "                  fontsize=16, fontweight=\"...\", va=\"...\", ha=\"...\")\n",
    "    \n",
    "plt.tight_layout()\n",
    "plt.savefig(\"...\", format=\"...\", dpi = figure_dpi)\n",
    "plt.show()"
   ]
  },
  {
   "cell_type": "markdown",
   "id": "15a81e0f-77ed-4c37-ae97-d9b5e8e1f3bd",
   "metadata": {},
   "source": [
    "# Supplimentary Figures"
   ]
  },
  {
   "cell_type": "markdown",
   "id": "318151f6-183c-4c76-a573-77bdad612078",
   "metadata": {},
   "source": [
    "1. Subphenotypes distribution among centers.   \n",
    "2. Laboraroty test results violin plots.  "
   ]
  },
  {
   "cell_type": "code",
   "execution_count": null,
   "id": "147c7180-1782-4fec-b1fc-e96b69c3a056",
   "metadata": {},
   "outputs": [],
   "source": [
    "import seaborn as sns"
   ]
  },
  {
   "cell_type": "code",
   "execution_count": null,
   "id": "7f77cf80-57ea-4319-aa4f-fae3c56a16f9",
   "metadata": {},
   "outputs": [],
   "source": [
    "# Create the ordered category based on the masked_site_names dictionary\n",
    "masked_site_names = {\n",
    "    \"...\": \"...\",\n",
    "    \"...\": \"...\",\n",
    "    \"...\": \"...\",\n",
    "    \"...\": \"...\",\n",
    "    \"...\": \"...\",\n",
    "    \"...\": \"...\",\n",
    "    \"...\": \"...\",\n",
    "    \"...\": \"...\",\n",
    "}\n",
    "\n",
    "# Group by \"...\" and \"...\" to get the counts\n",
    "sb_counts_ct = all_patients.groupby([\"...\", \"...\"]).size().reset_index(name=\"...\")\n",
    "\n",
    "# Map the original \"...\" to the masked site names\n",
    "sb_counts_ct[\"...\"] = sb_counts_ct[\"...\"].map(masked_site_names)\n",
    "\n",
    "# Define the desired order for the X-axis (Site A, Site B, etc.)\n",
    "order = [\"...\", \"...\", \"...\", \"...\", \"...\", \"...\", \"...\", \"...\"]\n",
    "\n",
    "# Convert \"...\" to a categorical type with the specified order\n",
    "sb_counts_ct[\"...\"] = pd.Categorical(sb_counts_ct[\"...\"], categories=order, ordered=True)\n",
    "\n",
    "# Plot the barplot, now it will be ordered by \"...\"\n",
    "plt.figure(figsize=(9,6))\n",
    "barplot = sns.barplot(x=\"...\", y=\"...\", hue=\"...\", data=sb_counts_ct, palette=new_color_key)\n",
    "\n",
    "# Replace legend labels\n",
    "handles, labels = barplot.get_legend_handles_labels()\n",
    "barplot.legend(handles, [\"...\", \"...\", \"...\", \"...\", \"...\", \"...\"], title=\"...\")\n",
    "\n",
    "# Set axis labels and title\n",
    "barplot.set_xlabel(\"...\", fontsize=13)\n",
    "barplot.set_ylabel(\"...\", fontsize=13)\n",
    "plt.title(\"...\", fontsize=15)\n",
    "\n",
    "# Add grid and layout settings\n",
    "plt.grid(axis=\"...\", linestyle=\"...\", alpha=0.2)\n",
    "plt.tight_layout()\n",
    "\n",
    "# Save the figure\n",
    "plt.savefig(\"...\", format=\"...\", dpi=figure_dpi)\n",
    "\n",
    "# Show the plot\n",
    "plt.show()"
   ]
  },
  {
   "cell_type": "code",
   "execution_count": null,
   "id": "2c73758c-0c3d-43dc-98cd-555780440e64",
   "metadata": {},
   "outputs": [],
   "source": [
    "lab_unit_dict = \\\n",
    "{\n",
    "    \"...\": \"...\",\n",
    "    \"...\": \"...\",\n",
    "    \"...\": \"...\",\n",
    "    \"...\": \"...\",\n",
    "    \"...\": \"...\",\n",
    "    \"...\": \"...\",\n",
    "    \"...\": \"...\",\n",
    "    \"...\": \"...\",\n",
    "    \"...\": \"...\",\n",
    "    \"...\": \"...\",\n",
    "    \"...\": \"...\", \n",
    "    \"...\": \"...\",\n",
    "    \"...\": \"...\",\n",
    "    \"...\": \"...\",\n",
    "    \"...\": \"...\",\n",
    "    \"...\": \"...\",\n",
    "    \"...\": \"...\",\n",
    "    \"...\": \"...\",\n",
    "    \"...\": \"...\",\n",
    "    \n",
    "}"
   ]
  },
  {
   "cell_type": "code",
   "execution_count": null,
   "id": "92e1c1dd-4a43-4c73-9821-52b9f16c4eec",
   "metadata": {
    "tags": []
   },
   "outputs": [],
   "source": [
    "fig, axes = plt.subplots(4, 4, figsize=(18, 16))  # Create a 3x4 grid of subplots\n",
    "axes = axes.flatten()  # Flatten the 2D array of axes for easy iteration\n",
    "all_patients.loc[:, \"...\"] = all_patients.loc[:, \"...\"]\n",
    "cols_to_plot = [\"...\"] + filtered_lab_space\n",
    "\n",
    "\n",
    "for i, test in enumerate(cols_to_plot):\n",
    "\n",
    "    if i >= 16:  # Skip if more than 12 plots are required\n",
    "        break\n",
    "\n",
    "    percentile_975 = all_patients[test].quantile(0.975)\n",
    "    percentile_025 = all_patients[test].quantile(0.025)\n",
    "\n",
    "    filtered_lab_df = all_patients[(all_patients[test] <= percentile_975) & \\\n",
    "                                   (all_patients[test] >= percentile_025)]\n",
    "\n",
    "    sns.violinplot(ax=axes[i], x=\"...\", y=test, data=filtered_lab_df, \n",
    "                   showmedians=True, showextrema=False, palette=new_color_key)\n",
    "\n",
    "    axes[i].set_xlabel(\"...\")\n",
    "    axes[i].set_ylabel(lab_unit_dict[test], fontsize = 12)\n",
    "    axes[i].set_title(test, fontsize = 17)\n",
    "    axes[i].set_xticks(list(reversed_cluster_mapping.keys()))\n",
    "    axes[i].set_xticklabels(list(reversed_cluster_mapping.values()), fontsize = 10)\n",
    "\n",
    "\n",
    "plt.tight_layout()\n",
    "plt.savefig(\"...\", format=\"...\", dpi = figure_dpi)\n",
    "plt.show()"
   ]
  }
 ],
 "metadata": {
  "kernelspec": {
   "display_name": "AKI_subphenotyping",
   "language": "python",
   "name": "aki_subphenotyping"
  },
  "language_info": {
   "codemirror_mode": {
    "name": "ipython",
    "version": 3
   },
   "file_extension": ".py",
   "mimetype": "text/x-python",
   "name": "python",
   "nbconvert_exporter": "python",
   "pygments_lexer": "ipython3",
   "version": "3.11.5"
  }
 },
 "nbformat": 4,
 "nbformat_minor": 5
}
