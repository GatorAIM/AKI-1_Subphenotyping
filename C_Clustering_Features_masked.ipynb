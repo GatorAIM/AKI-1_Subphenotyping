{
 "cells": [
  {
   "cell_type": "code",
   "execution_count": null,
   "id": "ef8a80b6-9ccf-4b83-a939-cd397477125d",
   "metadata": {
    "tags": []
   },
   "outputs": [],
   "source": [
    "import time\n",
    "import numpy as np\n",
    "import pandas as pd\n",
    "import matplotlib.pyplot as plt\n",
    "import scipy\n",
    "import string\n",
    "import seaborn as sns\n",
    "from tqdm.auto import tqdm\n",
    "tqdm.pandas()\n",
    "from sklearn import metrics\n",
    "from pyckmeans import MultiCKMeans\n",
    "from scipy.optimize import linear_sum_assignment\n",
    "from sklearn.metrics import confusion_matrix\n",
    "from sklearn.cluster import AgglomerativeClustering\n",
    "from scipy.cluster.hierarchy import dendrogram, fcluster, linkage\n",
    "\n",
    "# try 3D t-SNE plot\n",
    "import pylab\n",
    "from mpl_toolkits.mplot3d import Axes3D\n",
    "from mpl_toolkits.mplot3d import proj3d\n",
    "from sklearn.manifold import TSNE\n",
    "from sklearn.decomposition import PCA\n",
    "from collections import Counter\n",
    "\n",
    "%store -r time_interval_before_ONSET\n",
    "\n",
    "import warnings\n",
    "warnings.simplefilter(action=\"...\", category=FutureWarning)"
   ]
  },
  {
   "cell_type": "code",
   "execution_count": null,
   "id": "6fdd18a7-11a2-4846-973f-10828dad83c6",
   "metadata": {
    "tags": []
   },
   "outputs": [],
   "source": [
    "figure_dpi = 300\n",
    "%store figure_dpi"
   ]
  },
  {
   "cell_type": "code",
   "execution_count": null,
   "id": "089876c3-a666-4474-a8f6-9505ebb2a8bd",
   "metadata": {
    "tags": []
   },
   "outputs": [],
   "source": [
    "color_key = {\n",
    "    0: \"...\",\n",
    "    1: \"...\",\n",
    "    2: \"...\",\n",
    "    3: \"...\",\n",
    "    4: \"...\",\n",
    "    5: \"...\",\n",
    "    6: \"...\",\n",
    "    7: \"...\",\n",
    "    8: \"...\"\n",
    "}"
   ]
  },
  {
   "cell_type": "code",
   "execution_count": null,
   "id": "7dbff5ab-7207-471b-9c28-6892950829db",
   "metadata": {
    "tags": []
   },
   "outputs": [],
   "source": [
    "cls_label_mapping = {0: \"...\", 1: \"...\", 2: \"...\"}"
   ]
  },
  {
   "cell_type": "markdown",
   "id": "29a25e2a-b628-45bc-90ea-978fcb703013",
   "metadata": {},
   "source": [
    "# Read Data Processed in Notebook A"
   ]
  },
  {
   "cell_type": "code",
   "execution_count": null,
   "id": "62fb4916-56d5-4acc-89cf-2b300593bf74",
   "metadata": {
    "tags": []
   },
   "outputs": [],
   "source": [
    "%store -r window_before_and_onset\n",
    "%store -r window_after_onset\n",
    "%store -r window_full"
   ]
  },
  {
   "cell_type": "code",
   "execution_count": null,
   "id": "71a04e9e-d62e-4e35-bed1-7973ff520e08",
   "metadata": {
    "tags": []
   },
   "outputs": [],
   "source": [
    "#Read in Data\n",
    "full_data = pd.read_csv(\"...\")"
   ]
  },
  {
   "cell_type": "code",
   "execution_count": null,
   "id": "5a2789db-c2c0-465a-a7f7-bae20aeb7574",
   "metadata": {
    "tags": []
   },
   "outputs": [],
   "source": [
    "full_SCR = full_data.loc[:, window_full + [\"...\"]]"
   ]
  },
  {
   "cell_type": "code",
   "execution_count": null,
   "id": "7061d697-4cd0-4f84-864a-1d8dc40ec2ff",
   "metadata": {
    "tags": []
   },
   "outputs": [],
   "source": [
    "full_SCR"
   ]
  },
  {
   "cell_type": "markdown",
   "id": "fe024233-ffb2-4803-b78a-1f8b61cc6f9d",
   "metadata": {},
   "source": [
    "# Cluster by Time-series Features Extracted from Raw Measurements"
   ]
  },
  {
   "cell_type": "markdown",
   "id": "6b04167a-04a9-4ce6-b0c5-61e66d7cb9cc",
   "metadata": {},
   "source": [
    "We want to focus on the onset SCr and the 48h window before onset, thus we extract:   \n",
    "1. Onset value itself\n",
    "2. The difference between onset SCr and 48h before\n",
    "3. The difference between onset SCr and SCr baseline\n",
    "4. The difference between the average SCr value of the first 4 days of the window and the baseline."
   ]
  },
  {
   "cell_type": "code",
   "execution_count": null,
   "id": "342cc9b7-a331-4771-9786-993e57107b18",
   "metadata": {
    "tags": []
   },
   "outputs": [],
   "source": [
    "ts_features = pd.DataFrame(0, index = full_SCR.index, \n",
    "                           columns = [\"...\", \"...\", \n",
    "                                      \"...\", \"...\"])"
   ]
  },
  {
   "cell_type": "code",
   "execution_count": null,
   "id": "5bfcdbad-64f5-4b53-a6b9-ded69a54dd66",
   "metadata": {
    "tags": []
   },
   "outputs": [],
   "source": [
    "ts_features.loc[:, \"...\"] = full_SCR.loc[:, \"...\"]\n",
    "ts_features.loc[:, \"...\"] = full_SCR.loc[:, \"...\"] - full_SCR.loc[:, \"...\"]\n",
    "ts_features.loc[:, \"...\"] = full_SCR.loc[:, \"...\"] - full_SCR.loc[:, \"...\"]\n",
    "ts_features.loc[:, \"...\"] = full_SCR.loc[:, [\"...\", \"...\", \"...\", \"...\"]].mean(axis = 1) - full_SCR.loc[:, \"...\"]"
   ]
  },
  {
   "cell_type": "code",
   "execution_count": null,
   "id": "76ea6788-7d02-4883-9c17-43426d863da0",
   "metadata": {
    "tags": []
   },
   "outputs": [],
   "source": [
    "# normalized features\n",
    "def min_max_norm(column):\n",
    "    return (column - column.min()) / (column.max() - column.min())"
   ]
  },
  {
   "cell_type": "code",
   "execution_count": null,
   "id": "b4d086f2-bb88-421a-881e-109da556c5e7",
   "metadata": {
    "tags": []
   },
   "outputs": [],
   "source": [
    "ts_features_norm = ts_features.apply(min_max_norm, axis = 0)"
   ]
  },
  {
   "cell_type": "markdown",
   "id": "896237a7-a462-4cd3-a9b5-b85545af3768",
   "metadata": {},
   "source": [
    "# Try Hierarchical Clustering"
   ]
  },
  {
   "cell_type": "markdown",
   "id": "52647831-dcdb-4f25-9298-ed64ba92b692",
   "metadata": {},
   "source": [
    "get the clustering structure of the features"
   ]
  },
  {
   "cell_type": "code",
   "execution_count": null,
   "id": "86cdb8f5-fd71-4d81-b3eb-e568937b0a42",
   "metadata": {
    "tags": []
   },
   "outputs": [],
   "source": [
    "# adjust Hierarchical clustering colors\n",
    "from scipy.cluster import hierarchy\n",
    "import matplotlib as mpl\n",
    "from matplotlib.colors import ListedColormap\n",
    "\n",
    "# Define the RGB values for green, red, and blue\n",
    "colors = np.array([\n",
    "    [0, 1, 0],  # green\n",
    "    [1, 0, 0],  # red\n",
    "    [0, 0, 1]   # blue\n",
    "])\n",
    "\n",
    "# Create the colormap\n",
    "custom_cmap = ListedColormap(colors)\n",
    "\n",
    "# Use fixed indices to ensure distinct colors\n",
    "indices = np.array([0, 1, 2])\n",
    "\n",
    "# Apply the colormap to the indices\n",
    "colored_values = custom_cmap(indices / (len(indices) - 1))\n",
    "\n",
    "# Set the link color palette using the custom colormap values\n",
    "hierarchy.set_link_color_palette([mpl.colors.rgb2hex(rgb) for rgb in colored_values])"
   ]
  },
  {
   "cell_type": "code",
   "execution_count": null,
   "id": "214fbc52-dd65-48f3-b53a-42857ada024e",
   "metadata": {
    "tags": []
   },
   "outputs": [],
   "source": [
    "# Function to plot dendrogram\n",
    "def plot_dendrogram(ax, model, anno_line_pos, anno_line_test, color_threshold, **kwargs):\n",
    "    counts = np.zeros(model.children_.shape[0])\n",
    "    n_samples = len(model.labels_)\n",
    "    for i, merge in enumerate(model.children_):\n",
    "        current_count = 0\n",
    "        for child_idx in merge:\n",
    "            if child_idx < n_samples:\n",
    "                current_count += 1\n",
    "            else:\n",
    "                current_count += counts[child_idx - n_samples]\n",
    "        counts[i] = current_count\n",
    "\n",
    "    linkage_matrix = np.column_stack([model.children_, model.distances_,\n",
    "                                      counts]).astype(float)\n",
    "\n",
    "    ax.set_title(\"...\", fontsize = 15)\n",
    "    dendro = dendrogram(linkage_matrix, color_threshold = color_threshold, ax=ax, **kwargs)\n",
    "    \n",
    "    if anno_line_pos and anno_line_test:\n",
    "        ax.axhline(y=anno_line_pos, color=\"...\", linestyle=\"...\")\n",
    "        ax.text(20, anno_line_pos + 0.5, anno_line_test, verticalalignment=\"...\")\n",
    "    \n",
    "    ax.set_xticks([])\n",
    "    \n",
    "    ax.text(x=165, y=14, s=cls_label_mapping[0])\n",
    "    ax.text(x=405, y=8, s=cls_label_mapping[2])\n",
    "    ax.text(x=570, y=12, s=cls_label_mapping[1])"
   ]
  },
  {
   "cell_type": "code",
   "execution_count": null,
   "id": "285e646f-5aad-4730-953e-bbe5117b6fdf",
   "metadata": {
    "tags": []
   },
   "outputs": [],
   "source": [
    "hier_cluster = AgglomerativeClustering(n_clusters=None, \n",
    "                                       distance_threshold=0)\n",
    "hier_cluster.fit(ts_features_norm)"
   ]
  },
  {
   "cell_type": "code",
   "execution_count": null,
   "id": "196b3196-038b-4420-bd6d-bc638545ba04",
   "metadata": {
    "tags": []
   },
   "outputs": [],
   "source": [
    "# test plot function here\n",
    "fig, ax = plt.subplots(1, 1)\n",
    "plot_dendrogram(ax, hier_cluster, anno_line_pos = 16, \n",
    "                anno_line_test = \"...\", color_threshold = 16, truncate_mode=\"...\", p=5)"
   ]
  },
  {
   "cell_type": "markdown",
   "id": "08f718bd-7862-4b6a-806c-024917db4cbd",
   "metadata": {
    "tags": []
   },
   "source": [
    "# Clustering Visualization and Analysis Functions"
   ]
  },
  {
   "cell_type": "code",
   "execution_count": null,
   "id": "712567ee-5b82-4178-9d1b-ccd88e8de0ff",
   "metadata": {
    "tags": []
   },
   "outputs": [],
   "source": [
    "def show_cluster_size(clusters_assign):\n",
    "    clusters_assign_names = [cls_label_mapping[c] for c in clusters_assign]\n",
    "    counts = pd.Series(clusters_assign_names).value_counts().sort_index()\n",
    "    df = pd.DataFrame({\n",
    "    \"...\": counts, \n",
    "    \"...\": 100 * counts / len(clusters_assign)})\n",
    "    print(df)"
   ]
  },
  {
   "cell_type": "code",
   "execution_count": null,
   "id": "9d2e5db9-e168-430a-bd8c-7162539886dd",
   "metadata": {
    "tags": []
   },
   "outputs": [],
   "source": [
    "def adjust_clustering_res(cluster_res_1, cluster_res_2):\n",
    "    assert(len(cluster_res_1) == len(cluster_res_2))\n",
    "    conf_mat = confusion_matrix(cluster_res_1, cluster_res_2)\n",
    "\n",
    "    row_ind, col_ind = linear_sum_assignment(-conf_mat)  \n",
    "    mapping = dict(zip(col_ind, row_ind))\n",
    "\n",
    "    cluster_res_2_new = [mapping[label] for label in cluster_res_2]\n",
    "    return cluster_res_2_new"
   ]
  },
  {
   "cell_type": "code",
   "execution_count": null,
   "id": "dcfb8f51-d5e3-4c56-95c0-cf68909ed217",
   "metadata": {
    "tags": []
   },
   "outputs": [],
   "source": [
    "def create_confusion_matrix(labels1, labels2):\n",
    "    \"...\"\"...\"\"...\"\n",
    "    assert len(labels1) == len(labels2), \"...\"\n",
    "    max_label1 = max(labels1)\n",
    "    max_label2 = max(labels2)\n",
    "    \n",
    "    # Create an empty matrix\n",
    "    matrix = np.zeros((max_label1 + 1, max_label2 + 1))\n",
    "    \n",
    "    for l1, l2 in zip(labels1, labels2):\n",
    "        matrix[l1][l2] += 1\n",
    "\n",
    "    # Normalize by rows to get percentages\n",
    "    matrix = matrix / matrix.sum(axis=1, keepdims=True) * 100\n",
    "    return matrix"
   ]
  },
  {
   "cell_type": "code",
   "execution_count": null,
   "id": "890bb742-fcf0-48b0-92ee-ce78252b06bb",
   "metadata": {
    "tags": []
   },
   "outputs": [],
   "source": [
    "def plot_2D_tsne(ax, data, labels, title):\n",
    "    \n",
    "    model = TSNE(n_components=2)\n",
    "        \n",
    "    transformed_data = model.fit_transform(data)\n",
    "\n",
    "    # Find unique labels and their corresponding colors\n",
    "    unique_labels = np.unique(labels)\n",
    "\n",
    "    for label in unique_labels:\n",
    "        # Filter the data points belonging to the current label\n",
    "        label_data = transformed_data[labels == label]\n",
    "\n",
    "        # Scatter plot for the current label data points\n",
    "        ax.scatter(label_data[:, 0], label_data[:, 1], c=color_key[label], label=cls_label_mapping[label], s=1.0)\n",
    "\n",
    "    # Add a legend\n",
    "    ax.legend()\n",
    "\n",
    "    # Set labels and title\n",
    "    ax.set_xlabel(\"...\")\n",
    "    ax.set_ylabel(\"...\")\n",
    "    ax.set_title(title, fontsize = 15)"
   ]
  },
  {
   "cell_type": "code",
   "execution_count": null,
   "id": "87b531e8-e78c-474a-8116-ae0f417442c4",
   "metadata": {
    "tags": []
   },
   "outputs": [],
   "source": [
    "def switch_labels_according_to_freq(clusters_assign):\n",
    "    counter = Counter(clusters_assign)\n",
    "\n",
    "    sorted_items = sorted(counter.items(), key=lambda x: x[1], reverse=True)\n",
    "\n",
    "    new_labels = {item[0]: i for i, item in enumerate(sorted_items)}\n",
    "\n",
    "    new_list = [new_labels[item] for item in clusters_assign]\n",
    "\n",
    "    return new_list"
   ]
  },
  {
   "cell_type": "code",
   "execution_count": null,
   "id": "7ec4cd64-612d-4fdd-92ab-4890223ca4fa",
   "metadata": {
    "tags": []
   },
   "outputs": [],
   "source": [
    "def plot_consensus_heatmap(ax, ckm_res_best_k_mtx, clusters_assign, cluster_n):\n",
    "    df_from_consensus = pd.DataFrame(ckm_res_best_k_mtx, \n",
    "                        index=clusters_assign, columns=clusters_assign)\n",
    "    sorted_df = df_from_consensus.sort_index(axis=0).sort_index(axis=1)\n",
    "    df_for_heatmap = pd.DataFrame(sorted_df.values)\n",
    "    num_indices = int(0.1 * df_for_heatmap.shape[0])\n",
    "    sample_indices = sorted(np.random.choice(df_for_heatmap.index, size=num_indices, replace=False))\n",
    "    df_for_heatmap = df_for_heatmap.loc[sample_indices, sample_indices]\n",
    "    sns.heatmap(df_for_heatmap, annot = False, ax=ax)\n",
    "    ax.set_title(\"...\" + str(cluster_n), fontsize = 20)\n",
    "    ax.set_xticks([])\n",
    "    ax.set_yticks([])"
   ]
  },
  {
   "cell_type": "code",
   "execution_count": null,
   "id": "9becdc50-f2d4-4a1b-8db6-e73b14f960f1",
   "metadata": {
    "tags": []
   },
   "outputs": [],
   "source": [
    "def get_consensus_mtx_and_cluster_at_n(cluster_n, mckm_results):\n",
    "    results_at_n = mckm_results.ckmeans_results[cluster_n - 2]\n",
    "    consensus_mtx = results_at_n.cmatrix\n",
    "    clusters_at_n = results_at_n.cl\n",
    "    clusters_at_n = switch_labels_according_to_freq(clusters_at_n)\n",
    "    return consensus_mtx, clusters_at_n"
   ]
  },
  {
   "cell_type": "markdown",
   "id": "d0075d83-6bcf-4b4e-8727-264931f7d762",
   "metadata": {
    "tags": []
   },
   "source": [
    "# Apply Consensus K-Means"
   ]
  },
  {
   "cell_type": "code",
   "execution_count": null,
   "id": "9374ac71-aaa8-474b-bc54-9402d55dbd6d",
   "metadata": {
    "tags": []
   },
   "outputs": [],
   "source": [
    "max_n_cluster_to_explore = 5"
   ]
  },
  {
   "cell_type": "code",
   "execution_count": null,
   "id": "8743e4ca-29ec-4542-a087-2d17fa96c26d",
   "metadata": {
    "tags": []
   },
   "outputs": [],
   "source": [
    "mckm = MultiCKMeans(k=[i for i in range(2, max_n_cluster_to_explore + 1)], \n",
    "                                  n_rep=100, p_samp=0.8, p_feat=0.75)\n",
    "mckm.fit(ts_features_norm)\n",
    "mckm_results = mckm.predict(ts_features_norm)"
   ]
  },
  {
   "cell_type": "code",
   "execution_count": null,
   "id": "425e420c-acdf-408b-881d-1db86df3873b",
   "metadata": {
    "tags": []
   },
   "outputs": [],
   "source": [
    "mckm_results.plot_metrics(figsize=(10,5))"
   ]
  },
  {
   "cell_type": "code",
   "execution_count": null,
   "id": "ee89758f-d67b-4e17-863c-4c6a1908da2f",
   "metadata": {
    "tags": []
   },
   "outputs": [],
   "source": [
    "best_cluster_n = 3"
   ]
  },
  {
   "cell_type": "code",
   "execution_count": null,
   "id": "a0e04e87-b888-4cf9-8074-b3013a3676f4",
   "metadata": {
    "tags": []
   },
   "outputs": [],
   "source": [
    "results_at_n = mckm_results.ckmeans_results[best_cluster_n - 2]\n",
    "clusters_at_n = results_at_n.cl\n",
    "\n",
    "# adjust cluster label order\n",
    "clusters_at_n = switch_labels_according_to_freq(clusters_at_n)\n",
    "show_cluster_size(clusters_at_n)"
   ]
  },
  {
   "cell_type": "code",
   "execution_count": null,
   "id": "ccb70dee-21c9-4747-95b3-98044314d6d0",
   "metadata": {
    "tags": []
   },
   "outputs": [],
   "source": [
    "full_data[\"...\"] = clusters_at_n"
   ]
  },
  {
   "cell_type": "code",
   "execution_count": null,
   "id": "36b42c77-7e42-4e0e-ade5-ea2e6b047b21",
   "metadata": {
    "tags": []
   },
   "outputs": [],
   "source": [
    "full_data.to_csv(\"...\", index = False)"
   ]
  },
  {
   "cell_type": "code",
   "execution_count": null,
   "id": "6b10ecf7-f913-45d6-9fd5-45739cc0417f",
   "metadata": {
    "tags": []
   },
   "outputs": [],
   "source": [
    "fig, axs = plt.subplots(2,2, figsize = (12, 10))\n",
    "\n",
    "consensus_mtx_at_n, clusters_at_n_heatmap = \\\n",
    "get_consensus_mtx_and_cluster_at_n(2, mckm_results)\n",
    "plot_consensus_heatmap(axs[0,0], consensus_mtx_at_n, clusters_at_n_heatmap, 2)\n",
    "\n",
    "consensus_mtx_at_n, clusters_at_n_heatmap = \\\n",
    "get_consensus_mtx_and_cluster_at_n(3, mckm_results)\n",
    "plot_consensus_heatmap(axs[0,1], consensus_mtx_at_n, clusters_at_n_heatmap, 3)\n",
    "\n",
    "consensus_mtx_at_n, clusters_at_n_heatmap = \\\n",
    "get_consensus_mtx_and_cluster_at_n(4, mckm_results)\n",
    "plot_consensus_heatmap(axs[1,0], consensus_mtx_at_n, clusters_at_n_heatmap, 4)\n",
    "\n",
    "consensus_mtx_at_n, clusters_at_n_heatmap = \\\n",
    "get_consensus_mtx_and_cluster_at_n(5, mckm_results)\n",
    "plot_consensus_heatmap(axs[1,1], consensus_mtx_at_n, clusters_at_n_heatmap, 5)\n",
    "\n",
    "# Adding sequential labels (A, B, C, D) to each subplot\n",
    "labels = list(string.ascii_lowercase)\n",
    "positions = [(0, 0), (0, 1), (1, 0), (1, 1)]\n",
    "\n",
    "for label, pos in zip(labels, positions):\n",
    "    axs[pos].text(-0.1, 1.1, label, transform=axs[pos].transAxes, \n",
    "                  fontsize=16, fontweight=\"...\", va=\"...\", ha=\"...\")\n",
    "\n",
    "plt.tight_layout()\n",
    "plt.savefig(\"...\", format=\"...\", dpi = figure_dpi)\n",
    "plt.show()"
   ]
  },
  {
   "cell_type": "code",
   "execution_count": null,
   "id": "6ecef82b-ead7-4255-ada3-e603cd9c782d",
   "metadata": {
    "tags": []
   },
   "outputs": [],
   "source": [
    "hier_at_n = AgglomerativeClustering(n_clusters = best_cluster_n).fit(ts_features_norm)\n",
    "hier_at_n_clusters = hier_at_n.labels_"
   ]
  },
  {
   "cell_type": "code",
   "execution_count": null,
   "id": "566cd6a7-5d05-4bc3-8ae8-70f6fe9534fa",
   "metadata": {
    "tags": []
   },
   "outputs": [],
   "source": [
    "hier_at_n_clusters = adjust_clustering_res(clusters_at_n, hier_at_n_clusters)"
   ]
  },
  {
   "cell_type": "code",
   "execution_count": null,
   "id": "da46b16d-a7c4-40f8-b2d5-20e2993e4749",
   "metadata": {},
   "outputs": [],
   "source": [
    "def plot_two_alg_overlap(ax, clustering_1, clustering_2):\n",
    "    confusion_matrix_two_alg = create_confusion_matrix(clustering_1, clustering_2)\n",
    "\n",
    "    sns.heatmap(confusion_matrix_two_alg, cmap=\"...\", ax = ax,\n",
    "                annot = True, cbar_kws={\"...\": \"...\"}, annot_kws={\"...\": 20},\n",
    "                fmt=\"...\")\n",
    "    ax.set_xlabel(\"...\")\n",
    "    ax.set_ylabel(\"...\")\n",
    "    ax.set_title(\"...\", fontsize = 15)\n",
    "    \n",
    "    # Setting custom tick labels for x and y axis\n",
    "    ax.set_xticklabels([\"...\", \"...\", \"...\"], fontsize=12)\n",
    "    ax.set_yticklabels([\"...\", \"...\", \"...\"], fontsize=12)"
   ]
  },
  {
   "cell_type": "code",
   "execution_count": null,
   "id": "5e26a31e-34f7-4850-9582-736b8cc6995a",
   "metadata": {
    "tags": []
   },
   "outputs": [],
   "source": [
    "fig, axs = plt.subplots(2,2, figsize = (12, 10))\n",
    "plot_dendrogram(axs[0, 0], hier_cluster, anno_line_pos = 16, \n",
    "                anno_line_test = \"...\", color_threshold = 16, truncate_mode=\"...\", p=5)\n",
    "plot_two_alg_overlap(axs[0, 1], hier_at_n_clusters, clusters_at_n)\n",
    "plot_2D_tsne(axs[1, 0], ts_features_norm, hier_at_n_clusters, \"...\")\n",
    "plot_2D_tsne(axs[1, 1], ts_features_norm, clusters_at_n, \"...\")\n",
    "\n",
    "# Adding sequential labels (A, B, C, D) to each subplot\n",
    "labels = list(string.ascii_lowercase)\n",
    "positions = [(0, 0), (0, 1), (1, 0), (1, 1)]\n",
    "\n",
    "for label, pos in zip(labels, positions):\n",
    "    axs[pos].text(-0.1, 1.1, label, transform=axs[pos].transAxes, \n",
    "                  fontsize=16, fontweight=\"...\", va=\"...\", ha=\"...\")\n",
    "\n",
    "plt.tight_layout()\n",
    "plt.savefig(\"...\", format=\"...\", dpi = figure_dpi)\n",
    "plt.show()"
   ]
  },
  {
   "cell_type": "code",
   "execution_count": null,
   "id": "544c9ac8-54ab-4f8d-8eec-ea4e59bd719d",
   "metadata": {
    "tags": []
   },
   "outputs": [],
   "source": [
    "def plot_trajectory_cluster_trend(pat_info, cluster_col_name, SCR_window, title, \n",
    "                                  color_key, figure_dpi):\n",
    "    \n",
    "    best_cluster_num = np.max(pat_info[cluster_col_name]) + 1\n",
    "    \n",
    "    plt.figure(figsize = (10, 5))\n",
    " \n",
    "    for c in range(best_cluster_num):\n",
    "        this_cluster = pat_info[pat_info[cluster_col_name] == c]\n",
    "        trajectory_arr = this_cluster[SCR_window].values\n",
    "        trajectory_50th = np.nanpercentile(trajectory_arr, 50, axis = 0)\n",
    "        trajectory_1th = np.nanpercentile(trajectory_arr, 1, axis = 0)\n",
    "        trajectory_99th = np.nanpercentile(trajectory_arr, 99, axis = 0)\n",
    "        line, = plt.plot(SCR_window, trajectory_50th, \"...\", label=cls_label_mapping[c], \n",
    "                         color = color_key[c])\n",
    "        line_color = line.get_color()\n",
    "        plt.fill_between(SCR_window, trajectory_1th, \n",
    "                         trajectory_99th, color=line_color, alpha=0.15, linewidth=2)\n",
    "    \n",
    "    \n",
    "    y_min, y_max = plt.ylim()\n",
    "    y_annotation = y_min + (y_max - y_min) * 5/6\n",
    "    plt.text(6.85, y_annotation, \"...\", fontsize=12, \n",
    "             verticalalignment=\"...\", horizontalalignment=\"...\")\n",
    "    plt.axvline(x = \"...\", color=\"...\", linestyle=\"...\", linewidth=1)\n",
    "    \n",
    "    \n",
    "    plt.annotate(\"...\", xy=(6, 2.8), xytext=(0, 2.8), arrowprops=dict(arrowstyle=\"...\", \n",
    "                                                                   linestyle=\"...\", color=\"...\"))\n",
    "    \n",
    "    plt.text(3, 2.8, \"...\", fontsize=12, \n",
    "             verticalalignment=\"...\", horizontalalignment=\"...\")\n",
    "    \n",
    "    plt.annotate(\"...\", xy=(0.8, 2.00), xytext=(0.8, 1.00),\n",
    "            arrowprops=dict(arrowstyle=\"...\", linestyle=\"...\", color=\"...\"))\n",
    "    \n",
    "    plt.text(1.4, 1.4, \"...\", fontsize=12, \n",
    "             verticalalignment=\"...\", horizontalalignment=\"...\")\n",
    "    \n",
    "    plt.annotate(\"...\", xy=(1.2, 1.30), xytext=(1.2, 0.6),\n",
    "            arrowprops=dict(arrowstyle=\"...\", linestyle=\"...\", color=\"...\"))\n",
    "    \n",
    "    plt.text(1.8, 0.8, \"...\", fontsize=12, \n",
    "             verticalalignment=\"...\", horizontalalignment=\"...\")\n",
    "    \n",
    "\n",
    "        \n",
    "    plt.title(title)\n",
    "    \n",
    "    plt.xlabel(\"...\")\n",
    "    plt.ylabel(\"...\")\n",
    "    plt.legend(loc = \"...\")\n",
    "    plt.tight_layout()\n",
    "    plt.savefig(\"...\", format=\"...\", dpi = figure_dpi)\n",
    "    plt.show()"
   ]
  },
  {
   "cell_type": "code",
   "execution_count": null,
   "id": "3f8598df-746b-4fc4-a7f3-1c1264de4285",
   "metadata": {
    "tags": []
   },
   "outputs": [],
   "source": [
    "plot_trajectory_cluster_trend(full_data, \"...\", window_before_and_onset + window_after_onset, \n",
    "                              \"...\", color_key, figure_dpi)"
   ]
  }
 ],
 "metadata": {
  "kernelspec": {
   "display_name": "AKI_subphenotyping",
   "language": "python",
   "name": "aki_subphenotyping"
  },
  "language_info": {
   "codemirror_mode": {
    "name": "ipython",
    "version": 3
   },
   "file_extension": ".py",
   "mimetype": "text/x-python",
   "name": "python",
   "nbconvert_exporter": "python",
   "pygments_lexer": "ipython3",
   "version": "3.11.5"
  }
 },
 "nbformat": 4,
 "nbformat_minor": 5
}
