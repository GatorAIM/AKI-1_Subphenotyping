{
 "cells": [
  {
   "cell_type": "code",
   "execution_count": null,
   "id": "160c5a06-ffb3-40c3-b52f-689e8c63f33b",
   "metadata": {
    "tags": []
   },
   "outputs": [],
   "source": [
    "import nbimporter\n",
    "import pandas as pd\n",
    "import numpy as np\n",
    "import matplotlib.pyplot as plt\n",
    "from tqdm import tqdm\n",
    "from A_Label_AKI_Onsets import get_data_path, concat_dfs_to_one\n",
    "import warnings\n",
    "import string\n",
    "warnings.simplefilter(action=\"...\", category=FutureWarning)\n",
    "tqdm.pandas()\n",
    "pd.set_option(\"...\", None)\n",
    "\n",
    "%store -r ct_names\n",
    "%store -r raw_path\n",
    "%store -r pat_id_cols\n",
    "%store -r figure_dpi"
   ]
  },
  {
   "cell_type": "markdown",
   "id": "6fec62fc-cd83-421e-bdb5-e1ce263002e4",
   "metadata": {},
   "source": [
    "# Read All AKI and Non-AKI Patients"
   ]
  },
  {
   "cell_type": "code",
   "execution_count": null,
   "id": "30dbc17c-3ae6-4c16-99db-250ab2098e35",
   "metadata": {
    "tags": []
   },
   "outputs": [],
   "source": [
    "all_patients = pd.read_csv(\"...\")"
   ]
  },
  {
   "cell_type": "code",
   "execution_count": null,
   "id": "cf967dc4-2f22-44aa-9dc8-48052210677f",
   "metadata": {
    "tags": []
   },
   "outputs": [],
   "source": [
    "# format data\n",
    "all_patients[pat_id_cols] = all_patients[pat_id_cols].astype(str)\n",
    "\n",
    "time_cols = [\"...\", \"...\", \"...\"]\n",
    "for col in time_cols:\n",
    "    all_patients[col] = pd.to_datetime(all_patients[col], format = \"...\")"
   ]
  },
  {
   "cell_type": "code",
   "execution_count": null,
   "id": "763e7198-6d5d-4247-b3f3-1bf23019f4d6",
   "metadata": {},
   "outputs": [],
   "source": [
    "# is black will be a covariate to adjust\n",
    "all_patients[\"...\"] = all_patients[\"...\"] == \"...\"\n",
    "all_patients[\"...\"] = all_patients[\"...\"].astype(int)"
   ]
  },
  {
   "cell_type": "markdown",
   "id": "508b5520-a0bf-4022-990f-218c6f44c975",
   "metadata": {},
   "source": [
    "# Cluster Name Mapping"
   ]
  },
  {
   "cell_type": "markdown",
   "id": "bdceda79-1162-4969-833d-b214bfa18c0b",
   "metadata": {},
   "source": [
    "In case we enter wrong cluster"
   ]
  },
  {
   "cell_type": "code",
   "execution_count": null,
   "id": "9ffd29a2-00de-48f6-b0c1-ae7b6900b75f",
   "metadata": {
    "tags": []
   },
   "outputs": [],
   "source": [
    "cluster_mapping = {\n",
    "    \"...\": 3,\n",
    "    \"...\": 4,\n",
    "    \"...\": 5,\n",
    "    \"...\": 0,\n",
    "    \"...\": 1,\n",
    "    \"...\": 2,\n",
    "}"
   ]
  },
  {
   "cell_type": "code",
   "execution_count": null,
   "id": "bb95b024-44fb-4f36-9870-5445db6e6b4b",
   "metadata": {
    "tags": []
   },
   "outputs": [],
   "source": [
    "reversed_cluster_mapping = dict()\n",
    "for name, val in cluster_mapping.items():\n",
    "    reversed_cluster_mapping[val] = name"
   ]
  },
  {
   "cell_type": "markdown",
   "id": "a1431d09-1e18-4565-b03f-2a21c85cf56f",
   "metadata": {},
   "source": [
    "# Read Procedures"
   ]
  },
  {
   "cell_type": "code",
   "execution_count": null,
   "id": "27ef764a-3d0b-4eba-b5fe-26ffabaf50d5",
   "metadata": {
    "tags": []
   },
   "outputs": [],
   "source": [
    "from B_Data_Preprocessing import read_procedures, get_enc_by_PX_code"
   ]
  },
  {
   "cell_type": "code",
   "execution_count": null,
   "id": "4bc15bc3-fe38-4a69-bcad-6f9dc3e3692a",
   "metadata": {
    "tags": []
   },
   "outputs": [],
   "source": [
    "Dia_RRT_codes = {\n",
    "    \"...\": [\"...\",\"...\",\"...\", \"...\", \n",
    "          \"...\",\"...\",\"...\",\"...\",\"...\",\"...\", \"...\"],\n",
    "    \n",
    "    \"...\": [\"...\",\"...\",\"...\",\"...\",\"...\", \"...\",\n",
    "           \"...\",\"...\",\"...\",\"...\",\"...\",\"...\",\"...\",\"...\",\"...\",\"...\",\"...\", \"...\"],\n",
    "    \n",
    "    \"...\": [str(cpt) for cpt in range(90935, 91000)] + \\\n",
    "    [\"...\",\"...\",\"...\",\"...\",\"...\",\"...\",\"...\",\"...\",\"...\",\"...\",\"...\",\"...\"]\n",
    "}"
   ]
  },
  {
   "cell_type": "code",
   "execution_count": null,
   "id": "05d94a9e-d42e-403a-940f-d6094baee9d4",
   "metadata": {
    "tags": []
   },
   "outputs": [],
   "source": [
    "PX_dict = read_procedures(ct_names, raw_path)"
   ]
  },
  {
   "cell_type": "code",
   "execution_count": null,
   "id": "bcb3c974-994e-4d0a-8ad6-8f95b2a245fb",
   "metadata": {
    "tags": []
   },
   "outputs": [],
   "source": [
    "# return encounters related to the input code dict\n",
    "def get_enc_by_future_PX_code(PX_dict, pat_df, code_dict, code_types, pat_id_cols):\n",
    "    processed_PX_dict = dict()\n",
    "    \n",
    "    for ct_name, PX_df in tqdm(PX_dict.items()):\n",
    "        # format type\n",
    "        PX_df[[\"...\", \"...\", \"...\"]] = PX_df[[\"...\", \"...\", \"...\"]].astype(str)\n",
    "        PX_df[\"...\"] = PX_df[\"...\"].replace(\"...\", \"...\")\n",
    "        PX_df[\"...\"] = PX_df[\"...\"].replace(\"...\", \"...\")\n",
    "        PX_df[\"...\"] = PX_df[\"...\"].replace(\"...\", \"...\")\n",
    "        \n",
    "        # we only care about code-related PX, after that we format time\n",
    "        PX_in_codes = []\n",
    "        for code_type in code_types:\n",
    "            PX_df_temp = PX_df[(PX_df.PX_TYPE == code_type) & (PX_df.PX.isin(code_dict[code_type]))]\n",
    "            PX_in_codes.append(PX_df_temp)\n",
    "            \n",
    "        PX_df = pd.concat(PX_in_codes, axis = 0)\n",
    "        \n",
    "        pat_ct_df = pat_df[pat_df.CENTER_NAME == ct_name]\n",
    "        pat_ct_df = pat_ct_df.merge(PX_df, on = \"...\", how = \"...\")\n",
    "        \n",
    "        #drop rows do not involed in the codes\n",
    "        pat_ct_df.dropna(subset=[\"...\"], inplace = True)\n",
    "        \n",
    "        \n",
    "        # format time cols so that we can filter \"...\" dx later\n",
    "        pat_ct_df[\"...\"] = pd.to_datetime(pat_ct_df[\"...\"], format = \"...\")\n",
    "        pat_ct_df[\"...\"] = pat_ct_df[\"...\"].dt.strftime(\"...\")\n",
    "        pat_ct_df[\"...\"] = pd.to_datetime(pat_ct_df[\"...\"], format = \"...\")\n",
    "\n",
    "\n",
    "        # require that it is after discharge\n",
    "        pat_ct_df = pat_ct_df[pat_ct_df.PX_DATE > pat_ct_df.DISCHARGE_DATE]\n",
    "        pat_ct_df = pat_ct_df[pat_id_cols + [\"...\", \"...\", \"...\"]]\n",
    "        \n",
    "        # keep useful info\n",
    "        processed_PX_dict[ct_name] = pat_ct_df\n",
    "        \n",
    "    return processed_PX_dict"
   ]
  },
  {
   "cell_type": "code",
   "execution_count": null,
   "id": "3402aa5a-bdeb-4c17-a7ac-ebe78cb22a03",
   "metadata": {
    "tags": []
   },
   "outputs": [],
   "source": [
    "# for each encounter's future PX, we only take the earliest one\n",
    "def merge_one_PX_df(processed_PX_dict, pat_id_cols):\n",
    "    processed_PX_df = []\n",
    "    \n",
    "    for ct_name, PX_df in processed_PX_dict.items():\n",
    "        PX_df[\"...\"] = (PX_df[\"...\"] - PX_df[\"...\"]).dt.days\n",
    "        grouped = PX_df.groupby(pat_id_cols)\n",
    "        idx = grouped[\"...\"].idxmin()\n",
    "        result_df = PX_df.loc[idx, pat_id_cols + [\"...\"]]\n",
    "        processed_PX_df.append(result_df)\n",
    "    return pd.concat(processed_PX_df, axis = 0)"
   ]
  },
  {
   "cell_type": "code",
   "execution_count": null,
   "id": "27346e6e-11a8-4816-8d98-d3aff724ef07",
   "metadata": {
    "tags": []
   },
   "outputs": [],
   "source": [
    "future_dialysis_RRT = get_enc_by_future_PX_code(PX_dict, all_patients, \n",
    "                          Dia_RRT_codes, [\"...\", \"...\", \"...\"], \n",
    "                          pat_id_cols)"
   ]
  },
  {
   "cell_type": "code",
   "execution_count": null,
   "id": "dd183aa3-a2e5-4b57-95be-5f91db3c5aab",
   "metadata": {
    "tags": []
   },
   "outputs": [],
   "source": [
    "DIA_RRT_df = merge_one_PX_df(future_dialysis_RRT, pat_id_cols)"
   ]
  },
  {
   "cell_type": "code",
   "execution_count": null,
   "id": "61b30d8d-e3df-4d71-bab8-3cffe05c372b",
   "metadata": {
    "tags": []
   },
   "outputs": [],
   "source": [
    "assert(len(DIA_RRT_df.ONSETS_ENCOUNTERID.unique()) == len(DIA_RRT_df))"
   ]
  },
  {
   "cell_type": "markdown",
   "id": "8218370a-abe9-4de8-94c8-92bc658735f6",
   "metadata": {},
   "source": [
    "# Merge Procedures and Process Data"
   ]
  },
  {
   "cell_type": "code",
   "execution_count": null,
   "id": "87e76052-3e30-4817-8516-3651bf39baec",
   "metadata": {
    "tags": []
   },
   "outputs": [],
   "source": [
    "# format data\n",
    "all_patients = all_patients.merge(DIA_RRT_df, on = pat_id_cols, how = \"...\")"
   ]
  },
  {
   "cell_type": "code",
   "execution_count": null,
   "id": "6c91e3a6-fd8c-4d8a-9fb5-515dfbdbf5cb",
   "metadata": {
    "tags": []
   },
   "outputs": [],
   "source": [
    "all_patients[\"...\"] = all_patients[\"...\"] < 365\n",
    "all_patients[\"...\"] = all_patients[\"...\"].astype(int)"
   ]
  },
  {
   "cell_type": "code",
   "execution_count": null,
   "id": "e568408d-f70d-4fef-82ed-23970cdc48da",
   "metadata": {
    "tags": []
   },
   "outputs": [],
   "source": [
    "all_patients[\"...\"] = all_patients[\"...\"].apply(lambda x: 365 if pd.isna(x) or x > 365 else x)"
   ]
  },
  {
   "cell_type": "markdown",
   "id": "1ebd04db-de0f-4dd8-872d-f8cc129fb6cb",
   "metadata": {},
   "source": [
    "# Read Mortality Information"
   ]
  },
  {
   "cell_type": "code",
   "execution_count": null,
   "id": "f8ab0f9d-0224-4b23-b4f4-c79b1ae6270d",
   "metadata": {
    "tags": []
   },
   "outputs": [],
   "source": [
    "def read_and_format_death(ct_names, raw_path):\n",
    "    death_dict = read_Death(ct_names, raw_path)\n",
    "    processed_death_dict = process_death(death_dict, ct_names)\n",
    "    death_df = concat_dfs_to_one(processed_death_dict)\n",
    "    return death_df"
   ]
  },
  {
   "cell_type": "code",
   "execution_count": null,
   "id": "40393fc0-7aad-4f57-895d-dbfdaa01add5",
   "metadata": {
    "tags": []
   },
   "outputs": [],
   "source": [
    "def read_Death(ct_names, raw_path):\n",
    "    \n",
    "    death_dict = dict()\n",
    "    use_cols = [\"...\", \"...\"]\n",
    "    \n",
    "    for ct_name in ct_names:\n",
    "        \n",
    "        data_path = get_data_path(ct_name, raw_path)\n",
    "        \n",
    "        if  (ct_name == \"...\") or (ct_name == \"...\") or (ct_name == \"...\"):\n",
    "            death_df = pd.read_csv(data_path + \"...\", delimiter = \"...\", usecols = use_cols)\n",
    "        elif (ct_name == \"...\"):\n",
    "            death_df = pd.read_csv(data_path + \"...\", delimiter = \"...\", \n",
    "                                   usecols = [\"...\", \"...\"+PD.DATE_SHIFT\"...\"])\n",
    "            \n",
    "        elif (ct_name == \"...\"):\n",
    "            death_df = pd.read_csv(data_path + \"...\", delimiter = \"...\",  \n",
    "                                   usecols = [\"...\", \"...\"])\n",
    "        \n",
    "        elif (ct_name == \"...\"):\n",
    "            death_df = pd.read_csv(data_path + \"...\", delimiter = \"...\", usecols = use_cols)\n",
    "\n",
    "        elif (ct_name == \"...\"):\n",
    "            death_df = pd.read_csv(data_path + \"...\", delimiter = \"...\", usecols = use_cols)\n",
    "\n",
    "        elif (ct_name == \"...\"):\n",
    "            death_df = pd.read_csv(data_path + \"...\", delimiter = \"...\", usecols = use_cols)\n",
    "        \n",
    "        death_df.columns = use_cols\n",
    "        death_dict[ct_name] = death_df\n",
    "    \n",
    "    return death_dict"
   ]
  },
  {
   "cell_type": "code",
   "execution_count": null,
   "id": "b592c808-dafa-489c-a350-975bd45f0d75",
   "metadata": {
    "tags": []
   },
   "outputs": [],
   "source": [
    "def process_death(death_dict, ct_names):\n",
    "    \n",
    "    processed_death_dict = dict()\n",
    "    \n",
    "    for ct_name in ct_names:\n",
    "        this_ct_death = death_dict[ct_name]\n",
    "        if ct_name == \"...\":\n",
    "            this_ct_death[\"...\"] = pd.to_numeric(this_ct_death[\"...\"], errors=\"...\").astype(\"...\")\n",
    "        this_ct_death[\"...\"] = this_ct_death[\"...\"].astype(str)\n",
    "        this_ct_death[\"...\"] = pd.to_datetime(this_ct_death[\"...\"], \n",
    "                                                     format = \"...\")\n",
    "        if ct_name == \"...\":\n",
    "            this_ct_death[\"...\"] = this_ct_death[\"...\"].dt.date\n",
    "            this_ct_death[\"...\"] = pd.to_datetime(this_ct_death[\"...\"])\n",
    "            \n",
    "        this_ct_death[\"...\"] = ct_name\n",
    "        processed_death_dict[ct_name] = this_ct_death\n",
    "    \n",
    "    return processed_death_dict        "
   ]
  },
  {
   "cell_type": "code",
   "execution_count": null,
   "id": "b05400bb-87bf-4bb6-ba66-b30c5614f9d5",
   "metadata": {
    "tags": []
   },
   "outputs": [],
   "source": [
    "death_df = read_and_format_death(ct_names, raw_path)"
   ]
  },
  {
   "cell_type": "code",
   "execution_count": null,
   "id": "679422c9-3c7c-4e43-9ef3-19135efa2ceb",
   "metadata": {
    "tags": []
   },
   "outputs": [],
   "source": [
    "death_df.drop_duplicates(subset = [\"...\", \"...\"], inplace = True)"
   ]
  },
  {
   "cell_type": "markdown",
   "id": "46aa7ed1-f6fd-495b-9948-f4f83671de45",
   "metadata": {},
   "source": [
    "# Read BMI Information and Merge"
   ]
  },
  {
   "cell_type": "code",
   "execution_count": null,
   "id": "fecb3d36-94b5-4136-a35a-9dfba9f1133f",
   "metadata": {
    "tags": []
   },
   "outputs": [],
   "source": [
    "def read_and_format_BMI(ct_names, raw_path):\n",
    "    vital_dict = read_Vital(ct_names, raw_path)\n",
    "    processed_vital_dict = process_Vital(vital_dict, ct_names)\n",
    "    BMI_df = concat_dfs_to_one(processed_vital_dict)\n",
    "    return BMI_df"
   ]
  },
  {
   "cell_type": "code",
   "execution_count": null,
   "id": "24b9e8d8-3198-456a-be05-e2ce7cb5440e",
   "metadata": {
    "tags": []
   },
   "outputs": [],
   "source": [
    "def read_Vital(ct_names, raw_path):\n",
    "    vital_dict = dict()\n",
    "    for ct_name in ct_names:\n",
    "        \n",
    "        data_path = get_data_path(ct_name, raw_path)\n",
    "        \n",
    "        if (ct_name == \"...\") or (ct_name == \"...\"):\n",
    "            vital_df = pd.read_csv(data_path + \"...\", delimiter = \"...\")\n",
    "        elif (ct_name == \"...\") or (ct_name == \"...\"):\n",
    "            vital_df = pd.read_csv(data_path + \"...\", delimiter = \"...\")\n",
    "        elif (ct_name == \"...\") or (ct_name == \"...\"):\n",
    "            vital_df = pd.read_csv(data_path + \"...\", delimiter = \"...\")\n",
    "            vital_df.columns = vital_df.columns.str.upper()\n",
    "        elif (ct_name == \"...\"):\n",
    "            vital_df = pd.read_csv(data_path + \"...\", delimiter = \"...\")\n",
    "        elif (ct_name == \"...\"):\n",
    "            vital_df = pd.read_csv(data_path + \"...\", delimiter = \"...\")\n",
    "            \n",
    "        vital_dict[ct_name] = vital_df\n",
    "    return vital_dict"
   ]
  },
  {
   "cell_type": "code",
   "execution_count": null,
   "id": "2c3b8714-30f0-4bac-86d6-865ab627428e",
   "metadata": {
    "tags": []
   },
   "outputs": [],
   "source": [
    "def calculate_BMI(row):\n",
    "    WT, HT = row[\"...\"], row[\"...\"]\n",
    "    BMI = (WT / (HT ** 2)) * 703\n",
    "    return BMI"
   ]
  },
  {
   "cell_type": "code",
   "execution_count": null,
   "id": "6e3b7215-20cc-4a43-84ab-d1bc95abdf59",
   "metadata": {
    "tags": []
   },
   "outputs": [],
   "source": [
    "def process_Vital(vital_dict, ct_names):\n",
    "    processed_vital_dict = dict()\n",
    "    for ct_name in ct_names:\n",
    "        this_vital = vital_dict[ct_name]\n",
    "        this_vital[[\"...\", \"...\"]] = this_vital[[\"...\", \"...\"]].astype(str)\n",
    "        \n",
    "        if (ct_name == \"...\") or (ct_name == \"...\"):\n",
    "            BMI = this_vital.groupby([\"...\", \"...\"], as_index=False)[\"...\"].mean().reset_index(drop = True)\n",
    "        if (ct_name == \"...\"):\n",
    "            this_vital.columns = this_vital.columns.str.upper()\n",
    "            BMI = this_vital.groupby([\"...\", \"...\"], as_index=False)[\"...\"].mean().reset_index(drop = True)\n",
    "        elif (ct_name == \"...\") or (ct_name == \"...\"):\n",
    "            BMI = this_vital[this_vital.OBSCLIN_CODE == \"...\"].groupby([\"...\", \"...\"], as_index=False)[\"...\"].mean()\n",
    "        elif (ct_name == \"...\"):\n",
    "            this_vital[\"...\"] = this_vital[\"...\"].str[1:-1]\n",
    "            this_vital[\"...\"] = this_vital[\"...\"].str[1:-1]\n",
    "            BMI = this_vital.groupby([\"...\", \"...\"], as_index=False)[\"...\"].mean().reset_index(drop = True)\n",
    "        elif (ct_name == \"...\"):\n",
    "            BMI = this_vital[this_vital.OBSCLIN_CODE == \\\n",
    "                            \"...\"].groupby([\"...\", \"...\"], as_index=False)[\"...\"].mean().reset_index(drop = True)\n",
    "        elif (ct_name == \"...\"):\n",
    "            BMI_info = this_vital.groupby([\"...\", \"...\"], as_index=False)[[\"...\", \"...\"]].mean().reset_index(drop = True)\n",
    "            BMI_info[\"...\"] = BMI_info.apply(calculate_BMI, axis = 1)\n",
    "            BMI = BMI_info.loc[:, [\"...\", \"...\", \"...\"]]\n",
    "            \n",
    "        BMI.columns = [\"...\", \"...\", \"...\"]\n",
    "        BMI[\"...\"] = ct_name\n",
    "        processed_vital_dict[ct_name] = BMI\n",
    "        \n",
    "    return processed_vital_dict   "
   ]
  },
  {
   "cell_type": "code",
   "execution_count": null,
   "id": "4824415c-2d15-4a74-a914-c3471d6d0047",
   "metadata": {
    "tags": []
   },
   "outputs": [],
   "source": [
    "vital_df = read_and_format_BMI(ct_names, raw_path)"
   ]
  },
  {
   "cell_type": "code",
   "execution_count": null,
   "id": "9327dbcc-677a-491e-b0aa-8759d4cf05ab",
   "metadata": {
    "tags": []
   },
   "outputs": [],
   "source": [
    "all_patients = all_patients.merge(vital_df, on = pat_id_cols, how = \"...\")"
   ]
  },
  {
   "cell_type": "markdown",
   "id": "7aec0e28-25ba-4971-b5f1-253154d43d46",
   "metadata": {},
   "source": [
    "# Merge Mortality and Process Data"
   ]
  },
  {
   "cell_type": "code",
   "execution_count": null,
   "id": "59e1f308-c40c-45e4-bf8c-740b429f62a4",
   "metadata": {
    "tags": []
   },
   "outputs": [],
   "source": [
    "# format data\n",
    "all_patients = all_patients.merge(death_df, on = [\"...\", \"...\"], how = \"...\")"
   ]
  },
  {
   "cell_type": "code",
   "execution_count": null,
   "id": "00e0d282-9bb7-46f3-b5d5-e3b2f97af7cf",
   "metadata": {
    "tags": []
   },
   "outputs": [],
   "source": [
    "# sanity check\n",
    "for ct_name in ct_names:\n",
    "    assert(np.sum(all_patients[all_patients.CENTER_NAME == ct_name][\"...\"].notna()) > 0)"
   ]
  },
  {
   "cell_type": "code",
   "execution_count": null,
   "id": "4b3bf953-f6e7-455e-9add-59db69a1e29e",
   "metadata": {
    "tags": []
   },
   "outputs": [],
   "source": [
    "all_patients[\"...\"] = (all_patients[\"...\"] - all_patients[\"...\"]).dt.days\n",
    "all_patients[\"...\"] = all_patients[\"...\"] < 30\n",
    "all_patients[\"...\"] = all_patients[\"...\"] < 365\n",
    "all_patients[[\"...\", \"...\"]] = all_patients[[\"...\", \"...\"]].astype(int)"
   ]
  },
  {
   "cell_type": "code",
   "execution_count": null,
   "id": "4e757f95-1f16-4a8f-a101-a8d94040d0ac",
   "metadata": {
    "tags": []
   },
   "outputs": [],
   "source": [
    "all_patients[\"...\"] = all_patients[\"...\"].apply(lambda x: 30 if pd.isna(x) or x > 30 else x)\n",
    "all_patients[\"...\"] = all_patients[\"...\"].apply(lambda x: 365 if pd.isna(x) or x > 365 else x)"
   ]
  },
  {
   "cell_type": "markdown",
   "id": "46ab6508-5891-43fe-bbc2-5bd8e5e44d89",
   "metadata": {},
   "source": [
    "# Label SCr Recovery"
   ]
  },
  {
   "cell_type": "code",
   "execution_count": null,
   "id": "9b477c1e-641b-4836-b2b8-2b31c84a0407",
   "metadata": {
    "tags": []
   },
   "outputs": [],
   "source": [
    "from A_Label_AKI_Onsets import read_and_format_SCR"
   ]
  },
  {
   "cell_type": "code",
   "execution_count": null,
   "id": "0bd82380-6c38-4346-ae3a-34bf47a45daf",
   "metadata": {
    "tags": []
   },
   "outputs": [],
   "source": [
    "SCR_df = read_and_format_SCR(ct_names, raw_path)"
   ]
  },
  {
   "cell_type": "code",
   "execution_count": null,
   "id": "25e7b564-af0e-42a0-9d09-9af2bfc5c4b1",
   "metadata": {
    "tags": []
   },
   "outputs": [],
   "source": [
    "# multiple measurements on the same day averaged\n",
    "SCR_df = SCR_df.sort_values(by=[\"...\", \"...\", \"...\"])\n",
    "SCR_df = SCR_df.groupby([\"...\", \"...\", \"...\"]).RESULT_NUM.mean().reset_index()"
   ]
  },
  {
   "cell_type": "code",
   "execution_count": null,
   "id": "44de6d97-5673-4c20-ac7f-8c280386b08b",
   "metadata": {
    "tags": []
   },
   "outputs": [],
   "source": [
    "AKI_patients = all_patients.loc[all_patients.NONAKI_SINCE_ADMIT == False, :]"
   ]
  },
  {
   "cell_type": "code",
   "execution_count": null,
   "id": "bc4709c2-9db9-46bc-954d-02c251811899",
   "metadata": {
    "tags": []
   },
   "outputs": [],
   "source": [
    "AKI_patients_id = AKI_patients[pat_id_cols + [\"...\", \"...\", \"...\"]].copy(deep = True)\n",
    "AKI_patients_SCR = AKI_patients_id.merge(SCR_df, on = [\"...\", \"...\"], how = \"...\")"
   ]
  },
  {
   "cell_type": "code",
   "execution_count": null,
   "id": "2328be31-dc6f-48a7-81f2-aeea761cca4f",
   "metadata": {
    "tags": []
   },
   "outputs": [],
   "source": [
    "# get SCr measurements after onset and before discharge\n",
    "AKI_patients_SCR = AKI_patients_SCR.loc[(AKI_patients_SCR.SPECIMEN_DATE > AKI_patients_SCR.AKI1_ONSET) & \\\n",
    "                                    (AKI_patients_SCR.SPECIMEN_DATE <= AKI_patients_SCR.DISCHARGE_DATE), :]"
   ]
  },
  {
   "cell_type": "code",
   "execution_count": null,
   "id": "6797fc6f-5fc6-42fc-a06e-5c7976b87418",
   "metadata": {
    "tags": []
   },
   "outputs": [],
   "source": [
    "# screen those SCr values below 1.5 * SCr baseline (do not satisfy AKI-1)\n",
    "recovery_SCR = AKI_patients_SCR.loc[AKI_patients_SCR.RESULT_NUM <= 1.5 * AKI_patients_SCR.BASELINE_SCR, :]"
   ]
  },
  {
   "cell_type": "code",
   "execution_count": null,
   "id": "a661a546-097c-4e64-9128-efb6c506bda7",
   "metadata": {
    "tags": []
   },
   "outputs": [],
   "source": [
    "# only keep the earliest AKI recovery time\n",
    "recovery_SCR = recovery_SCR.groupby(pat_id_cols).first().reset_index()"
   ]
  },
  {
   "cell_type": "code",
   "execution_count": null,
   "id": "ce0975f6-1496-4cec-9b98-41fc1211e276",
   "metadata": {
    "tags": []
   },
   "outputs": [],
   "source": [
    "recovery_SCR.loc[:, \"...\"] = (recovery_SCR.SPECIMEN_DATE - recovery_SCR.AKI1_ONSET).dt.days\n",
    "recovery_SCR.loc[:, \"...\"] = recovery_SCR.loc[:, \"...\"]\n",
    "recovery_SCR.loc[recovery_SCR.SEVEN_DAYS_SCR_RECOVERY_TIME > 7, \"...\"] = 7\n",
    "recovery_SCR.loc[:, \"...\"] = 0\n",
    "recovery_SCR.loc[recovery_SCR.SCR_RECOVERY_TIME <= 7, \"...\"] = 1"
   ]
  },
  {
   "cell_type": "code",
   "execution_count": null,
   "id": "28fb48fa-91dd-4dde-82d4-20b03d04d252",
   "metadata": {
    "tags": []
   },
   "outputs": [],
   "source": [
    "AKI_patients = AKI_patients.merge(recovery_SCR[pat_id_cols + [\"...\", \"...\"]],\n",
    "                                 on = pat_id_cols, how = \"...\")"
   ]
  },
  {
   "cell_type": "code",
   "execution_count": null,
   "id": "6d8de2b4-0689-491e-ba05-6b200d485b70",
   "metadata": {
    "tags": []
   },
   "outputs": [],
   "source": [
    "AKI_patients[\"...\"] = AKI_patients[\"...\"].fillna(0)\n",
    "AKI_patients[\"...\"] = AKI_patients[\"...\"].fillna(7)"
   ]
  },
  {
   "cell_type": "code",
   "execution_count": null,
   "id": "7ea9bdee-3fca-4782-a49f-480a603feb36",
   "metadata": {
    "tags": []
   },
   "outputs": [],
   "source": [
    "all_patients = all_patients.merge(AKI_patients[pat_id_cols + [\"...\", \"...\"]],\n",
    "                                 on = pat_id_cols, how = \"...\")"
   ]
  },
  {
   "cell_type": "markdown",
   "id": "cdd04eee-2c79-462c-8da5-ebecc22f84aa",
   "metadata": {},
   "source": [
    "# Compare Outcomes by Hazard Ratio"
   ]
  },
  {
   "cell_type": "code",
   "execution_count": null,
   "id": "f256629d-d0d2-4f1a-9260-26dc87bfac1c",
   "metadata": {
    "tags": []
   },
   "outputs": [],
   "source": [
    "outcome_df = pd.DataFrame(index = [\n",
    "                                   \"...\", \n",
    "                                   \"...\",\n",
    "                                   \"...\",\n",
    "                                   \"...\",\n",
    "                                   \"...\", \"...\",\n",
    "                                   \"...\", \"...\", \n",
    "                                   \"...\", \"...\",\n",
    "                                   \"...\", \"...\",\n",
    "                                   \"...\", \"...\",\n",
    "                                   \"...\", \"...\"],\n",
    "                          \n",
    "                         columns = [\"...\", \"...\", \n",
    "                                    \"...\"\"...\"Class B vs Class B\"...\", \"...\"\"])"
   ]
  },
  {
   "cell_type": "code",
   "execution_count": null,
   "id": "30a64305-da53-4203-ac01-f25b29d60f42",
   "metadata": {
    "tags": []
   },
   "outputs": [],
   "source": [
    "# we do not compare SCr recovry between AKI and non-AKI\n",
    "outcome_df.loc[[ \"...\", \"...\",\n",
    "                \"...\", \"...\",],\n",
    "              [\"...\"\"...\"Class B vs Class B\"...\", \"...\"\"...\"/'"
   ]
  },
  {
   "cell_type": "code",
   "execution_count": null,
   "id": "058ca408-817e-4230-89d1-835a85c18571",
   "metadata": {
    "tags": []
   },
   "outputs": [],
   "source": [
    "unadjusted_formula = \"...\"\n",
    "model_1_formula = unadjusted_formula + \"...\"\n",
    "model_2_formula = model_1_formula + \"...\"\n",
    "model_3_formula = model_2_formula + \"...\"\n",
    "\n",
    "formula_dict = dict()\n",
    "formula_dict[\"...\"] = unadjusted_formula\n",
    "formula_dict[\"...\"] = model_1_formula\n",
    "formula_dict[\"...\"] = model_2_formula\n",
    "formula_dict[\"...\"] = model_3_formula"
   ]
  },
  {
   "cell_type": "code",
   "execution_count": null,
   "id": "5575565c-01dd-4d30-a89b-403fcb8208b7",
   "metadata": {
    "tags": []
   },
   "outputs": [],
   "source": [
    "def find_highest_CKD_stage(row):\n",
    "    if row[\"...\"] == 1:\n",
    "        return 5\n",
    "    elif row[\"...\"] == 1:\n",
    "        return 4\n",
    "    elif row[\"...\"] == 1:\n",
    "        return 3\n",
    "    elif row[\"...\"] == 1:\n",
    "        return 2\n",
    "    elif row[\"...\"] == 1:\n",
    "        return 1\n",
    "    else:\n",
    "        return 0"
   ]
  },
  {
   "cell_type": "code",
   "execution_count": null,
   "id": "cdd8c520-ad6f-4fec-9f7d-614702030a49",
   "metadata": {
    "tags": []
   },
   "outputs": [],
   "source": [
    "all_patients[\"...\"] = all_patients.apply(find_highest_CKD_stage, axis = 1)"
   ]
  },
  {
   "cell_type": "code",
   "execution_count": null,
   "id": "101ffed2-d594-443d-ac2a-a4fd62785513",
   "metadata": {
    "tags": []
   },
   "outputs": [],
   "source": [
    "from lifelines import CoxPHFitter\n",
    "import warnings"
   ]
  },
  {
   "cell_type": "code",
   "execution_count": null,
   "id": "86518fb7-8e07-4ed4-9965-59cd5b779d47",
   "metadata": {
    "tags": []
   },
   "outputs": [],
   "source": [
    "def Cox_HR_compare_outcomes(df, formula_dict, outcome_df_col_name, outcome_df):\n",
    "    \n",
    "    for formula_name, formula in formula_dict.items():\n",
    "        hr, ci_lower, ci_upper, p_value = compute_Cox_HR_results(df,\n",
    "                                                             \"...\", \n",
    "                                                             \"...\",\n",
    "                                                             formula)\n",
    "        outcome_df.loc[\"...\"%(formula_name), outcome_df_col_name] = \\\n",
    "        format_Cox_HR_results(hr, ci_lower, ci_upper, p_value)\n",
    "    \n",
    "    for formula_name, formula in formula_dict.items():\n",
    "        hr, ci_lower, ci_upper, p_value = compute_Cox_HR_results(df,\n",
    "                                                             \"...\", \n",
    "                                                             \"...\",\n",
    "                                                             formula)\n",
    "        outcome_df.loc[\"...\"%(formula_name), outcome_df_col_name] = \\\n",
    "        format_Cox_HR_results(hr, ci_lower, ci_upper, p_value)\n",
    "        \n",
    "    for formula_name, formula in formula_dict.items():\n",
    "        hr, ci_lower, ci_upper, p_value = compute_Cox_HR_results(df,\n",
    "                                                             \"...\", \n",
    "                                                             \"...\",\n",
    "                                                             formula)\n",
    "        outcome_df.loc[\"...\"%(formula_name), outcome_df_col_name] = \\\n",
    "        format_Cox_HR_results(hr, ci_lower, ci_upper, p_value)\n",
    "        \n",
    "    return outcome_df"
   ]
  },
  {
   "cell_type": "code",
   "execution_count": null,
   "id": "065b06e6-aaec-4f1a-8960-ca6de2958649",
   "metadata": {
    "tags": []
   },
   "outputs": [],
   "source": [
    "def Cox_HR_compare_SCR_recovery(df, formula_dict, outcome_df_col_name, outcome_df):\n",
    "    for formula_name, formula in formula_dict.items():\n",
    "        hr, ci_lower, ci_upper, p_value = compute_Cox_HR_results(df,\n",
    "                                                             \"...\", \n",
    "                                                             \"...\", formula)\n",
    "        outcome_df.loc[\"...\"%(formula_name), outcome_df_col_name] = \\\n",
    "        format_Cox_HR_results(1 / hr, 1 / ci_upper, 1 / ci_lower, p_value)\n",
    "    return outcome_df"
   ]
  },
  {
   "cell_type": "code",
   "execution_count": null,
   "id": "e39a7456-a835-4c2a-9624-5856b5851fa4",
   "metadata": {
    "tags": []
   },
   "outputs": [],
   "source": [
    "def compute_Cox_HR_results(df, duration_col, event_col, formula):\n",
    "    cph = CoxPHFitter()\n",
    "    cph.fit(df, duration_col=duration_col, event_col=event_col, formula=formula,\n",
    "           show_progress = False, fit_options = {\"...\": 0.1})\n",
    "    \n",
    "    hr = cph.summary.loc[\"...\", \"...\"]\n",
    "    ci_lower = cph.summary.loc[\"...\", \"...\"]\n",
    "    ci_upper = cph.summary.loc[\"...\", \"...\"]\n",
    "    p_value = cph.summary.loc[\"...\", \"...\"]\n",
    "    return hr, ci_lower, ci_upper, p_value"
   ]
  },
  {
   "cell_type": "code",
   "execution_count": null,
   "id": "762cb9a6-a83e-461c-8f28-0d22ba46a8d9",
   "metadata": {
    "tags": []
   },
   "outputs": [],
   "source": [
    "def format_Cox_HR_results(hr, ci_lower, ci_upper, p_value):\n",
    "    hr = \"...\".format(hr)\n",
    "    ci_lower = \"...\".format(ci_lower)\n",
    "    ci_upper = \"...\".format(ci_upper)\n",
    "    p_value = \"...\".format(p_value)\n",
    "    return \"...\"%(hr, ci_lower, ci_upper, p_value)"
   ]
  },
  {
   "cell_type": "markdown",
   "id": "522a48d9-2962-444a-9797-677a495a67b6",
   "metadata": {},
   "source": [
    "Class A vs Class B"
   ]
  },
  {
   "cell_type": "code",
   "execution_count": null,
   "id": "79befe43-202b-42a3-b3fc-1d19e8a4af1b",
   "metadata": {
    "tags": []
   },
   "outputs": [],
   "source": [
    "c1_vs_c2 = all_patients.loc[all_patients.CLUSTERS.isin([cluster_mapping[\"...\"], cluster_mapping[\"...\"]]), :]"
   ]
  },
  {
   "cell_type": "code",
   "execution_count": null,
   "id": "41a74e11-5c99-4303-95cc-09a4acb78dae",
   "metadata": {
    "tags": []
   },
   "outputs": [],
   "source": [
    "with warnings.catch_warnings():\n",
    "    warnings.simplefilter(\"...\")\n",
    "    outcome_df = Cox_HR_compare_outcomes(c1_vs_c2, formula_dict, \"...\", outcome_df)"
   ]
  },
  {
   "cell_type": "code",
   "execution_count": null,
   "id": "fb03fb2f-0a41-47dd-ab09-876f9340031c",
   "metadata": {
    "tags": []
   },
   "outputs": [],
   "source": [
    "with warnings.catch_warnings():\n",
    "    warnings.simplefilter(\"...\")\n",
    "    outcome_df = Cox_HR_compare_SCR_recovery(c1_vs_c2, formula_dict, \"...\", outcome_df)"
   ]
  },
  {
   "cell_type": "markdown",
   "id": "a78e84ae-ffc4-4030-8a40-11cb95cdc1ad",
   "metadata": {},
   "source": [
    "Class A vs Class C"
   ]
  },
  {
   "cell_type": "code",
   "execution_count": null,
   "id": "d660ab12-cc81-4ca8-be23-e86721cea1a3",
   "metadata": {},
   "outputs": [],
   "source": [
    "c1_vs_c3 = all_patients.loc[all_patients.CLUSTERS.isin([cluster_mapping[\"...\"], cluster_mapping[\"...\"]]), :]"
   ]
  },
  {
   "cell_type": "code",
   "execution_count": null,
   "id": "cded45d3-624f-4745-9e3d-569545922b76",
   "metadata": {},
   "outputs": [],
   "source": [
    "with warnings.catch_warnings():\n",
    "    warnings.simplefilter(\"...\")\n",
    "    outcome_df = Cox_HR_compare_outcomes(c1_vs_c3, formula_dict, \"...\", outcome_df)"
   ]
  },
  {
   "cell_type": "code",
   "execution_count": null,
   "id": "6d2ca786-f93e-4db3-9fd1-121d5b61205e",
   "metadata": {
    "tags": []
   },
   "outputs": [],
   "source": [
    "with warnings.catch_warnings():\n",
    "    warnings.simplefilter(\"...\")\n",
    "    outcome_df = Cox_HR_compare_SCR_recovery(c1_vs_c3, formula_dict, \"...\", outcome_df)"
   ]
  },
  {
   "cell_type": "markdown",
   "id": "7350c43f-eca1-4464-a165-d0449178029e",
   "metadata": {},
   "source": [
    "Class A vs Class A'"
   ]
  },
  {
   "cell_type": "code",
   "execution_count": null,
   "id": "22860dd0-3647-440f-beb2-c222a474d248",
   "metadata": {
    "tags": []
   },
   "outputs": [],
   "source": [
    "c1_vs_c1p = all_patients.loc[all_patients.CLUSTERS.isin([cluster_mapping[\"...\"], cluster_mapping[\"...\"\"]]), :]"
   ]
  },
  {
   "cell_type": "code",
   "execution_count": null,
   "id": "c9cc17dc-7eb2-4ab6-b276-85d856cbece5",
   "metadata": {
    "tags": []
   },
   "outputs": [],
   "source": [
    "with warnings.catch_warnings():\n",
    "    warnings.simplefilter(\"...\")\n",
    "    outcome_df = Cox_HR_compare_outcomes(c1_vs_c1p, formula_dict, \"...\"\", outcome_df)"
   ]
  },
  {
   "cell_type": "markdown",
   "id": "58053c20-b7b1-4a78-8050-def7ade65ad7",
   "metadata": {},
   "source": [
    "Class B vs Class B'"
   ]
  },
  {
   "cell_type": "code",
   "execution_count": null,
   "id": "210241da-7689-40c2-a694-affc02b83f4f",
   "metadata": {
    "tags": []
   },
   "outputs": [],
   "source": [
    "c2_vs_c2p = all_patients.loc[all_patients.CLUSTERS.isin([cluster_mapping[\"...\"], cluster_mapping[\"...\"\"]]), :]"
   ]
  },
  {
   "cell_type": "code",
   "execution_count": null,
   "id": "89c31f1e-fe09-4803-b2aa-ed8928351117",
   "metadata": {
    "tags": []
   },
   "outputs": [],
   "source": [
    "with warnings.catch_warnings():\n",
    "    warnings.simplefilter(\"...\")\n",
    "    outcome_df = Cox_HR_compare_outcomes(c2_vs_c2p, formula_dict, \"...\"\", outcome_df)"
   ]
  },
  {
   "cell_type": "markdown",
   "id": "ed0224fa-f081-4ec8-8a9e-0dfb1ffc7269",
   "metadata": {},
   "source": [
    "Class C vs Class C'"
   ]
  },
  {
   "cell_type": "code",
   "execution_count": null,
   "id": "2fbd7fa6-76ef-435d-a5c3-890aba8c2497",
   "metadata": {},
   "outputs": [],
   "source": [
    "c3_vs_c3p = all_patients.loc[all_patients.CLUSTERS.isin([cluster_mapping[\"...\"], cluster_mapping[\"...\"\"]]), :]"
   ]
  },
  {
   "cell_type": "code",
   "execution_count": null,
   "id": "d4391bfe-4ed4-4323-9e8c-44dcb62f3d47",
   "metadata": {
    "tags": []
   },
   "outputs": [],
   "source": [
    "with warnings.catch_warnings():\n",
    "    warnings.simplefilter(\"...\")\n",
    "    outcome_df = Cox_HR_compare_outcomes(c3_vs_c3p, formula_dict, \"...\"\", outcome_df)"
   ]
  },
  {
   "cell_type": "code",
   "execution_count": null,
   "id": "ec9ac721-22aa-4278-8472-cd37125f6940",
   "metadata": {
    "tags": []
   },
   "outputs": [],
   "source": [
    "outcome_df"
   ]
  },
  {
   "cell_type": "markdown",
   "id": "5a22a0c0-f1df-4012-935d-4b49f321275f",
   "metadata": {},
   "source": [
    "# Read Labs"
   ]
  },
  {
   "cell_type": "markdown",
   "id": "093fddbd-3582-4a6e-8ab4-21753ae970b5",
   "metadata": {},
   "source": [
    "We want to know the lab status 3 days before onset. For non-AKI patients, the window is 3-days before the last SCR measurements, thus, we also need SCr."
   ]
  },
  {
   "cell_type": "code",
   "execution_count": null,
   "id": "3a61ddbf-6ba2-487f-8d01-db5823611661",
   "metadata": {},
   "outputs": [],
   "source": [
    "def read_Labs(ct_names, raw_path):\n",
    "    \n",
    "    LAB_dict = dict()\n",
    "    use_cols = [\"...\", \"...\", \"...\", \"...\"]\n",
    "    \n",
    "    for ct_name in tqdm(ct_names):\n",
    "        \n",
    "        data_path = get_data_path(ct_name, raw_path)\n",
    "        \n",
    "        if ct_name == \"...\":\n",
    "            with open(data_path + \"...\", \"...\", encoding=\"...\", errors=\"...\") as file:\n",
    "                LAB_df = pd.read_csv(data_path + \"...\", \n",
    "                                  delimiter=\"...\", usecols=[\"...\", \"...\", \"...\"+PD.DATE_SHIFT\"...\", \n",
    "                                                          \"...\"],\n",
    "                                  encoding=\"...\")\n",
    "\n",
    "        elif ct_name == \"...\":\n",
    "            with open(data_path + \"...\", \"...\", encoding=\"...\", errors=\"...\") as file:\n",
    "                LAB_df = pd.read_csv(data_path + \"...\", \n",
    "                                  delimiter=\"...\", usecols=[\"...\", \"...\", \"...\", \"...\"],\n",
    "                                  encoding=\"...\")\n",
    "\n",
    "        elif ct_name == \"...\":\n",
    "            with open(data_path + \"...\", \"...\", encoding=\"...\", errors=\"...\") as file:\n",
    "                LAB_df = pd.read_csv(data_path + \"...\", \n",
    "                                  delimiter = \"...\", usecols = use_cols,\n",
    "                                  encoding = \"...\")\n",
    "\n",
    "        elif ct_name == \"...\":\n",
    "            with open(data_path + \"...\", \"...\", encoding=\"...\", errors=\"...\") as file:\n",
    "                LAB_df = pd.read_csv(data_path + \"...\", \n",
    "                                  delimiter = \"...\", usecols = use_cols,\n",
    "                                  encoding = \"...\")\n",
    "            LAB_df[\"...\"] = pd.to_datetime(LAB_df[\"...\"], format=\"...\")\n",
    "            LAB_df[\"...\"] = LAB_df[\"...\"].dt.date\n",
    "\n",
    "        elif ct_name == \"...\":\n",
    "            with open(data_path + \"...\", \"...\", encoding=\"...\", errors=\"...\") as file:\n",
    "                LAB_df = pd.read_csv(data_path + \"...\", \n",
    "                                  delimiter=\"...\", usecols = use_cols,\n",
    "                                  encoding=\"...\")\n",
    "\n",
    "        elif (ct_name == \"...\") or (ct_name == \"...\"):\n",
    "            LAB_df = pd.read_csv(data_path + \"...\", delimiter = \"...\", \n",
    "                              usecols = use_cols)\n",
    "\n",
    "        elif ct_name == \"...\":\n",
    "            with open(data_path + \"...\", \"...\", encoding=\"...\", errors=\"...\") as file:\n",
    "                LAB_df = pd.read_csv(file, delimiter=\"...\", \n",
    "                                  usecols = use_cols)\n",
    "\n",
    "\n",
    "        LAB_df.columns = [\"...\", \"...\", \"...\", \"...\"]       \n",
    "        LAB_dict[ct_name] = LAB_df\n",
    "    return LAB_dict"
   ]
  },
  {
   "cell_type": "code",
   "execution_count": null,
   "id": "11246cc2-7084-4b5e-92eb-d8bfd83d5761",
   "metadata": {},
   "outputs": [],
   "source": [
    "def process_Labs(pat_df, LAB_dict):\n",
    "    processed_Lab_dict = dict()\n",
    "    \n",
    "    for ct_name, Lab_df in tqdm(LAB_dict.items()):\n",
    "        # format type\n",
    "        Lab_df[[\"...\", \"...\"]] = Lab_df[[\"...\", \"...\"]].astype(str)\n",
    "        \n",
    "        pat_ct_df = pat_df[pat_df.CENTER_NAME == ct_name][[\"...\", \"...\"]]\n",
    "        pat_ct_df = pat_ct_df.merge(Lab_df, on = \"...\", how = \"...\")\n",
    "        \n",
    "        pat_ct_df[\"...\"] = pd.to_datetime(pat_ct_df[\"...\"], format = \"...\")\n",
    "        \n",
    "        # get the lab status 7 days before lab collection point\n",
    "        pat_ct_df_filtered = pat_ct_df[(pat_ct_df.SPECIMEN_DATE >= (pat_ct_df.LAB_WINDOW_POINT - pd.Timedelta(days=7))) & \\\n",
    "                                       (pat_ct_df.SPECIMEN_DATE < pat_ct_df.LAB_WINDOW_POINT)]\n",
    "        \n",
    "        pat_ct_df_filtered = pat_ct_df_filtered.sort_values(by=[\"...\", \"...\",\"...\"])\n",
    "        pat_ct_df_filtered = pat_ct_df_filtered.groupby([\"...\", \"...\"])[\"...\"].last().reset_index()\n",
    "        pivot_table = pat_ct_df_filtered.pivot(index=\"...\", columns=\"...\", values=\"...\").reset_index()\n",
    "        pivot_table[\"...\"] = ct_name\n",
    "        processed_Lab_dict[ct_name] = pivot_table\n",
    "    \n",
    "    return processed_Lab_dict"
   ]
  },
  {
   "cell_type": "code",
   "execution_count": null,
   "id": "9f8fde79-461e-46f9-9942-75fcb38ef622",
   "metadata": {},
   "outputs": [],
   "source": [
    "# now we can merge Labs to patients\n",
    "Lab_dict = read_Labs(ct_names, raw_path)"
   ]
  },
  {
   "cell_type": "code",
   "execution_count": null,
   "id": "66311546-c09e-414a-945a-cee111865c42",
   "metadata": {
    "tags": []
   },
   "outputs": [],
   "source": [
    "# we still separate AKI and non-AKI patients and collect their lab collection point separately\n",
    "# for AKI patients, it is just AKI-1 onset date\n",
    "# for non-AKI patients, it is the last SCr measurement time\n",
    "AKI_patients = all_patients.loc[all_patients.NONAKI_SINCE_ADMIT == False, :]\n",
    "Non_AKI_patients = all_patients.loc[all_patients.NONAKI_SINCE_ADMIT == True, :]\n",
    "AKI_patients.loc[:, \"...\"] = AKI_patients.loc[:, \"...\"]"
   ]
  },
  {
   "cell_type": "code",
   "execution_count": null,
   "id": "50fb0c1e-c0b8-4ac1-bd15-99a17341be49",
   "metadata": {
    "tags": []
   },
   "outputs": [],
   "source": [
    "Non_AKI_patients_SCR = Non_AKI_patients.merge(SCR_df, on = [\"...\", \"...\"], how = \"...\")\n",
    "# since SCR_df is already sorted, we do not sort here\n",
    "# get SCr measurements during hospitalization\n",
    "Non_AKI_patients_SCR = Non_AKI_patients_SCR.loc[(Non_AKI_patients_SCR.SPECIMEN_DATE > Non_AKI_patients_SCR.ADMIT_DATE) & \\\n",
    "                                    (Non_AKI_patients_SCR.SPECIMEN_DATE < Non_AKI_patients_SCR.DISCHARGE_DATE), :]\n",
    "Non_AKI_patients_SCR = Non_AKI_patients_SCR.groupby(pat_id_cols)[\"...\"].last().reset_index()"
   ]
  },
  {
   "cell_type": "code",
   "execution_count": null,
   "id": "6d68e356-4c58-4492-8837-92cbeabfa083",
   "metadata": {
    "tags": []
   },
   "outputs": [],
   "source": [
    "Non_AKI_patients_SCR.rename(columns = {\"...\": \"...\"}, inplace = True)\n",
    "Non_AKI_patients = Non_AKI_patients.merge(Non_AKI_patients_SCR, on = pat_id_cols, how = \"...\")\n",
    "Non_AKI_patients[\"...\"] = Non_AKI_patients[\"...\"].fillna(Non_AKI_patients[\"...\"])"
   ]
  },
  {
   "cell_type": "code",
   "execution_count": null,
   "id": "6d6826cd-a813-4337-bf91-b476076c2893",
   "metadata": {
    "tags": []
   },
   "outputs": [],
   "source": [
    "all_patients = pd.concat([AKI_patients, Non_AKI_patients], axis = 0)"
   ]
  },
  {
   "cell_type": "code",
   "execution_count": null,
   "id": "18b8e937-fab4-4bc8-82ff-0b30a6fffffb",
   "metadata": {
    "tags": []
   },
   "outputs": [],
   "source": [
    "processed_Lab_dict = process_Labs(all_patients, Lab_dict)"
   ]
  },
  {
   "cell_type": "code",
   "execution_count": null,
   "id": "292ff99c-bc76-429d-baeb-95f78452dc50",
   "metadata": {
    "tags": []
   },
   "outputs": [],
   "source": [
    "Lab_df = concat_dfs_to_one(processed_Lab_dict)"
   ]
  },
  {
   "cell_type": "code",
   "execution_count": null,
   "id": "b35e1022-c54c-4934-af0c-db50e762ab96",
   "metadata": {
    "tags": []
   },
   "outputs": [],
   "source": [
    "original_lab_space = list(Lab_df.columns)\n",
    "original_lab_space.remove(\"...\")\n",
    "original_lab_space.remove(\"...\")"
   ]
  },
  {
   "cell_type": "code",
   "execution_count": null,
   "id": "a49bdb67-8d6d-416e-a9d2-e28739776a0e",
   "metadata": {
    "tags": []
   },
   "outputs": [],
   "source": [
    "all_patients = all_patients.merge(Lab_df, on = [\"...\", \"...\"], how = \"...\")"
   ]
  },
  {
   "cell_type": "code",
   "execution_count": null,
   "id": "cab575c2-8d9a-4239-bfa5-1c31b07772a6",
   "metadata": {
    "tags": []
   },
   "outputs": [],
   "source": [
    "# drop labs with nan rate > 0.3\n",
    "nan_ratios = all_patients[original_lab_space].isna().mean()\n",
    "columns_to_drop = nan_ratios[nan_ratios > 0.3].index\n",
    "# also drop SCr\n",
    "columns_to_drop = list(columns_to_drop) + [\"...\"]\n",
    "all_patients = all_patients.drop(columns=columns_to_drop)"
   ]
  },
  {
   "cell_type": "code",
   "execution_count": null,
   "id": "47af691f-27bf-41af-80a3-d0b0c6894bea",
   "metadata": {
    "tags": []
   },
   "outputs": [],
   "source": [
    "filtered_lab_space = []\n",
    "for lab in original_lab_space:\n",
    "    if lab not in list(columns_to_drop):\n",
    "        filtered_lab_space.append(lab)"
   ]
  },
  {
   "cell_type": "code",
   "execution_count": null,
   "id": "ca61b107-0036-4970-bca1-b98355c11331",
   "metadata": {
    "tags": []
   },
   "outputs": [],
   "source": [
    "loinc_to_lab_name = {\n",
    "    \"...\": \"...\",\n",
    "    \"...\": \"...\",\n",
    "    \"...\": \"...\",\n",
    "    \"...\": \"...\",\n",
    "    \"...\": \"...\",\n",
    "    \"...\": \"...\",\n",
    "    \"...\": \"...\",\n",
    "    \"...\": \"...\",\n",
    "    \"...\": \"...\",\n",
    "    \"...\": \"...\",\n",
    "    \"...\": \"...\",\n",
    "    \"...\": \"...\",\n",
    "    \"...\": \"...\",\n",
    "    \"...\": \"...\",\n",
    "    \"...\": \"...\",\n",
    "}"
   ]
  },
  {
   "cell_type": "code",
   "execution_count": null,
   "id": "98b18a6e-f5ba-438c-82b4-ec3d4bc21e21",
   "metadata": {
    "tags": []
   },
   "outputs": [],
   "source": [
    "all_patients.rename(columns = loinc_to_lab_name, inplace = True)\n",
    "# now labs have been transformed into names\n",
    "filtered_lab_space = list(loinc_to_lab_name.values())"
   ]
  },
  {
   "cell_type": "markdown",
   "id": "3e345fdc-8a6f-41a8-bae4-cd2a9a20f841",
   "metadata": {},
   "source": [
    "For lab illustration, we will show one X plot and one table showing percentage of abnormalty and a p-value table"
   ]
  },
  {
   "cell_type": "markdown",
   "id": "1b4d12f0-7c3e-456e-bd45-184e73cf855a",
   "metadata": {},
   "source": [
    "1. X Plots"
   ]
  },
  {
   "cell_type": "code",
   "execution_count": null,
   "id": "2d48b9cb-91be-4718-b6cc-bd92d7d111aa",
   "metadata": {
    "tags": []
   },
   "outputs": [],
   "source": [
    "from sklearn.experimental import enable_iterative_imputer  # noqa\n",
    "from sklearn.impute import IterativeImputer"
   ]
  },
  {
   "cell_type": "code",
   "execution_count": null,
   "id": "113a102b-3bfb-42f5-831d-a8c8a23cbf4c",
   "metadata": {
    "tags": []
   },
   "outputs": [],
   "source": [
    "def plot_Standarized_Mean_Variable(chosen_2_cluster_idx, pat_df, use_cols,\n",
    "                                   title, color_key, test_organ_map, organ_color_map, ax):\n",
    "    \n",
    "    clustering = pat_df[(pat_df[\"...\"] == chosen_2_cluster_idx[0]) | \\\n",
    "                               (pat_df[\"...\"] == chosen_2_cluster_idx[1])]\n",
    "    \n",
    "    clustering_for_X_plot = clustering[use_cols]\n",
    "    \n",
    "    \n",
    "    #normalize frame\n",
    "    norm_clustering_for_X_plot = (clustering_for_X_plot - clustering_for_X_plot.mean()) / clustering_for_X_plot.std()\n",
    "    norm_clustering_for_X_plot[\"...\"] = clustering[\"...\"]\n",
    "    \n",
    "    #create helping table\n",
    "    stat_table_for_X_plot = \\\n",
    "    pd.DataFrame(0, index = clustering_for_X_plot.columns, columns = chosen_2_cluster_idx)\n",
    "    for test in clustering_for_X_plot.columns:\n",
    "        for c in chosen_2_cluster_idx:\n",
    "            norm_this_cluster = norm_clustering_for_X_plot[norm_clustering_for_X_plot[\"...\"] == c]\n",
    "            stat_table_for_X_plot.loc[test, c] = np.mean(norm_this_cluster[test])\n",
    "    \n",
    "    #helping col to sort rows so that X will show up\n",
    "    stat_table_for_X_plot[\"...\"] = \\\n",
    "        stat_table_for_X_plot[chosen_2_cluster_idx[0]] - stat_table_for_X_plot[chosen_2_cluster_idx[1]]\n",
    "    stat_table_for_X_plot.sort_values(by=\"...\", inplace = True)\n",
    "\n",
    "    \n",
    "    index = list(stat_table_for_X_plot.index)\n",
    "    \n",
    "    lines = []\n",
    "    for c in chosen_2_cluster_idx:\n",
    "        line, = ax.plot(stat_table_for_X_plot.loc[:, c], index, marker = \"...\", color = color_key[c])\n",
    "        lines.append(line)\n",
    "        \n",
    "    #add some body organ/system marker on the y axis\n",
    "    ytick_locations = ax.get_yticks()\n",
    "    ytick_labels = [label.get_text() for label in ax.get_yticklabels()]\n",
    "    yticks_combined = list(zip(ytick_locations, ytick_labels))\n",
    "\n",
    "    for i, (ytick_loc, ytick_label) in enumerate(yticks_combined):\n",
    "        marker = ax.scatter(-0.65, ytick_loc, marker=\"...\", \n",
    "                                color=organ_color_map[test_organ_map[ytick_label]], zorder=5, s=50) \n",
    "        \n",
    "    ax.axvline(x=0, color=\"...\", lw = 0.4)\n",
    "    ax.grid(True, lw = 0.15)\n",
    "    ax.set_title(title)"
   ]
  },
  {
   "cell_type": "code",
   "execution_count": null,
   "id": "932d1040-8a41-4ff8-bf80-26c7ec988859",
   "metadata": {
    "tags": []
   },
   "outputs": [],
   "source": [
    "organ_color_map = {\n",
    "    \"...\": \"...\",\n",
    "    \"...\": \"...\",\n",
    "    \"...\": \"...\",\n",
    "    \"...\": \"...\",\n",
    "    \"...\": \"...\",\n",
    "    \"...\": \"...\",\n",
    "    \"...\": \"...\",\n",
    "}\n",
    "\n",
    "test_organ_map = {\n",
    "    \"...\": \"...\",\n",
    "    \"...\": \"...\",\n",
    "    \"...\": \"...\",\n",
    "    \"...\": \"...\",\n",
    "    \"...\": \"...\",\n",
    "    \"...\": \"...\",\n",
    "    \"...\": \"...\",\n",
    "    \"...\": \"...\",\n",
    "    \"...\": \"...\",\n",
    "    \"...\": \"...\",\n",
    "    \"...\": \"...\",\n",
    "    \"...\": \"...\",\n",
    "    \"...\": \"...\",\n",
    "    \"...\": \"...\",\n",
    "    \"...\": \"...\",\n",
    "    \"...\": \"...\",\n",
    "}"
   ]
  },
  {
   "cell_type": "code",
   "execution_count": null,
   "id": "2405d1e5-9a60-40b1-84e9-bf2b97b4b94e",
   "metadata": {
    "tags": []
   },
   "outputs": [],
   "source": [
    "# beacuse we switch the label, we need a new color key\n",
    "new_color_key = {\n",
    "    0: \"...\",\n",
    "    1: \"...\",\n",
    "    2: \"...\",\n",
    "    3: \"...\",\n",
    "    4: \"...\",\n",
    "    5: \"...\",\n",
    "    6: \"...\",\n",
    "    7: \"...\",\n",
    "    8: \"...\"\n",
    "}"
   ]
  },
  {
   "cell_type": "code",
   "execution_count": null,
   "id": "54a7fd39-fb61-4e9f-8d26-3d9c2ab283cf",
   "metadata": {
    "tags": []
   },
   "outputs": [],
   "source": [
    "# Use MICE to impute missing values\n",
    "imputer = IterativeImputer(missing_values=np.nan, \n",
    "                           max_iter=10000, random_state=42)\n",
    "# should only fit on train data in case for data leakage\n",
    "all_patients.loc[:, filtered_lab_space] = \\\n",
    "imputer.fit_transform(all_patients.loc[:, filtered_lab_space])\n",
    "all_patients.loc[:, filtered_lab_space] = all_patients.loc[:, filtered_lab_space].astype(np.float64)"
   ]
  },
  {
   "cell_type": "code",
   "execution_count": null,
   "id": "b5873a86-2c29-4a0a-b050-441dcde02a79",
   "metadata": {
    "tags": []
   },
   "outputs": [],
   "source": [
    "# make a legend\n",
    "from matplotlib.lines import Line2D\n",
    "from matplotlib.patches import Patch\n",
    "\n",
    "custom_lines = [\n",
    "    Line2D([0], [0], color=\"...\", lw=2, label=\"...\"\"),\n",
    "    Line2D([0], [0], color=\"...\", lw=2, label=\"...\"\"),\n",
    "    Line2D([0], [0], color=\"...\", lw=2, label=\"...\"\"),\n",
    "    Line2D([0], [0], color=\"...\", lw=2, label=\"...\"),\n",
    "    Line2D([0], [0], color=\"...\", lw=2, label=\"...\"),\n",
    "    Line2D([0], [0], color=\"...\", lw=2, label=\"...\"),\n",
    "    Line2D([0], [0], color=organ_color_map[\"...\"], lw=0, marker=\"...\", markersize=10, label=\"...\"),\n",
    "    Line2D([0], [0], color=organ_color_map[\"...\"], lw=0, marker=\"...\", markersize=10, label=\"...\"),\n",
    "    Line2D([0], [0], color=organ_color_map[\"...\"], lw=0, marker=\"...\", markersize=10, label=\"...\")\n",
    "]"
   ]
  },
  {
   "cell_type": "code",
   "execution_count": null,
   "id": "f29c56fc-4b29-4a0f-a828-737f47d28f76",
   "metadata": {
    "tags": []
   },
   "outputs": [],
   "source": [
    "with warnings.catch_warnings():\n",
    "    warnings.simplefilter(\"...\")\n",
    "    \n",
    "    fig, axs = plt.subplots(2, 3, figsize=(12, 10))\n",
    "    \n",
    "    plot_Standarized_Mean_Variable([3, 4], all_patients, filtered_lab_space, \"...\", \n",
    "                                   new_color_key, test_organ_map, organ_color_map, axs[0, 0])\n",
    "\n",
    "    plot_Standarized_Mean_Variable([4, 5], all_patients, filtered_lab_space, \"...\", \n",
    "                                   new_color_key, test_organ_map, organ_color_map, axs[0, 1])\n",
    "\n",
    "    plot_Standarized_Mean_Variable([3, 5], all_patients, filtered_lab_space, \"...\", \n",
    "                                   new_color_key, test_organ_map, organ_color_map, axs[0, 2])\n",
    "\n",
    "    plot_Standarized_Mean_Variable([0, 3], all_patients, filtered_lab_space, \"...\"\", \n",
    "                                   new_color_key, test_organ_map, organ_color_map, axs[1, 0])\n",
    "\n",
    "    plot_Standarized_Mean_Variable([1, 4], all_patients, filtered_lab_space, \"...\"\", \n",
    "                                   new_color_key, test_organ_map, organ_color_map, axs[1, 1])\n",
    "\n",
    "    plot_Standarized_Mean_Variable([2, 5], all_patients, filtered_lab_space, \"...\"\", \n",
    "                                   new_color_key, test_organ_map, organ_color_map, axs[1, 2])\n",
    "   \n",
    "    # Adding sequential labels (A, B, C, D) to each subplot\n",
    "    labels = list(string.ascii_lowercase)\n",
    "    positions = [(0, 0), (0, 1), (0, 2), (1, 0), (1, 1), (1, 2)]\n",
    "\n",
    "    for label, pos in zip(labels, positions):\n",
    "        axs[pos].text(-0.1, 1.1, label, transform=axs[pos].transAxes, \n",
    "                      fontsize=16, fontweight=\"...\", va=\"...\", ha=\"...\")\n",
    "\n",
    "    plt.tight_layout()\n",
    "    plt.legend(handles=custom_lines, loc=\"...\", bbox_to_anchor=(0.864, 0.85), bbox_transform=plt.gcf().transFigure)\n",
    "    plt.savefig(\"...\", format=\"...\", dpi = figure_dpi)\n",
    "    plt.show()"
   ]
  },
  {
   "cell_type": "markdown",
   "id": "5d41cf42-7839-49cc-8682-3794020e0201",
   "metadata": {},
   "source": [
    "2. Table and p-values "
   ]
  },
  {
   "cell_type": "code",
   "execution_count": null,
   "id": "34e55e44-a51d-444c-a8f1-996c33a40fca",
   "metadata": {
    "tags": []
   },
   "outputs": [],
   "source": [
    "lab_normal_range = dict()\n",
    "lab_normal_range[\"...\"] = [8.5, 10.5]\n",
    "lab_normal_range[\"...\"] = [96, 106]\n",
    "lab_normal_range[\"...\"] = [0, 125]\n",
    "lab_normal_range[\"...\"] = [3.5, 5.5]\n",
    "lab_normal_range[\"...\"] = [135, 145]\n",
    "lab_normal_range[\"...\"] = [6, 24]\n",
    "lab_normal_range[\"...\"] = [38, 51]\n",
    "lab_normal_range[\"...\"] = [12.1, 18]\n",
    "lab_normal_range[\"...\"] = [0, 10]\n",
    "lab_normal_range[\"...\"] = [150, 450]\n",
    "lab_normal_range[\"...\"] = [27, 31]\n",
    "lab_normal_range[\"...\"] = [32, 36]\n",
    "lab_normal_range[\"...\"] = [80, 100]\n",
    "lab_normal_range[\"...\"] = [12, 15.3]\n",
    "lab_normal_range[\"...\"] = [4.1, 5.4]\n",
    "assert(len(lab_normal_range) == len(filtered_lab_space))"
   ]
  },
  {
   "cell_type": "code",
   "execution_count": null,
   "id": "c003ddf8-7031-4a57-91d3-e250ca44ebc6",
   "metadata": {
    "tags": []
   },
   "outputs": [],
   "source": [
    "cluster_names = list(cluster_mapping.keys())"
   ]
  },
  {
   "cell_type": "code",
   "execution_count": null,
   "id": "9815f4c3-6e36-4038-a4a7-31355268ad26",
   "metadata": {
    "tags": []
   },
   "outputs": [],
   "source": [
    "cluster_names"
   ]
  },
  {
   "cell_type": "code",
   "execution_count": null,
   "id": "763659f5-6f63-4fe8-9a99-9fc212d64cc4",
   "metadata": {
    "tags": []
   },
   "outputs": [],
   "source": [
    "lab_abnom_df = pd.DataFrame(0, index = [\"...\"] + filtered_lab_space, \n",
    "                          columns = [\"...\", *cluster_names[:len(cluster_names)//2], \n",
    "                                    \"...\", *cluster_names[len(cluster_names)//2:]])"
   ]
  },
  {
   "cell_type": "code",
   "execution_count": null,
   "id": "e1a6c2dc-abc2-42b5-82af-3d5863d20e0b",
   "metadata": {
    "tags": []
   },
   "outputs": [],
   "source": [
    "for lab in filtered_lab_space:\n",
    "    normal_range_lower = lab_normal_range[lab][0]\n",
    "    normal_range_upper = lab_normal_range[lab][1]\n",
    "    \n",
    "    for cluster_name in cluster_names:\n",
    "        cluster_idx = cluster_mapping[cluster_name]\n",
    "        this_cluster = all_patients.loc[all_patients.CLUSTERS == cluster_idx, :]\n",
    "        this_cluster_lab_abnorm_n = ((this_cluster[lab] > normal_range_upper) | \\\n",
    "                                     (this_cluster[lab] < normal_range_lower)).sum()\n",
    "        lab_abnom_df.loc[lab, cluster_name] = this_cluster_lab_abnorm_n"
   ]
  },
  {
   "cell_type": "code",
   "execution_count": null,
   "id": "601b21f3-9b79-433e-bd5a-cd108fe69f2b",
   "metadata": {
    "tags": []
   },
   "outputs": [],
   "source": [
    "# fill in total patient number\n",
    "for cluster_name in cluster_names:\n",
    "    cluster_idx = cluster_mapping[cluster_name]\n",
    "    lab_abnom_df.loc[\"...\", cluster_name] = \\\n",
    "    len(all_patients[all_patients.CLUSTERS == cluster_idx])"
   ]
  },
  {
   "cell_type": "code",
   "execution_count": null,
   "id": "46495341-9888-4258-8d1a-f2af5e907ed2",
   "metadata": {
    "tags": []
   },
   "outputs": [],
   "source": [
    "lab_abnom_df.loc[:, \"...\"] = lab_abnom_df.loc[:, cluster_names[:len(cluster_names)//2]].sum(axis = 1)\n",
    "lab_abnom_df.loc[:, \"...\"] = lab_abnom_df.loc[:, cluster_names[len(cluster_names)//2:]].sum(axis = 1)"
   ]
  },
  {
   "cell_type": "code",
   "execution_count": null,
   "id": "43f5d089-282d-4759-ab82-3ba82b569591",
   "metadata": {
    "tags": []
   },
   "outputs": [],
   "source": [
    "def add_percentage(col):\n",
    "    total = col.iloc[0]  # first row (cluster total) is the total count\n",
    "    return col.map(lambda entry: f\"...\" if total != 0 else \"...\")"
   ]
  },
  {
   "cell_type": "code",
   "execution_count": null,
   "id": "ced24c50-7c3c-4fe7-84f1-5a86c2e21bf9",
   "metadata": {
    "tags": []
   },
   "outputs": [],
   "source": [
    "lab_abnom_df_final = lab_abnom_df.apply(add_percentage, axis = 0)"
   ]
  },
  {
   "cell_type": "code",
   "execution_count": null,
   "id": "6e9f3c37-4a63-449d-a4ee-05a98f4dcdbb",
   "metadata": {
    "tags": []
   },
   "outputs": [],
   "source": [
    "lab_abnom_df_final"
   ]
  },
  {
   "cell_type": "code",
   "execution_count": null,
   "id": "7e458504-ce64-4b90-b22c-413d5544b4f3",
   "metadata": {},
   "outputs": [],
   "source": [
    "lab_abnom_df_final.to_csv(\"...\", index = True)"
   ]
  },
  {
   "cell_type": "markdown",
   "id": "81e6dff4-79e5-4560-9e6b-87b81a9923ef",
   "metadata": {},
   "source": [
    "Calculate P values"
   ]
  },
  {
   "cell_type": "code",
   "execution_count": null,
   "id": "b823cb62-66ba-4612-8eda-f9f0980581dc",
   "metadata": {
    "tags": []
   },
   "outputs": [],
   "source": [
    "from scipy.stats import chi2_contingency"
   ]
  },
  {
   "cell_type": "code",
   "execution_count": null,
   "id": "f168f0bd-5bd9-45dd-9771-f0ec269db37a",
   "metadata": {
    "tags": []
   },
   "outputs": [],
   "source": [
    "def calculate_P_values(num_df, total_n_row_name = \"...\"):\n",
    "    col_names, cluster_pairs = get_P_valuse_df_col_names(num_df)\n",
    "    index_names = [idx for idx in num_df.index if idx != total_n_row_name]\n",
    "    P_values_df = pd.DataFrame(0, index = index_names, columns = col_names)\n",
    "    \n",
    "    for i, pair in enumerate(cluster_pairs):\n",
    "        pvales = []\n",
    "        col_name = col_names[i]\n",
    "        for catg in P_values_df.index:\n",
    "            clusters_for_test = []\n",
    "            clusters_for_test.append(num_df.loc[catg, pair[0]])\n",
    "            clusters_for_test.append(num_df.loc[catg, pair[1]])\n",
    "            cluster_total = num_df.loc[total_n_row_name, [pair[0], pair[1]]].values\n",
    "            p = contingency_table_and_p_value(clusters_for_test, cluster_total)\n",
    "            pvales.append(p)\n",
    "        \n",
    "        pvales_cats = [\"...\".format(pvalue) for pvalue in pvales]  \n",
    "        P_values_df.loc[:, col_name] = pvales_cats\n",
    "\n",
    "    return P_values_df"
   ]
  },
  {
   "cell_type": "code",
   "execution_count": null,
   "id": "e5976ce3-e870-4c67-8a44-a27909832f68",
   "metadata": {
    "tags": []
   },
   "outputs": [],
   "source": [
    "def get_P_valuse_df_col_names(num_df, calculate_total = True):\n",
    "    NONAKI_cols = [col for col in num_df.columns if (col.endswith(\"...\"\"...\"Class\"))]\n",
    "    AKI_cols = [col for col in num_df.columns if (col not in NONAKI_cols) and (col.startswith(\"...\"))]\n",
    "    \n",
    "    cluster_pairs = []\n",
    "    \n",
    "    finished_cols = []\n",
    "    for col1 in AKI_cols:\n",
    "        for col2 in AKI_cols:\n",
    "            if (col1 == col2) or (col2 in finished_cols):\n",
    "                continue\n",
    "            cluster_pairs.append((col1,col2))\n",
    "        finished_cols.append(col1)\n",
    "    \n",
    "    assert(len(AKI_cols) == len(NONAKI_cols))\n",
    "    for i in range(len(AKI_cols)):\n",
    "        cluster_pairs.append((AKI_cols[i], NONAKI_cols[i]))\n",
    "    \n",
    "    if calculate_total:\n",
    "        cluster_pairs.insert(0, (\"...\", \"...\"))\n",
    "    \n",
    "    p_val_cols_names = [cluster_pair[0] + \"...\" + cluster_pair[1] for cluster_pair in cluster_pairs]\n",
    "    \n",
    "    return p_val_cols_names, cluster_pairs"
   ]
  },
  {
   "cell_type": "code",
   "execution_count": null,
   "id": "0bd85e0d-be9b-41a5-9c70-d6e445d2ed40",
   "metadata": {
    "tags": []
   },
   "outputs": [],
   "source": [
    "def get_contingency_table(clusters_for_test, cluster_total):\n",
    "    contingency_first_row = np.array(clusters_for_test)\n",
    "    contingency_second_row = cluster_total - contingency_first_row\n",
    "    contingency_table = np.vstack((contingency_first_row, contingency_second_row))\n",
    "    return contingency_table"
   ]
  },
  {
   "cell_type": "code",
   "execution_count": null,
   "id": "87967c22-f49a-49b9-96ea-6ddd072f16d3",
   "metadata": {
    "tags": []
   },
   "outputs": [],
   "source": [
    "def contingency_table_and_p_value(clusters_for_test, cluster_total):\n",
    "    contingency_table = get_contingency_table(clusters_for_test, cluster_total)\n",
    "            \n",
    "    #when any input value for test is 0, p is 0, else, use chi2\n",
    "    if np.any(np.array(clusters_for_test) == 0):\n",
    "        p = 0\n",
    "    else:\n",
    "        _, p, _, _ = chi2_contingency(contingency_table)\n",
    "    return p"
   ]
  },
  {
   "cell_type": "code",
   "execution_count": null,
   "id": "4feac12b-3c66-4cb3-bf8c-d43c54b1caca",
   "metadata": {
    "tags": []
   },
   "outputs": [],
   "source": [
    "with warnings.catch_warnings():\n",
    "    warnings.simplefilter(\"...\")\n",
    "    lab_abnom_p_val_df_final = calculate_P_values(lab_abnom_df, total_n_row_name = \"...\")"
   ]
  },
  {
   "cell_type": "code",
   "execution_count": null,
   "id": "04afb5a1-0b7c-4e30-abe5-c2a3b69707c6",
   "metadata": {
    "tags": []
   },
   "outputs": [],
   "source": [
    "lab_abnom_p_val_df_final"
   ]
  },
  {
   "cell_type": "code",
   "execution_count": null,
   "id": "0f0aa18b-e69d-42c6-8453-ee7c9b4afe82",
   "metadata": {},
   "outputs": [],
   "source": [
    "lab_abnom_p_val_df_final.to_csv(\"...\", index = True)"
   ]
  },
  {
   "cell_type": "markdown",
   "id": "0a457a4d-ff7d-46a3-a45e-ea8776ee34c7",
   "metadata": {},
   "source": [
    "# Compare Demographics and Comorbidities"
   ]
  },
  {
   "cell_type": "code",
   "execution_count": null,
   "id": "76c7017e-da23-48a6-a36b-5bbfb0e1b3b4",
   "metadata": {
    "tags": []
   },
   "outputs": [],
   "source": [
    "%store -r Comorbidities_dict"
   ]
  },
  {
   "cell_type": "code",
   "execution_count": null,
   "id": "d0a36fde-2612-41f0-958f-66ed22bc7dca",
   "metadata": {
    "tags": []
   },
   "outputs": [],
   "source": [
    "comorbidity_space = list(Comorbidities_dict.keys())"
   ]
  },
  {
   "cell_type": "code",
   "execution_count": null,
   "id": "9d5298db-4070-4c55-aaa8-59e3d65a3689",
   "metadata": {
    "tags": []
   },
   "outputs": [],
   "source": [
    "comorbidity_names = [disease.replace(\"...\", \"...\").title() for disease in comorbidity_space]\n",
    "index = [\"...\", \n",
    "         \"...\", \"...\", \"...\",\n",
    "         \"...\",  \"...\", \"...\",\n",
    "         \"...\", \"...\",\n",
    "         \"...\", \"...\", \"...\",\n",
    "         *comorbidity_names]\n",
    "DEMO_df = pd.DataFrame(0, columns = [\"...\", *cluster_names[:len(cluster_names)//2], \n",
    "                                    \"...\", *cluster_names[len(cluster_names)//2:]], \n",
    "                       index = index)"
   ]
  },
  {
   "cell_type": "code",
   "execution_count": null,
   "id": "99c2130b-7acb-42db-a2dc-b251ec55f70e",
   "metadata": {
    "tags": []
   },
   "outputs": [],
   "source": [
    "# fill in total patient number\n",
    "for name in cluster_names:\n",
    "    cluster_idx = cluster_mapping[name]\n",
    "    DEMO_df.loc[\"...\", name] = len(all_patients[all_patients.CLUSTERS == cluster_idx])"
   ]
  },
  {
   "cell_type": "code",
   "execution_count": null,
   "id": "6586a8fa-fb64-40b5-8ca9-fe0eefe0ca67",
   "metadata": {
    "tags": []
   },
   "outputs": [],
   "source": [
    "# fill in age\n",
    "for name in cluster_names:\n",
    "    cluster_idx = cluster_mapping[name]\n",
    "    this_cluster = all_patients[all_patients.CLUSTERS == cluster_idx]\n",
    "    DEMO_df.loc[\"...\", name] = len(this_cluster[(this_cluster.AGE >= 18) & \\\n",
    "                                                          (this_cluster.AGE < 30)])\n",
    "    DEMO_df.loc[\"...\", name] = len(this_cluster[(this_cluster.AGE >= 30) & \\\n",
    "                                                          (this_cluster.AGE < 60)])\n",
    "    DEMO_df.loc[\"...\", name] = len(this_cluster[this_cluster.AGE >= 60])"
   ]
  },
  {
   "cell_type": "code",
   "execution_count": null,
   "id": "6c55558a-38f4-424e-98ec-66dc4c2a085d",
   "metadata": {
    "tags": []
   },
   "outputs": [],
   "source": [
    "all_patients[\"...\"] = (all_patients.SEX == \"...\").astype(int)\n",
    "#impute BMI jointly with age, sex, and labs\n",
    "BMI_info_cols = [\"...\", \"...\", \"...\", *filtered_lab_space]\n",
    "# Use MICE to impute BMI values\n",
    "imputer = IterativeImputer(missing_values=np.nan, \n",
    "                           max_iter=10000, random_state=42)\n",
    "# should only fit on train data in case for data leakage\n",
    "all_patients.loc[:, BMI_info_cols] = \\\n",
    "imputer.fit_transform(all_patients.loc[:, BMI_info_cols])\n",
    "# convert data type\n",
    "all_patients.loc[:, [\"...\", *filtered_lab_space]] = \\\n",
    "all_patients.loc[:, [\"...\", *filtered_lab_space]].astype(np.float64)\n",
    "all_patients.loc[:, \"...\"] = all_patients.loc[:, \"...\"].astype(int)\n",
    "all_patients.drop(\"...\", axis = 1, inplace = True)"
   ]
  },
  {
   "cell_type": "code",
   "execution_count": null,
   "id": "38cd1f05-9714-43cc-ad0c-8460457d5ca2",
   "metadata": {
    "tags": []
   },
   "outputs": [],
   "source": [
    "# fill in BMI\n",
    "for name in cluster_names:\n",
    "    cluster_idx = cluster_mapping[name]\n",
    "    this_cluster = all_patients[all_patients.CLUSTERS == cluster_idx]\n",
    "    DEMO_df.loc[\"...\", name] = len(this_cluster[this_cluster.BMI < 18.5])\n",
    "    DEMO_df.loc[\"...\", name] = len(this_cluster[(this_cluster.BMI >= 18.5) & \\\n",
    "                                                          (this_cluster.AGE < 40)])\n",
    "    DEMO_df.loc[\"...\", name] = len(this_cluster[this_cluster.BMI >= 40])"
   ]
  },
  {
   "cell_type": "code",
   "execution_count": null,
   "id": "4c6bb79f-c002-4f93-a9a3-222963741d20",
   "metadata": {
    "tags": []
   },
   "outputs": [],
   "source": [
    "# fill in sex\n",
    "for name in cluster_names:\n",
    "    cluster_idx = cluster_mapping[name]\n",
    "    this_cluster = all_patients[all_patients.CLUSTERS == cluster_idx]\n",
    "    DEMO_df.loc[\"...\", name] = len(this_cluster[this_cluster.SEX == \"...\"])\n",
    "    DEMO_df.loc[\"...\", name] = len(this_cluster[this_cluster.SEX >= \"...\"])"
   ]
  },
  {
   "cell_type": "code",
   "execution_count": null,
   "id": "e1747322-0016-4e22-9622-067477ff4ab0",
   "metadata": {
    "tags": []
   },
   "outputs": [],
   "source": [
    "# fill in race\n",
    "for name in cluster_names:\n",
    "    cluster_idx = cluster_mapping[name]\n",
    "    this_cluster = all_patients[all_patients.CLUSTERS == cluster_idx]\n",
    "    DEMO_df.loc[\"...\", name] = len(this_cluster[this_cluster.RACE == \"...\"])\n",
    "    DEMO_df.loc[\"...\", name] = len(this_cluster[this_cluster.RACE == \"...\"])\n",
    "    DEMO_df.loc[\"...\", name] = len(this_cluster[(this_cluster.RACE != \"...\") & \\\n",
    "                                                  (this_cluster.RACE != \"...\")])"
   ]
  },
  {
   "cell_type": "code",
   "execution_count": null,
   "id": "2eebacea-4aff-4c8a-9e6d-a8e659ed29f1",
   "metadata": {
    "tags": []
   },
   "outputs": [],
   "source": [
    "# fill in comorbidities and history\n",
    "for name in cluster_names:\n",
    "    cluster_idx = cluster_mapping[name]\n",
    "    this_cluster = all_patients[all_patients.CLUSTERS == cluster_idx]\n",
    "    for disease in comorbidity_space:\n",
    "        disease_row_name = disease.replace(\"...\", \"...\").title()\n",
    "        DEMO_df.loc[disease_row_name, name] = len(this_cluster[this_cluster[disease] == True])"
   ]
  },
  {
   "cell_type": "code",
   "execution_count": null,
   "id": "b8b1152c-73bb-4394-8c7b-6a51a2457451",
   "metadata": {
    "tags": []
   },
   "outputs": [],
   "source": [
    "DEMO_df.loc[:, \"...\"] = DEMO_df.loc[:, cluster_names[:len(cluster_names)//2]].sum(axis = 1)\n",
    "DEMO_df.loc[:, \"...\"] = DEMO_df.loc[:, cluster_names[len(cluster_names)//2:]].sum(axis = 1)"
   ]
  },
  {
   "cell_type": "code",
   "execution_count": null,
   "id": "f7ddcd6f-76b0-4ab2-ab29-885b0e932538",
   "metadata": {
    "tags": []
   },
   "outputs": [],
   "source": [
    "DEMO_df_final = DEMO_df.apply(add_percentage, axis = 0)"
   ]
  },
  {
   "cell_type": "code",
   "execution_count": null,
   "id": "672a9f5b-28a1-47cd-ba86-2bb06ab38192",
   "metadata": {
    "tags": []
   },
   "outputs": [],
   "source": [
    "DEMO_df_final"
   ]
  },
  {
   "cell_type": "code",
   "execution_count": null,
   "id": "aada88a8-c08d-43a7-b7c2-033f9fe981a7",
   "metadata": {},
   "outputs": [],
   "source": [
    "DEMO_df_final.to_csv(\"...\", index = True)"
   ]
  },
  {
   "cell_type": "code",
   "execution_count": null,
   "id": "30b2e7c8-eb16-434b-80c2-a97c57447202",
   "metadata": {
    "tags": []
   },
   "outputs": [],
   "source": [
    "with warnings.catch_warnings():\n",
    "    warnings.simplefilter(\"...\")\n",
    "    DEMO_p_val_df_final = calculate_P_values(DEMO_df, total_n_row_name = \"...\")"
   ]
  },
  {
   "cell_type": "code",
   "execution_count": null,
   "id": "e9033522-eeac-4418-bea0-270d9de50c0f",
   "metadata": {
    "tags": []
   },
   "outputs": [],
   "source": [
    "DEMO_p_val_df_final"
   ]
  },
  {
   "cell_type": "code",
   "execution_count": null,
   "id": "a88abad0-ee24-4cb3-b040-589a0a93aee5",
   "metadata": {},
   "outputs": [],
   "source": [
    "DEMO_p_val_df_final.to_csv(\"...\", index = True)"
   ]
  },
  {
   "cell_type": "markdown",
   "id": "c2963ac1-0e4d-4791-ace2-e65830eebc20",
   "metadata": {},
   "source": [
    "# CKD Incidence"
   ]
  },
  {
   "cell_type": "markdown",
   "id": "ffd472ef-1005-4295-9af6-881ac3a85e31",
   "metadata": {},
   "source": [
    "Among patients without CKD before, how long it took until they got CKD? focus on 1-year CKD incidence rates"
   ]
  },
  {
   "cell_type": "code",
   "execution_count": null,
   "id": "078affee-9f5c-42f0-ac5c-b1f0f6a6be8c",
   "metadata": {
    "tags": []
   },
   "outputs": [],
   "source": [
    "from A_Label_AKI_Onsets import read_DX\n",
    "from D_Matching import reverse_comorbidity_dict"
   ]
  },
  {
   "cell_type": "code",
   "execution_count": null,
   "id": "ab699957-22ff-42a2-8cef-019fbc88653e",
   "metadata": {
    "tags": []
   },
   "outputs": [],
   "source": [
    "all_patients[\"...\"] = all_patients[[\"...\", \n",
    "                                            \"...\", \n",
    "                                            \"...\", \n",
    "                                            \"...\", \n",
    "                                            \"...\"]].any(axis=1)\n",
    "\n",
    "# for this one, we can only do in five centers since \"...\", \"...\", \"...\" do not have after-discharge DX\n",
    "non_CKD_patients = all_patients[(all_patients.CKD_HISTORY == False) & \\\n",
    "                                ~(all_patients.CENTER_NAME.isin([\"...\", \"...\", \"...\"]))].copy(deep = True)\n",
    "non_CKD_patients.reset_index(drop = True, inplace = True)"
   ]
  },
  {
   "cell_type": "code",
   "execution_count": null,
   "id": "90f0f90b-c940-452d-b251-da0a4a04b000",
   "metadata": {
    "tags": []
   },
   "outputs": [],
   "source": [
    "DX_dict = read_DX(ct_names, raw_path)"
   ]
  },
  {
   "cell_type": "code",
   "execution_count": null,
   "id": "efc599fc-ccd8-4487-b627-e604a763f888",
   "metadata": {
    "tags": []
   },
   "outputs": [],
   "source": [
    "def format_CKD_DX_dict(DX_dict, pat_df, reverse_CKD_dict):\n",
    "    processed_DX_dict = dict()\n",
    "    ct_missing_DX_DATE = [\"...\", \"...\", \"...\"]\n",
    "    \n",
    "    for ct_name, DX_df in tqdm(DX_dict.items()):\n",
    "        # filter those not CKD DX\n",
    "        DX_df = DX_df[DX_df.DX.isin(list(reverse_CKD_dict.keys()))]\n",
    "        DX_df.loc[:, \"...\"] = DX_df.loc[:, \"...\"].astype(str)\n",
    "        pat_ct_df = pat_df[pat_df.CENTER_NAME == ct_name]\n",
    "        pat_ct_df = pat_ct_df.merge(DX_df[[\"...\", \"...\", \"...\", \"...\", \"...\"]], \n",
    "                                    on = \"...\", how = \"...\")\n",
    "        pat_ct_df.dropna(subset=[\"...\"], inplace = True)\n",
    "        \n",
    "        if ct_name not in ct_missing_DX_DATE:\n",
    "            pat_ct_df[\"...\"] = pd.to_datetime(pat_ct_df[\"...\"], format = \"...\")\n",
    "            pat_ct_df[\"...\"] = pat_ct_df[\"...\"].dt.strftime(\"...\")\n",
    "            pat_ct_df[\"...\"] = pd.to_datetime(pat_ct_df[\"...\"], format = \"...\")\n",
    "        else:\n",
    "            pat_ct_df.loc[:, \"...\"] = pat_ct_df.loc[:, \"...\"] + \\\n",
    "            pd.to_timedelta(pat_ct_df.loc[:, \"...\"], unit=\"...\")\n",
    "        \n",
    "        pat_ct_df = pat_ct_df.loc[(pat_ct_df.DX_DATE > pat_ct_df.DISCHARGE_DATE) & \\\n",
    "                              (pat_ct_df.DX_DATE < pat_ct_df.DISCHARGE_DATE + pd.Timedelta(days=365)), :]\n",
    "        \n",
    "        # we only care about incidence date\n",
    "        pat_ct_df.drop([\"...\", \"...\"], axis = 1, inplace = True)\n",
    "        pat_ct_df = pat_ct_df.loc[:, [\"...\", \"...\", \"...\", \"...\"]]\n",
    "        processed_DX_dict[ct_name] = pat_ct_df\n",
    "    return processed_DX_dict"
   ]
  },
  {
   "cell_type": "code",
   "execution_count": null,
   "id": "7242f662-d7b4-4819-b5b3-0c104ab51fda",
   "metadata": {
    "tags": []
   },
   "outputs": [],
   "source": [
    "CKD_dict = {\n",
    "    \"...\": {\"...\": [\"...\"], \"...\":[\"...\"]},\n",
    "    \"...\": {\"...\": [\"...\"], \"...\":[\"...\"]},\n",
    "    \"...\": {\"...\": [\"...\"], \"...\":[\"...\", \"...\", \"...\", \"...\"]},\n",
    "    \"...\": {\"...\": [\"...\"], \"...\":[\"...\"]},\n",
    "    \"...\": {\"...\": [\"...\"], \"...\":[\"...\"]},\n",
    "}\n",
    "reverse_CKD_dict = reverse_comorbidity_dict(CKD_dict)"
   ]
  },
  {
   "cell_type": "code",
   "execution_count": null,
   "id": "463f1aa3-788d-4c89-a3bc-9c3f0255c52b",
   "metadata": {
    "tags": []
   },
   "outputs": [],
   "source": [
    "future_CKD_dict = format_CKD_DX_dict(DX_dict, non_CKD_patients, reverse_CKD_dict)"
   ]
  },
  {
   "cell_type": "code",
   "execution_count": null,
   "id": "a5094aaa-f894-476d-ba89-f9c38dbbf7f5",
   "metadata": {
    "tags": []
   },
   "outputs": [],
   "source": [
    "future_CKD_df = concat_dfs_to_one(future_CKD_dict)"
   ]
  },
  {
   "cell_type": "code",
   "execution_count": null,
   "id": "44efe514-a8a1-45db-9f90-75554ee1a2f8",
   "metadata": {
    "tags": []
   },
   "outputs": [],
   "source": [
    "# we only take the earlister CKD incidence\n",
    "future_CKD_df = future_CKD_df.sort_values(by=pat_id_cols + [\"...\"], ascending=True)"
   ]
  },
  {
   "cell_type": "code",
   "execution_count": null,
   "id": "a9d820eb-f9f3-421b-a56d-a156aba1175b",
   "metadata": {
    "tags": []
   },
   "outputs": [],
   "source": [
    "future_CKD_df = future_CKD_df.groupby(pat_id_cols).first().reset_index()\n",
    "future_CKD_df.rename(columns = {\"...\": \"...\"}, inplace = True)"
   ]
  },
  {
   "cell_type": "code",
   "execution_count": null,
   "id": "b15f8b9d-0a6e-479c-9e38-e9352328d202",
   "metadata": {
    "tags": []
   },
   "outputs": [],
   "source": [
    "non_CKD_patients = non_CKD_patients.merge(future_CKD_df, on = pat_id_cols, how = \"...\")"
   ]
  },
  {
   "cell_type": "code",
   "execution_count": null,
   "id": "2a797b22-9c66-4341-982f-fb95fd22322d",
   "metadata": {
    "tags": []
   },
   "outputs": [],
   "source": [
    "non_CKD_patients[\"...\"] = (non_CKD_patients[\"...\"] - non_CKD_patients[\"...\"]).dt.days\n",
    "non_CKD_patients[\"...\"] = (non_CKD_patients[\"...\"] < 365).astype(int)\n",
    "non_CKD_patients[\"...\"] = non_CKD_patients[\"...\"].apply(lambda x: 365 if pd.isna(x) or x > 365 else x)"
   ]
  },
  {
   "cell_type": "code",
   "execution_count": null,
   "id": "bc89e66b-199e-4807-adf9-9dd99dbb7688",
   "metadata": {
    "tags": []
   },
   "outputs": [],
   "source": [
    "# we observe a sharp increse in the first 100 days of class 3\n",
    "class_2_CKD = non_CKD_patients[(non_CKD_patients.CLUSTERS == cluster_mapping[\"...\"]) & \\\n",
    "                      (non_CKD_patients.CKD_INCIDENCE_1_YEAR_EVENT == 1)]\n",
    "class_2_CKD_first_100 = class_2_CKD[class_2_CKD.CKD_INCIDENCE_1_YEAR_TIME <= 100]\n",
    "\n",
    "class_3_CKD = non_CKD_patients[(non_CKD_patients.CLUSTERS == cluster_mapping[\"...\"]) & \\\n",
    "                      (non_CKD_patients.CKD_INCIDENCE_1_YEAR_EVENT == 1)]\n",
    "class_3_CKD_first_100 = class_3_CKD[class_3_CKD.CKD_INCIDENCE_1_YEAR_TIME <= 100]\n",
    "\n",
    "print(len(class_2_CKD_first_100) / len(class_2_CKD))\n",
    "print(len(class_3_CKD_first_100) / len(class_3_CKD))"
   ]
  },
  {
   "cell_type": "code",
   "execution_count": null,
   "id": "ea5de881-a0eb-4453-ad49-bbe3a9dff914",
   "metadata": {
    "tags": []
   },
   "outputs": [],
   "source": [
    "CKD_incidence_df = pd.DataFrame(index = [\"...\", \"...\",\n",
    "                                   \"...\", \"...\"],\n",
    "                          \n",
    "                         columns = [\"...\", \"...\", \n",
    "                                    \"...\"\"...\"Class B vs Class B\"...\", \"...\"\"])"
   ]
  },
  {
   "cell_type": "code",
   "execution_count": null,
   "id": "65bd6c93-bbc8-4c07-b695-2c9fc7bedeac",
   "metadata": {
    "tags": []
   },
   "outputs": [],
   "source": [
    "def Cox_HR_compare_CKD_incidences(df, formula_dict, outcome_df_col_name, outcome_df):\n",
    "    for formula_name, formula in formula_dict.items():\n",
    "        hr, ci_lower, ci_upper, p_value = compute_Cox_HR_results(df,\n",
    "                                                             \"...\", \n",
    "                                                             \"...\",\n",
    "                                                             formula)\n",
    "        outcome_df.loc[\"...\"%(formula_name), outcome_df_col_name] = \\\n",
    "        format_Cox_HR_results(hr, ci_lower, ci_upper, p_value)\n",
    "    return outcome_df"
   ]
  },
  {
   "cell_type": "code",
   "execution_count": null,
   "id": "3b4ef201-2e5c-4e6d-8cd9-2e43ef6fd313",
   "metadata": {
    "tags": []
   },
   "outputs": [],
   "source": [
    "non_CKD_c1_vs_c2 = non_CKD_patients.loc[non_CKD_patients.CLUSTERS.isin([cluster_mapping[\"...\"], cluster_mapping[\"...\"]]), :]\n",
    "non_CKD_c1_vs_c3 = non_CKD_patients.loc[non_CKD_patients.CLUSTERS.isin([cluster_mapping[\"...\"], cluster_mapping[\"...\"]]), :]\n",
    "non_CKD_c1_vs_c1p = non_CKD_patients.loc[non_CKD_patients.CLUSTERS.isin([cluster_mapping[\"...\"], cluster_mapping[\"...\"\"]]), :]\n",
    "non_CKD_c2_vs_c2p = non_CKD_patients.loc[non_CKD_patients.CLUSTERS.isin([cluster_mapping[\"...\"], cluster_mapping[\"...\"\"]]), :]\n",
    "non_CKD_c3_vs_c3p = non_CKD_patients.loc[non_CKD_patients.CLUSTERS.isin([cluster_mapping[\"...\"], cluster_mapping[\"...\"\"]]), :]"
   ]
  },
  {
   "cell_type": "code",
   "execution_count": null,
   "id": "060421f9-7b9b-4d13-9c46-30986e7fe614",
   "metadata": {
    "tags": []
   },
   "outputs": [],
   "source": [
    "#cancel adjusted for CKD stage, also adjust for \n",
    "CKD_formula_dict = formula_dict.copy()\n",
    "CKD_formula_dict[\"...\"] = CKD_formula_dict[\"...\"] + \\\n",
    "\"...\"\n",
    "CKD_formula_dict[\"...\"] = CKD_formula_dict[\"...\"] + \"...\""
   ]
  },
  {
   "cell_type": "code",
   "execution_count": null,
   "id": "8fd8e302-d78a-4b86-9482-a2058104dd80",
   "metadata": {
    "tags": []
   },
   "outputs": [],
   "source": [
    "with warnings.catch_warnings():\n",
    "    warnings.simplefilter(\"...\")\n",
    "    CKD_incidence_df = Cox_HR_compare_CKD_incidences(non_CKD_c1_vs_c2, CKD_formula_dict, \"...\", CKD_incidence_df)"
   ]
  },
  {
   "cell_type": "code",
   "execution_count": null,
   "id": "a05973fe-5b67-4efa-b0e1-2a7f103a61b4",
   "metadata": {
    "tags": []
   },
   "outputs": [],
   "source": [
    "with warnings.catch_warnings():\n",
    "    warnings.simplefilter(\"...\")\n",
    "    CKD_incidence_df = Cox_HR_compare_CKD_incidences(non_CKD_c1_vs_c3, CKD_formula_dict, \"...\", CKD_incidence_df)"
   ]
  },
  {
   "cell_type": "code",
   "execution_count": null,
   "id": "7f920831-ea06-4bca-ac25-9e50934bcff9",
   "metadata": {
    "tags": []
   },
   "outputs": [],
   "source": [
    "with warnings.catch_warnings():\n",
    "    warnings.simplefilter(\"...\")\n",
    "    CKD_incidence_df = Cox_HR_compare_CKD_incidences(non_CKD_c1_vs_c1p, CKD_formula_dict, \"...\"\", CKD_incidence_df)"
   ]
  },
  {
   "cell_type": "code",
   "execution_count": null,
   "id": "ef72af28-1851-436a-849d-992937911c37",
   "metadata": {
    "tags": []
   },
   "outputs": [],
   "source": [
    "with warnings.catch_warnings():\n",
    "    warnings.simplefilter(\"...\")\n",
    "    CKD_incidence_df = Cox_HR_compare_CKD_incidences(non_CKD_c2_vs_c2p, CKD_formula_dict, \"...\"\", CKD_incidence_df)"
   ]
  },
  {
   "cell_type": "code",
   "execution_count": null,
   "id": "5dd92b4b-e315-4d41-860e-72a2d97dfe8c",
   "metadata": {
    "tags": []
   },
   "outputs": [],
   "source": [
    "with warnings.catch_warnings():\n",
    "    warnings.simplefilter(\"...\")\n",
    "    CKD_incidence_df = Cox_HR_compare_CKD_incidences(non_CKD_c3_vs_c3p, CKD_formula_dict, \"...\"\", CKD_incidence_df)"
   ]
  },
  {
   "cell_type": "code",
   "execution_count": null,
   "id": "12ef7e24-58ce-40cf-85e2-fcb33c075b92",
   "metadata": {
    "tags": []
   },
   "outputs": [],
   "source": [
    "outcome_df_final = pd.concat([outcome_df, CKD_incidence_df], axis = 0)"
   ]
  },
  {
   "cell_type": "code",
   "execution_count": null,
   "id": "d3878d46-371d-45b6-a9e0-c94226a68538",
   "metadata": {
    "tags": []
   },
   "outputs": [],
   "source": [
    "outcome_df_final"
   ]
  },
  {
   "cell_type": "code",
   "execution_count": null,
   "id": "a8f0811e-03c5-4b31-baf3-7e19b25f1cb0",
   "metadata": {},
   "outputs": [],
   "source": [
    "outcome_df_final.to_csv(\"...\", index = True)"
   ]
  },
  {
   "cell_type": "markdown",
   "id": "e28b2b4c-8dae-43cd-a90c-9a04f38d4894",
   "metadata": {},
   "source": [
    "# Plot Line Charts of Outcomes"
   ]
  },
  {
   "cell_type": "markdown",
   "id": "10c4b506-b7e5-45ac-af4e-cd057f15298b",
   "metadata": {},
   "source": [
    "1. 30-day mortality + in-hospital mortality     \n",
    "2. 1-year mortality\n",
    "3. 1-year dialysis or RRT\n",
    "4. 1-year CKD incidence"
   ]
  },
  {
   "cell_type": "code",
   "execution_count": null,
   "id": "1726277c-a8ea-4578-88f3-639c5522e622",
   "metadata": {
    "tags": []
   },
   "outputs": [],
   "source": [
    "from mpl_toolkits.axes_grid1.inset_locator import inset_axes"
   ]
  },
  {
   "cell_type": "code",
   "execution_count": null,
   "id": "372abedc-6ef0-417c-9d0e-79c2eccdfdab",
   "metadata": {
    "tags": []
   },
   "outputs": [],
   "source": [
    "def plot_outcomes(ax, pat_df, col_to_plot, time_length, title, plot_in_hos_death = False):\n",
    "    n_clusters = len(pat_df.CLUSTERS.unique())\n",
    "    \n",
    "    if plot_in_hos_death:\n",
    "        Hospital_death_rates = []\n",
    "        \n",
    "    for cluster_idx in range(n_clusters):\n",
    "        death_rate_series = [0]\n",
    "        this_cluster = pat_df[pat_df.CLUSTERS == cluster_idx]\n",
    "        this_cluster_n = this_cluster.shape[0]\n",
    "        \n",
    "        # collect in-hospital mortality rates of each cluster\n",
    "        if plot_in_hos_death:\n",
    "            this_cluster_in_hos_death = this_cluster[this_cluster[col_to_plot] < 1]\n",
    "            this_cluster_hos_death_rate = this_cluster_in_hos_death.shape[0] / this_cluster_n\n",
    "            Hospital_death_rates.append(this_cluster_hos_death_rate)\n",
    "            print(reversed_cluster_mapping[cluster_idx], \"...\", this_cluster_hos_death_rate)\n",
    "        \n",
    "        # collect culmulative rates of each cluster\n",
    "        for day in range(1, time_length + 1):\n",
    "            cum_death_this_day = this_cluster[(this_cluster[col_to_plot] <= day) & (this_cluster[col_to_plot] >= 1)]\n",
    "            cum_death_rate_this_day = cum_death_this_day.shape[0] / this_cluster_n\n",
    "            death_rate_series.append(cum_death_rate_this_day)\n",
    "        \n",
    "        # plot culmulative rates\n",
    "        ax.step([day for day in range(time_length + 1)], np.array(death_rate_series) * 100,\n",
    "                 label = reversed_cluster_mapping[cluster_idx], linestyle = \"...\", where = \"...\", \n",
    "                 color = new_color_key[cluster_idx])\n",
    "    \n",
    "    # add figure legend\n",
    "    ax.legend(loc = \"...\")\n",
    "    ax.set_xlabel(\"...\")\n",
    "    ax.set_ylabel(\"...\")\n",
    "    ax.set_title(title, fontsize = 15)\n",
    "    ax.grid(axis=\"...\", linestyle=\"...\", alpha=0.4)\n",
    "    \n",
    "    # plot in-hospital death as small subplot\n",
    "    if plot_in_hos_death:\n",
    "        ax_small = ax.inset_axes([0.74, 0.01, 0.25, 0.23])\n",
    "        for cluster_idx in range(n_clusters):\n",
    "            ax_small.bar(cluster_idx, \n",
    "                         Hospital_death_rates[cluster_idx] * 100, \n",
    "                         width = 0.6, color = new_color_key[cluster_idx])\n",
    "            ax_small.set_ylabel(\"...\", fontsize = 9)\n",
    "            ax_small.set_title(\"...\", fontsize = 9)\n",
    "            ax_small.tick_params(axis=\"...\", labelsize=6)\n",
    "        ax_small.set_xticks([])\n",
    "        ax_small.grid(axis=\"...\", linestyle=\"...\", alpha=0.3)"
   ]
  },
  {
   "cell_type": "code",
   "execution_count": null,
   "id": "8fe75073-3acc-47b7-9a0a-2f7b62d49e97",
   "metadata": {
    "tags": []
   },
   "outputs": [],
   "source": [
    "figure, axs = plt.subplots(2, 2, figsize = (12, 10))\n",
    "\n",
    "plot_outcomes(axs[0, 0], all_patients, \"...\", 30, \n",
    "              \"...\", plot_in_hos_death = True)\n",
    "\n",
    "plot_outcomes(axs[0, 1], all_patients, \"...\", 365, \n",
    "              \"...\", plot_in_hos_death = False)\n",
    "\n",
    "plot_outcomes(axs[1, 0], all_patients, \"...\", 365, \n",
    "              \"...\", plot_in_hos_death = False)\n",
    "\n",
    "plot_outcomes(axs[1, 1], non_CKD_patients, \"...\", 365, \n",
    "              \"...\", plot_in_hos_death = False)\n",
    "\n",
    "# Adding sequential labels (A, B, C, D) to each subplot\n",
    "labels = [\"...\", \"...\", \"...\", \"...\"]\n",
    "positions = [(0, 0), (0, 1), (1, 0), (1, 1)]\n",
    "\n",
    "for label, pos in zip(labels, positions):\n",
    "    axs[pos].text(-0.1, 1.1, label, transform=axs[pos].transAxes, \n",
    "                  fontsize=16, fontweight=\"...\", va=\"...\", ha=\"...\")\n",
    "    \n",
    "plt.tight_layout()\n",
    "plt.savefig(\"...\", format=\"...\", dpi = figure_dpi)\n",
    "plt.show()"
   ]
  },
  {
   "cell_type": "markdown",
   "id": "8c5e4567-4cb7-4ee7-9cd6-e12c7b271c01",
   "metadata": {},
   "source": [
    "# Supplimentary Figures"
   ]
  },
  {
   "cell_type": "markdown",
   "id": "981beb0f-957f-4152-bda7-56b11d60ae2b",
   "metadata": {},
   "source": [
    "1. Subphenotypes distribution among centers.   \n",
    "2. Laboraroty test results violin plots.  "
   ]
  },
  {
   "cell_type": "code",
   "execution_count": null,
   "id": "c9a005e2-cf96-477d-9a7a-b23212b3d3ad",
   "metadata": {
    "tags": []
   },
   "outputs": [],
   "source": [
    "import seaborn as sns"
   ]
  },
  {
   "cell_type": "code",
   "execution_count": null,
   "id": "7662e752-857e-4c10-8657-f90984fd030e",
   "metadata": {
    "tags": []
   },
   "outputs": [],
   "source": [
    "# Create the ordered category based on the masked_site_names dictionary\n",
    "masked_site_names = {\n",
    "    \"...\": \"...\",\n",
    "    \"...\": \"...\",\n",
    "    \"...\": \"...\",\n",
    "    \"...\": \"...\",\n",
    "    \"...\": \"...\",\n",
    "    \"...\": \"...\",\n",
    "    \"...\": \"...\",\n",
    "    \"...\": \"...\",\n",
    "}\n",
    "\n",
    "# Group by \"...\" and \"...\" to get the counts\n",
    "sb_counts_ct = all_patients.groupby([\"...\", \"...\"]).size().reset_index(name=\"...\")\n",
    "\n",
    "# Map the original \"...\" to the masked site names\n",
    "sb_counts_ct[\"...\"] = sb_counts_ct[\"...\"].map(masked_site_names)\n",
    "\n",
    "# Define the desired order for the X-axis (Site A, Site B, etc.)\n",
    "order = [\"...\", \"...\", \"...\", \"...\", \"...\", \"...\", \"...\", \"...\"]\n",
    "\n",
    "# Convert \"...\" to a categorical type with the specified order\n",
    "sb_counts_ct[\"...\"] = pd.Categorical(sb_counts_ct[\"...\"], categories=order, ordered=True)\n",
    "\n",
    "# Plot the barplot, now it will be ordered by \"...\"\n",
    "plt.figure(figsize=(9,6))\n",
    "barplot = sns.barplot(x=\"...\", y=\"...\", hue=\"...\", data=sb_counts_ct, palette=new_color_key)\n",
    "\n",
    "# Replace legend labels\n",
    "handles, labels = barplot.get_legend_handles_labels()\n",
    "barplot.legend(handles, [\"...\"\"...\"Class B\"...\", \"...\"\"...\"Class A\"...\"Class B\"...\"Class C\"...\"')\n",
    "\n",
    "# Set axis labels and title\n",
    "barplot.set_xlabel(\"...\", fontsize=13)\n",
    "barplot.set_ylabel(\"...\", fontsize=13)\n",
    "plt.title(\"...\", fontsize=15)\n",
    "\n",
    "# Add grid and layout settings\n",
    "plt.grid(axis=\"...\", linestyle=\"...\", alpha=0.2)\n",
    "plt.tight_layout()\n",
    "\n",
    "# Save the figure\n",
    "plt.savefig(\"...\", format=\"...\", dpi=figure_dpi)\n",
    "\n",
    "# Show the plot\n",
    "plt.show()\n"
   ]
  },
  {
   "cell_type": "code",
   "execution_count": null,
   "id": "d01663e4-f059-4de8-bf5e-bee442e8d8d4",
   "metadata": {
    "tags": []
   },
   "outputs": [],
   "source": [
    "lab_unit_dict = \\\n",
    "{\n",
    "    \"...\": \"...\",\n",
    "    \"...\": \"...\",\n",
    "    \"...\": \"...\",\n",
    "    \"...\": \"...\",\n",
    "    \"...\": \"...\",\n",
    "    \"...\": \"...\",\n",
    "    \"...\": \"...\",\n",
    "    \"...\": \"...\",\n",
    "    \"...\": \"...\",\n",
    "    \"...\": \"...\",\n",
    "    \"...\": \"...\", \n",
    "    \"...\": \"...\",\n",
    "    \"...\": \"...\",\n",
    "    \"...\": \"...\",\n",
    "    \"...\": \"...\",\n",
    "    \"...\": \"...\",\n",
    "    \"...\": \"...\",\n",
    "    \"...\": \"...\",\n",
    "    \"...\": \"...\",\n",
    "    \n",
    "}"
   ]
  },
  {
   "cell_type": "code",
   "execution_count": null,
   "id": "2d246ebf-e669-4244-9e68-b24ee0780974",
   "metadata": {
    "tags": []
   },
   "outputs": [],
   "source": [
    "fig, axes = plt.subplots(4, 4, figsize=(18, 16))  # Create a 3x4 grid of subplots\n",
    "axes = axes.flatten()  # Flatten the 2D array of axes for easy iteration\n",
    "all_patients.loc[:, \"...\"] = all_patients.loc[:, \"...\"]\n",
    "cols_to_plot = [\"...\"] + filtered_lab_space\n",
    "\n",
    "\n",
    "for i, test in enumerate(cols_to_plot):\n",
    "\n",
    "    if i >= 16:  # Skip if more than 12 plots are required\n",
    "        break\n",
    "\n",
    "    percentile_975 = all_patients[test].quantile(0.975)\n",
    "    percentile_025 = all_patients[test].quantile(0.025)\n",
    "\n",
    "    filtered_lab_df = all_patients[(all_patients[test] <= percentile_975) & \\\n",
    "                                   (all_patients[test] >= percentile_025)]\n",
    "\n",
    "    sns.violinplot(ax=axes[i], x=\"...\", y=test, data=filtered_lab_df, \n",
    "                   showmedians=True, showextrema=False, palette=new_color_key)\n",
    "\n",
    "    axes[i].set_xlabel(\"...\")\n",
    "    axes[i].set_ylabel(lab_unit_dict[test], fontsize = 12)\n",
    "    axes[i].set_title(test, fontsize = 17)\n",
    "    axes[i].set_xticks(list(reversed_cluster_mapping.keys()))\n",
    "    axes[i].set_xticklabels(list(reversed_cluster_mapping.values()), fontsize = 10)\n",
    "\n",
    "\n",
    "plt.tight_layout()\n",
    "plt.savefig(\"...\", format=\"...\", dpi = figure_dpi)\n",
    "plt.show()"
   ]
  }
 ],
 "metadata": {
  "kernelspec": {
   "display_name": "AKI_subphenotyping",
   "language": "python",
   "name": "aki_subphenotyping"
  },
  "language_info": {
   "codemirror_mode": {
    "name": "ipython",
    "version": 3
   },
   "file_extension": ".py",
   "mimetype": "text/x-python",
   "name": "python",
   "nbconvert_exporter": "python",
   "pygments_lexer": "ipython3",
   "version": "3.11.5"
  }
 },
 "nbformat": 4,
 "nbformat_minor": 5
}
