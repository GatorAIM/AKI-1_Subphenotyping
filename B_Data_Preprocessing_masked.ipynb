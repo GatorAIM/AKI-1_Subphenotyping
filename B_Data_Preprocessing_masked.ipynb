{
 "cells": [
  {
   "cell_type": "markdown",
   "id": "bc4bdeee-9091-4b07-bdc3-5f8ba3cec244",
   "metadata": {},
   "source": [
    "Criteria:\n",
    "1. Age between 18 and 90 \n",
    "2. Exclude patients with pre-existing end stage renal disease\n",
    "3. Exclude patients who have undergone any dialysis procedure or renal transplantation (RRT) prior to the visit  \n",
    "4. Exclude patients who eGFR < 15 mL/min/1.73 m^2 or baseline SCr > 3.5 mg/dL\n",
    "5. Hospitalized for at least 2 days \n",
    "6. Exclude non-AKI patients\n",
    "7. Exclude AKI progression patients\n",
    "8. SCr trajectories satisfy the requirements\n",
    "9. Each patient unqiue (i.e. one patient one encounter)"
   ]
  },
  {
   "cell_type": "code",
   "execution_count": null,
   "id": "a0935eef-3bec-45c9-bffc-c7c9ebf75944",
   "metadata": {
    "tags": []
   },
   "outputs": [],
   "source": [
    "import pandas as pd\n",
    "import matplotlib.pyplot as plt\n",
    "import numpy as np\n",
    "from tqdm import tqdm"
   ]
  },
  {
   "cell_type": "markdown",
   "id": "c7acfdd1-1a7d-4aa9-9783-cb51f49aa2e5",
   "metadata": {},
   "source": [
    "# Create a Sreening Tracking DataFrame"
   ]
  },
  {
   "cell_type": "code",
   "execution_count": null,
   "id": "ba3f8b57-7eb6-4c1e-a291-75fff873bdb4",
   "metadata": {
    "tags": []
   },
   "outputs": [],
   "source": [
    "%store -r ct_names\n",
    "%store -r raw_path\n",
    "%store -r pat_id_cols\n",
    "\n",
    "#pandas can show all the columns\n",
    "pd.set_option(\"...\", None)"
   ]
  },
  {
   "cell_type": "code",
   "execution_count": null,
   "id": "1b0fc4d9-6353-4e44-9bc8-94b4d2788982",
   "metadata": {
    "tags": []
   },
   "outputs": [],
   "source": [
    "records_num_df = pd.DataFrame(0, index = [\"...\", \n",
    "                                          \"...\",\n",
    "                                          \"...\",\n",
    "                                          \"...\",\n",
    "                                          \"...\",\n",
    "                                          \"...\",\n",
    "                                          \"...\",\n",
    "                                          \"...\",\n",
    "                                          \"...\"], \n",
    "                              columns = ct_names)"
   ]
  },
  {
   "cell_type": "code",
   "execution_count": null,
   "id": "17acb6c7-ce66-4e79-9cb4-4119fb4186e9",
   "metadata": {
    "tags": []
   },
   "outputs": [],
   "source": [
    "def fill_in_record_num_df(screen_item, ct_names, onset_df):\n",
    "    # fill in table\n",
    "    screen_item = screen_item\n",
    "    for ct_name in ct_names:\n",
    "        ct_enc_n = len(onset_df[onset_df.CENTER_NAME == ct_name])\n",
    "        print(\"...\"%(ct_name, screen_item, ct_enc_n))\n",
    "        records_num_df.loc[screen_item, ct_name] = ct_enc_n"
   ]
  },
  {
   "cell_type": "markdown",
   "id": "e3a4a7d7-bcdc-423f-8d98-0d08fafa87cc",
   "metadata": {},
   "source": [
    "# Read AKI Onset Table"
   ]
  },
  {
   "cell_type": "code",
   "execution_count": null,
   "id": "f97ca533-4454-45c6-b763-b3ba5579aa50",
   "metadata": {},
   "outputs": [],
   "source": [
    "onset_df = pd.read_csv(\"...\")"
   ]
  },
  {
   "cell_type": "code",
   "execution_count": null,
   "id": "debaaa66-6802-4d8b-8427-c9d2a575f9da",
   "metadata": {
    "tags": []
   },
   "outputs": [],
   "source": [
    "# format type\n",
    "onset_df[pat_id_cols] = onset_df[pat_id_cols].astype(str)\n",
    "date_cols = [\"...\", \"...\", \"...\", \"...\", \"...\"]\n",
    "for col in date_cols:\n",
    "    onset_df[col] = pd.to_datetime(onset_df[col], format = \"...\")"
   ]
  },
  {
   "cell_type": "code",
   "execution_count": null,
   "id": "76fe94d7-0da1-4985-8c9d-b83e8a580311",
   "metadata": {},
   "outputs": [],
   "source": [
    "fill_in_record_num_df(\"...\", ct_names, onset_df)"
   ]
  },
  {
   "cell_type": "markdown",
   "id": "b9c4d954-732c-408e-9890-087962a91b4b",
   "metadata": {},
   "source": [
    "# Read Demographics and Screen Patients"
   ]
  },
  {
   "cell_type": "code",
   "execution_count": null,
   "id": "c8bf14e1-6dd3-4161-a532-696113bd8948",
   "metadata": {
    "tags": []
   },
   "outputs": [],
   "source": [
    "import nbimporter\n",
    "from A_Label_AKI_Onsets import read_and_format_DEMO\n",
    "%store -r race_mapping"
   ]
  },
  {
   "cell_type": "code",
   "execution_count": null,
   "id": "9c37cfc6-d1b8-461b-aa76-2652e9172866",
   "metadata": {},
   "outputs": [],
   "source": [
    "DEMO_df = read_and_format_DEMO(ct_names, raw_path, race_mapping)"
   ]
  },
  {
   "cell_type": "code",
   "execution_count": null,
   "id": "edff78ed-9f84-4113-b01b-e3d62923cb88",
   "metadata": {
    "tags": []
   },
   "outputs": [],
   "source": [
    "# format type\n",
    "DEMO_df[pat_id_cols + [\"...\", \"...\"]] = DEMO_df[pat_id_cols + [\"...\", \"...\"]].astype(str)"
   ]
  },
  {
   "cell_type": "code",
   "execution_count": null,
   "id": "e02c2e53-94fa-44dc-a8b1-45f092cb7bd9",
   "metadata": {
    "tags": []
   },
   "outputs": [],
   "source": [
    "onset_df = onset_df.merge(DEMO_df, on = pat_id_cols, how = \"...\")\n",
    "onset_df = onset_df.drop_duplicates(pat_id_cols)"
   ]
  },
  {
   "cell_type": "code",
   "execution_count": null,
   "id": "44f14886-f4e8-49ab-998f-65a7201d1551",
   "metadata": {
    "tags": []
   },
   "outputs": [],
   "source": [
    "# sanity check\n",
    "assert(onset_df[\"...\"].isna().mean() == 0)\n",
    "assert(onset_df[\"...\"].isna().mean() == 0)\n",
    "assert(onset_df[\"...\"].isna().mean() == 0)"
   ]
  },
  {
   "cell_type": "code",
   "execution_count": null,
   "id": "c002fc7a-2154-4c9c-8df8-f3f7760db342",
   "metadata": {
    "tags": []
   },
   "outputs": [],
   "source": [
    "onset_df"
   ]
  },
  {
   "cell_type": "code",
   "execution_count": null,
   "id": "018ff133-3377-4ecd-bbae-2bef6823a9b6",
   "metadata": {
    "tags": []
   },
   "outputs": [],
   "source": [
    "# criteria 1: age between 18 and 90\n",
    "onset_df = onset_df[(onset_df.AGE >= 18) & (onset_df.AGE < 90)]"
   ]
  },
  {
   "cell_type": "code",
   "execution_count": null,
   "id": "34b68524-6224-4ff1-a656-d9cba29cb8ae",
   "metadata": {},
   "outputs": [],
   "source": [
    "fill_in_record_num_df(\"...\", ct_names, onset_df)"
   ]
  },
  {
   "cell_type": "markdown",
   "id": "40eb2865-4e40-4336-8624-21ee4c45ba1d",
   "metadata": {},
   "source": [
    "# Read Diagnosis and Screen Patients"
   ]
  },
  {
   "cell_type": "markdown",
   "id": "e84011a9-b168-4093-bf93-e5f51283b87f",
   "metadata": {},
   "source": [
    "Remove dialysis, RRT and ESRD encounters from the dianosis side  "
   ]
  },
  {
   "cell_type": "code",
   "execution_count": null,
   "id": "eabc04ed-6dfb-44f3-9e08-2405db1acec7",
   "metadata": {
    "tags": []
   },
   "outputs": [],
   "source": [
    "from A_Label_AKI_Onsets import read_DX"
   ]
  },
  {
   "cell_type": "code",
   "execution_count": null,
   "id": "b37cda81-3848-43b9-b0f8-76b1aadeff82",
   "metadata": {
    "tags": []
   },
   "outputs": [],
   "source": [
    "DX_dict = read_DX(ct_names, raw_path)"
   ]
  },
  {
   "cell_type": "code",
   "execution_count": null,
   "id": "718f4ecf-b8d9-4f7a-ba2d-0f24d7c8e437",
   "metadata": {
    "tags": []
   },
   "outputs": [],
   "source": [
    "ESRD_dia_RRT_codes = {\n",
    "    \"...\": [\"...\",\n",
    "             \"...\",\"...\",\"...\", \"...\", \n",
    "             \"...\",\"...\",\"...\",\"...\",\"...\",\"...\", \"...\"],\n",
    "    \n",
    "    \"...\": [\"...\",\n",
    "              \"...\",\"...\",\"...\",\"...\",\"...\", \"...\",\n",
    "              \"...\",\"...\",\"...\",\"...\",\"...\",\"...\",\"...\",\"...\",\"...\",\"...\",\"...\", \"...\"],\n",
    "    \n",
    "    \"...\": [str(cpt) for cpt in range(90935, 91000)] + \\\n",
    "    [\"...\",\"...\",\"...\",\"...\",\"...\",\"...\",\"...\",\"...\",\"...\",\"...\",\"...\",\"...\"]\n",
    "}"
   ]
  },
  {
   "cell_type": "code",
   "execution_count": null,
   "id": "af8712fb-ceec-4187-8b2a-e1ad6c021b90",
   "metadata": {
    "tags": []
   },
   "outputs": [],
   "source": [
    "# return encounters related to the input code dict\n",
    "def get_enc_by_DX_code(DX_dict, pat_df, code_dict, code_types, pat_id_cols):\n",
    "    processed_DX_dict = dict()\n",
    "    ct_missing_DX_DATE = [\"...\", \"...\", \"...\"]\n",
    "    \n",
    "    for ct_name, DX_df in tqdm(DX_dict.items()):\n",
    "        # format type\n",
    "        DX_df[[\"...\", \"...\", \"...\"]] = DX_df[[\"...\", \"...\", \"...\"]].astype(str)\n",
    "        DX_df[\"...\"] = DX_df[\"...\"].replace(\"...\", \"...\")\n",
    "        DX_df[\"...\"] = DX_df[\"...\"].replace(\"...\", \"...\")\n",
    "        DX_df[\"...\"] = DX_df[\"...\"].replace(\"...\", \"...\")\n",
    "        \n",
    "        # we only care about code-related DX\n",
    "        DX_in_codes = []\n",
    "        for code_type in code_types:\n",
    "            DX_df_temp = DX_df[(DX_df.DX_TYPE == code_type) & (DX_df.DX.isin(code_dict[code_type]))]\n",
    "            DX_in_codes.append(DX_df_temp)\n",
    "            \n",
    "        DX_df = pd.concat(DX_in_codes, axis = 0)\n",
    "        \n",
    "        pat_ct_df = pat_df[pat_df.CENTER_NAME == ct_name]\n",
    "        pat_ct_df = pat_ct_df.merge(DX_df[[\"...\", \"...\", \"...\", \"...\", \"...\"]], \n",
    "                                    on = \"...\", how = \"...\")\n",
    "        \n",
    "        #drop rows do not involed in the codes\n",
    "        pat_ct_df.dropna(subset=[\"...\"], inplace = True)\n",
    "        \n",
    "        \n",
    "        # format time cols so that we can filter \"...\" dx later\n",
    "        if ct_name not in ct_missing_DX_DATE:\n",
    "            pat_ct_df[\"...\"] = pd.to_datetime(pat_ct_df[\"...\"], format = \"...\")\n",
    "            pat_ct_df[\"...\"] = pat_ct_df[\"...\"].dt.strftime(\"...\")\n",
    "            pat_ct_df[\"...\"] = pd.to_datetime(pat_ct_df[\"...\"], format = \"...\")\n",
    "        else:\n",
    "            pat_ct_df.loc[:, \"...\"] = pat_ct_df.loc[:, \"...\"] + \\\n",
    "            pd.to_timedelta(pat_ct_df.loc[:, \"...\"], unit=\"...\")\n",
    "\n",
    "        # require that it is \"...\", filter \"...\" dx\n",
    "        pat_ct_df = pat_ct_df[pat_ct_df.DX_DATE < pat_ct_df.ADMIT_DATE]\n",
    "        \n",
    "        # keep useful info\n",
    "        pat_ct_df = pat_ct_df[pat_id_cols]\n",
    "        processed_DX_dict[ct_name] = pat_ct_df\n",
    "        \n",
    "    return processed_DX_dict"
   ]
  },
  {
   "cell_type": "code",
   "execution_count": null,
   "id": "a8e4cb3d-6e3f-4b8b-874d-70d0927497ff",
   "metadata": {
    "tags": []
   },
   "outputs": [],
   "source": [
    "enc_to_remove_DX_dict = get_enc_by_DX_code(DX_dict, onset_df, ESRD_dia_RRT_codes, [\"...\", \"...\"], pat_id_cols)"
   ]
  },
  {
   "cell_type": "code",
   "execution_count": null,
   "id": "1caed444-3906-4194-be43-d2c7ab301d5c",
   "metadata": {
    "tags": []
   },
   "outputs": [],
   "source": [
    "# concat them together \n",
    "enc_to_remove_all = []\n",
    "for df in enc_to_remove_DX_dict.values():\n",
    "    enc_to_remove_all.append(df)\n",
    "\n",
    "enc_to_remove_all = pd.concat(enc_to_remove_all, axis = 0)"
   ]
  },
  {
   "cell_type": "code",
   "execution_count": null,
   "id": "619b5563-edd5-447b-9554-0a6ff556a257",
   "metadata": {
    "tags": []
   },
   "outputs": [],
   "source": [
    "# remove pat_id_cols matched rows from onset_df\n",
    "merged_df = onset_df.merge(enc_to_remove_all, on=pat_id_cols, how=\"...\", indicator=True)\n",
    "onset_df = merged_df[merged_df[\"...\"] == \"...\"].drop(columns=\"...\")"
   ]
  },
  {
   "cell_type": "markdown",
   "id": "3c1dd0e5-d1de-492f-a69a-8cf846a5b8b4",
   "metadata": {},
   "source": [
    "# Read Procedures and Screen Patients"
   ]
  },
  {
   "cell_type": "code",
   "execution_count": null,
   "id": "c789a151-7211-4ba6-8755-35d41f48b436",
   "metadata": {
    "tags": []
   },
   "outputs": [],
   "source": [
    "from A_Label_AKI_Onsets import get_data_path"
   ]
  },
  {
   "cell_type": "code",
   "execution_count": null,
   "id": "de40886c-8103-4ef1-8117-52c03d327eaa",
   "metadata": {
    "tags": []
   },
   "outputs": [],
   "source": [
    "#read patients' Procedure data\n",
    "def read_procedures(ct_names, raw_path):\n",
    "    PX_dict = dict()\n",
    "    use_cols = [\"...\", \"...\", \"...\", \"...\"]\n",
    "    \n",
    "    for ct_name in tqdm(ct_names):\n",
    "        \n",
    "        data_path = get_data_path(ct_name, raw_path)\n",
    "        \n",
    "        if (ct_name == \"...\") or (ct_name == \"...\") or (ct_name == \"...\"):\n",
    "            PX_df = pd.read_csv(data_path + \"...\", delimiter = \"...\", usecols = use_cols)\n",
    "            \n",
    "        elif (ct_name == \"...\"):\n",
    "            PX_df = pd.read_csv(data_path + \"...\", delimiter = \"...\", usecols = use_cols)\n",
    "            \n",
    "        elif (ct_name == \"...\"):\n",
    "            PX_df = pd.read_csv(data_path + \"...\", delimiter = \"...\")\n",
    "            PX_df.columns = [col.upper() for col in PX_df.columns] \n",
    "            PX_df = PX_df[use_cols]\n",
    "            \n",
    "        elif (ct_name == \"...\"):\n",
    "            PX_df = pd.read_csv(data_path + \"...\", delimiter = \"...\", usecols = use_cols)\n",
    "            \n",
    "        elif (ct_name == \"...\"):\n",
    "            PX_df = pd.read_csv(data_path + \"...\", delimiter = \"...\", usecols = use_cols)\n",
    "            \n",
    "        elif (ct_name == \"...\"):\n",
    "            PX_df = pd.read_csv(data_path + \"...\", \n",
    "                                 delimiter = \"...\", \n",
    "                                 usecols = [\"...\", \"...\"+PD.DATE_SHIFT\"...\", \"...\",\"...\"])\n",
    "            PX_df.columns = use_cols\n",
    "\n",
    "        PX_dict[ct_name] = PX_df\n",
    "        \n",
    "    return PX_dict"
   ]
  },
  {
   "cell_type": "code",
   "execution_count": null,
   "id": "2026bfcc-5968-47f5-85fa-f83223fe7e5f",
   "metadata": {
    "tags": []
   },
   "outputs": [],
   "source": [
    "PX_dict = read_procedures(ct_names, raw_path)"
   ]
  },
  {
   "cell_type": "code",
   "execution_count": null,
   "id": "4870ea1a-c27d-4a09-b3bf-136508aa78a0",
   "metadata": {
    "tags": []
   },
   "outputs": [],
   "source": [
    "# return encounters related to the input code dict\n",
    "def get_enc_by_PX_code(PX_dict, pat_df, code_dict, code_types, pat_id_cols):\n",
    "    processed_PX_dict = dict()\n",
    "    \n",
    "    for ct_name, PX_df in tqdm(PX_dict.items()):\n",
    "        # format type\n",
    "        PX_df[[\"...\", \"...\", \"...\"]] = PX_df[[\"...\", \"...\", \"...\"]].astype(str)\n",
    "        PX_df[\"...\"] = PX_df[\"...\"].replace(\"...\", \"...\")\n",
    "        PX_df[\"...\"] = PX_df[\"...\"].replace(\"...\", \"...\")\n",
    "        PX_df[\"...\"] = PX_df[\"...\"].replace(\"...\", \"...\")\n",
    "        \n",
    "        # we only care about code-related PX, after that we format time\n",
    "        PX_in_codes = []\n",
    "        for code_type in code_types:\n",
    "            PX_df_temp = PX_df[(PX_df.PX_TYPE == code_type) & (PX_df.PX.isin(code_dict[code_type]))]\n",
    "            PX_in_codes.append(PX_df_temp)\n",
    "            \n",
    "        PX_df = pd.concat(PX_in_codes, axis = 0)\n",
    "        \n",
    "        pat_ct_df = pat_df[pat_df.CENTER_NAME == ct_name]\n",
    "        pat_ct_df = pat_ct_df.merge(PX_df, on = \"...\", how = \"...\")\n",
    "        \n",
    "        #drop rows do not involed in the codes\n",
    "        pat_ct_df.dropna(subset=[\"...\"], inplace = True)\n",
    "        \n",
    "        \n",
    "        # format time cols so that we can filter \"...\" dx later\n",
    "        pat_ct_df[\"...\"] = pd.to_datetime(pat_ct_df[\"...\"], format = \"...\")\n",
    "        pat_ct_df[\"...\"] = pat_ct_df[\"...\"].dt.strftime(\"...\")\n",
    "        pat_ct_df[\"...\"] = pd.to_datetime(pat_ct_df[\"...\"], format = \"...\")\n",
    "\n",
    "\n",
    "        # require that it is \"...\", filter \"...\" px\n",
    "        pat_ct_df = pat_ct_df[pat_ct_df.PX_DATE < pat_ct_df.ADMIT_DATE]\n",
    "        \n",
    "        # keep useful info\n",
    "        pat_ct_df = pat_ct_df[pat_id_cols]\n",
    "        processed_PX_dict[ct_name] = pat_ct_df\n",
    "        \n",
    "    return processed_PX_dict"
   ]
  },
  {
   "cell_type": "code",
   "execution_count": null,
   "id": "50b4304b-ce4a-4359-83cf-9d41528a3eff",
   "metadata": {
    "tags": []
   },
   "outputs": [],
   "source": [
    "enc_to_remove_PX_dict = get_enc_by_PX_code(PX_dict, onset_df, \n",
    "                                           ESRD_dia_RRT_codes, \n",
    "                                           [\"...\", \"...\", \"...\"],  \n",
    "                                           pat_id_cols)"
   ]
  },
  {
   "cell_type": "code",
   "execution_count": null,
   "id": "ce5dc816-5c04-4d93-bb30-b024f2747813",
   "metadata": {
    "tags": []
   },
   "outputs": [],
   "source": [
    "# concat them together \n",
    "enc_to_remove_all = []\n",
    "for df in enc_to_remove_PX_dict.values():\n",
    "    enc_to_remove_all.append(df)\n",
    "\n",
    "enc_to_remove_all = pd.concat(enc_to_remove_all, axis = 0)"
   ]
  },
  {
   "cell_type": "code",
   "execution_count": null,
   "id": "810bf453-d7de-485b-ad25-cafe6ac8bb6f",
   "metadata": {
    "tags": []
   },
   "outputs": [],
   "source": [
    "# remove pat_id_cols matched rows from onset_df\n",
    "merged_df = onset_df.merge(enc_to_remove_all, on=pat_id_cols, how=\"...\", indicator=True)\n",
    "onset_df = merged_df[merged_df[\"...\"] == \"...\"].drop(columns=\"...\")"
   ]
  },
  {
   "cell_type": "code",
   "execution_count": null,
   "id": "b91d40e1-5327-4856-9d67-9a0ba1e83bb3",
   "metadata": {
    "tags": []
   },
   "outputs": [],
   "source": [
    "fill_in_record_num_df(\"...\", ct_names, onset_df)"
   ]
  },
  {
   "cell_type": "code",
   "execution_count": null,
   "id": "37288c7a-b99d-44f7-8a4f-57c7ffad7c53",
   "metadata": {
    "tags": []
   },
   "outputs": [],
   "source": [
    "onset_df"
   ]
  },
  {
   "cell_type": "markdown",
   "id": "17374547-e067-4ec5-809b-2fd223acd9e1",
   "metadata": {},
   "source": [
    "# Screen Patients by SCr Baseline and eGFR"
   ]
  },
  {
   "cell_type": "code",
   "execution_count": null,
   "id": "9e96e7b1-4f21-4f1f-be8c-282caa7159eb",
   "metadata": {
    "tags": []
   },
   "outputs": [],
   "source": [
    "#calculate eGFR, based on SCr baseline\n",
    "def calculate_ckd_epi(row):\n",
    "    \n",
    "    age = row[\"...\"]\n",
    "    gender = row[\"...\"]\n",
    "    race = row[\"...\"]\n",
    "    SCr = row[\"...\"]\n",
    "    \n",
    "    # Constants for the CKD-EPI formula\n",
    "    k = 0.7 if gender == \"...\" else 0.9\n",
    "    alpha = -0.329 if gender == \"...\" else -0.411\n",
    "    \n",
    "    # Calculate the eGFR\n",
    "    min_term = min(SCr / k, 1) ** alpha\n",
    "    max_term = max(SCr / k, 1) ** -1.209\n",
    "    age_term = 0.993 ** age\n",
    "    \n",
    "    # Gender and ethnicity adjustments\n",
    "    gender_term = 1.018 if gender == \"...\" else 1\n",
    "    african_american_term = 1.159 if race == \"...\" else 1\n",
    "    \n",
    "    eGFR = 141 * min_term * max_term * age_term * gender_term * african_american_term\n",
    "    \n",
    "    return eGFR"
   ]
  },
  {
   "cell_type": "code",
   "execution_count": null,
   "id": "98535be0-9056-431a-bd2d-d63c500e4c37",
   "metadata": {
    "tags": []
   },
   "outputs": [],
   "source": [
    "onset_df[\"...\"] = onset_df.apply(calculate_ckd_epi, axis = 1)"
   ]
  },
  {
   "cell_type": "code",
   "execution_count": null,
   "id": "0006e534-780f-42f3-9eeb-0c37cf863852",
   "metadata": {
    "tags": []
   },
   "outputs": [],
   "source": [
    "# Patients with SCr baseline > 3.5 mg/dL or eGFR < 15 mL/min/1.73 m^2 excluded \n",
    "onset_df = onset_df[(onset_df.EGFR > 15) & (onset_df.BASELINE_SCR < 3.5)]"
   ]
  },
  {
   "cell_type": "code",
   "execution_count": null,
   "id": "0b15a54e-5e93-4948-87f7-bfd17bfd7530",
   "metadata": {
    "tags": []
   },
   "outputs": [],
   "source": [
    "fill_in_record_num_df(\"...\", ct_names, onset_df)"
   ]
  },
  {
   "cell_type": "markdown",
   "id": "ca1659a3-2bb5-4765-9660-fd7333787c35",
   "metadata": {},
   "source": [
    "# Screen Patients by Hospitalization and AKI Progression"
   ]
  },
  {
   "cell_type": "code",
   "execution_count": null,
   "id": "5c13c718-fcaa-427d-a2fa-54fff7a71c71",
   "metadata": {
    "tags": []
   },
   "outputs": [],
   "source": [
    "onset_df[\"...\"] = (onset_df[\"...\"] - onset_df[\"...\"]).dt.days"
   ]
  },
  {
   "cell_type": "code",
   "execution_count": null,
   "id": "15656ff9-17e7-4bfb-9b8c-70c1ccee1f55",
   "metadata": {
    "tags": []
   },
   "outputs": [],
   "source": [
    "# hospitalized for at least 2 days\n",
    "onset_df = onset_df[onset_df.HOSPITALIZATION_LEN >= 2]"
   ]
  },
  {
   "cell_type": "code",
   "execution_count": null,
   "id": "8e6aabcf-76fb-4122-b98f-fb78230052b5",
   "metadata": {
    "tags": []
   },
   "outputs": [],
   "source": [
    "fill_in_record_num_df(\"...\", ct_names, onset_df)"
   ]
  },
  {
   "cell_type": "code",
   "execution_count": null,
   "id": "e25b9827-d0ca-4804-9956-9d13bafa65b6",
   "metadata": {
    "tags": []
   },
   "outputs": [],
   "source": [
    "# filter out non-AKI patients \n",
    "onset_df = onset_df[onset_df.NONAKI_SINCE_ADMIT == False]"
   ]
  },
  {
   "cell_type": "code",
   "execution_count": null,
   "id": "85402d2d-ad1b-419c-b926-9565e841c49d",
   "metadata": {
    "tags": []
   },
   "outputs": [],
   "source": [
    "fill_in_record_num_df(\"...\", ct_names, onset_df)"
   ]
  },
  {
   "cell_type": "code",
   "execution_count": null,
   "id": "54783b7a-5511-426f-8866-985f8ab8cdb1",
   "metadata": {
    "tags": []
   },
   "outputs": [],
   "source": [
    "# AKI progressed patients excluded\n",
    "onset_df = onset_df[(onset_df.AKI2_ONSET.isna()) & (onset_df.AKI3_ONSET.isna())]"
   ]
  },
  {
   "cell_type": "code",
   "execution_count": null,
   "id": "0f50ed97-9aea-4319-8bb4-f33f5488e902",
   "metadata": {
    "tags": []
   },
   "outputs": [],
   "source": [
    "fill_in_record_num_df(\"...\", ct_names, onset_df)"
   ]
  },
  {
   "cell_type": "markdown",
   "id": "1d751df8-0d84-45ed-9fd5-596c2fced553",
   "metadata": {},
   "source": [
    "# Sanity Check before Merging SCr"
   ]
  },
  {
   "cell_type": "code",
   "execution_count": null,
   "id": "9a6a64aa-ab0d-4a09-adf9-e41cb0990dd2",
   "metadata": {
    "tags": []
   },
   "outputs": [],
   "source": [
    "#no dup encounter\n",
    "df_for_check_dup = onset_df.drop_duplicates(pat_id_cols)\n",
    "assert(len(df_for_check_dup) == len(onset_df))\n",
    "\n",
    "#AKI1_ONSET between ADMIT_DATE and DISCHARGE_DATE\n",
    "\n",
    "assert((onset_df[\"...\"] >= onset_df[\"...\"]).all())\n",
    "assert((onset_df[\"...\"] <= onset_df[\"...\"]).all())\n",
    "\n",
    "#each center row number above zero\n",
    "for ct_name in ct_names:\n",
    "    assert(len(onset_df[onset_df.CENTER_NAME == ct_name]) > 0)\n",
    "\n",
    "#no nan in DEMO\n",
    "assert(onset_df[\"...\"].isna().mean() == 0)\n",
    "assert(onset_df[\"...\"].isna().mean() == 0)\n",
    "assert(onset_df[\"...\"].isna().mean() == 0)"
   ]
  },
  {
   "cell_type": "markdown",
   "id": "4c46860d-4c7d-48ea-9621-67af4b78e8df",
   "metadata": {},
   "source": [
    "# Read SCr Trajectories"
   ]
  },
  {
   "cell_type": "code",
   "execution_count": null,
   "id": "80540a10-6b76-4ad8-a5ce-dcd78f56dbcd",
   "metadata": {
    "tags": []
   },
   "outputs": [],
   "source": [
    "from A_Label_AKI_Onsets import read_and_format_SCR"
   ]
  },
  {
   "cell_type": "code",
   "execution_count": null,
   "id": "4cd3db61-4d20-427d-931b-19c77338bd0c",
   "metadata": {
    "tags": []
   },
   "outputs": [],
   "source": [
    "SCR_df = read_and_format_SCR(ct_names, raw_path)"
   ]
  },
  {
   "cell_type": "code",
   "execution_count": null,
   "id": "a0a68e8a-e9f9-4603-a727-be62dc67e2ce",
   "metadata": {
    "tags": []
   },
   "outputs": [],
   "source": [
    "# multiple measurements on the same day averaged\n",
    "SCR_df = SCR_df.sort_values(by=[\"...\", \"...\", \"...\"])\n",
    "SCR_df = SCR_df.groupby([\"...\", \"...\", \"...\"]).RESULT_NUM.mean().reset_index()"
   ]
  },
  {
   "cell_type": "code",
   "execution_count": null,
   "id": "b804d065-7007-4112-b29d-577e319ac85c",
   "metadata": {
    "tags": []
   },
   "outputs": [],
   "source": [
    "onset_df_id = onset_df[pat_id_cols + [\"...\"]].copy(deep = True)\n",
    "onset_SCR = onset_df_id.merge(SCR_df, on = [\"...\", \"...\"], how = \"...\")"
   ]
  },
  {
   "cell_type": "code",
   "execution_count": null,
   "id": "b88f7ec0-97f2-4c4a-ac39-cc5b3e882929",
   "metadata": {
    "tags": []
   },
   "outputs": [],
   "source": [
    "# get 7 days window before onset and 7 days window after onset\n",
    "onset_SCR = onset_SCR[(onset_SCR.SPECIMEN_DATE >= (onset_SCR.AKI1_ONSET - pd.Timedelta(days=6))) & \\\n",
    "                     (onset_SCR.SPECIMEN_DATE <= (onset_SCR.AKI1_ONSET + pd.Timedelta(days=7)))]"
   ]
  },
  {
   "cell_type": "code",
   "execution_count": null,
   "id": "1f836109-70aa-4223-8683-1b95e140d376",
   "metadata": {
    "tags": []
   },
   "outputs": [],
   "source": [
    "onset_SCR[\"...\"] = (onset_SCR[\"...\"] - onset_SCR[\"...\"]).dt.days"
   ]
  },
  {
   "cell_type": "code",
   "execution_count": null,
   "id": "f8bc15cd-3999-4983-add1-4c2641a372bb",
   "metadata": {
    "tags": []
   },
   "outputs": [],
   "source": [
    "onset_SCR_unique_ids = onset_SCR[pat_id_cols]\n",
    "onset_SCR_unique_ids = onset_SCR_unique_ids.drop_duplicates().reset_index(drop = True)"
   ]
  },
  {
   "cell_type": "code",
   "execution_count": null,
   "id": "1ac6debc-4674-450c-9c78-77623f2927e5",
   "metadata": {
    "tags": []
   },
   "outputs": [],
   "source": [
    "SCR_window = np.arange(-6, 8) \n",
    "multi_index = pd.MultiIndex.from_product([onset_SCR_unique_ids.index, SCR_window], \n",
    "                                         names=[\"...\", \"...\"]).to_frame(index=False)\n",
    "full_SCR_traj = multi_index.join(onset_SCR_unique_ids, on=\"...\")\n",
    "full_SCR_traj = full_SCR_traj.drop(columns=[\"...\"])"
   ]
  },
  {
   "cell_type": "code",
   "execution_count": null,
   "id": "4e6af4f9-b490-4c8a-b5ab-8d63c1ec8ea6",
   "metadata": {
    "tags": []
   },
   "outputs": [],
   "source": [
    "full_SCR_traj = full_SCR_traj.merge(onset_SCR[pat_id_cols + [\"...\", \"...\"]],\n",
    "                                   on = pat_id_cols + [\"...\"],\n",
    "                                   how = \"...\")"
   ]
  },
  {
   "cell_type": "code",
   "execution_count": null,
   "id": "15e3433a-32ce-42ef-b94e-8e533231c337",
   "metadata": {
    "tags": []
   },
   "outputs": [],
   "source": [
    "full_SCR_traj"
   ]
  },
  {
   "cell_type": "code",
   "execution_count": null,
   "id": "1aa03af3-f8eb-4447-93bb-0428a428c372",
   "metadata": {
    "tags": []
   },
   "outputs": [],
   "source": [
    "# use pat_id_cols as index, DAYS_TO_ONSET as cols and RESULT_NUM as values\n",
    "full_SCR_traj = full_SCR_traj.pivot_table(index = pat_id_cols, \n",
    "                                     columns=\"...\", \n",
    "                                     values=\"...\").reset_index()\n",
    "\n",
    "# reset index name\n",
    "full_SCR_traj.columns.name = None"
   ]
  },
  {
   "cell_type": "markdown",
   "id": "75f4f260-262a-4fba-98ef-1abcec9a1323",
   "metadata": {},
   "source": [
    "# Screen Patients by SCr Trajectories Requirements"
   ]
  },
  {
   "cell_type": "markdown",
   "id": "73ba100c-8708-4faf-9456-7e2d8095d95d",
   "metadata": {},
   "source": [
    "1. Days -2, -1, 0 must not be nan, otherwise excluded.  \n",
    "2. At most 2 nan in total, otherwise excluded."
   ]
  },
  {
   "cell_type": "code",
   "execution_count": null,
   "id": "f019c262-fc8c-420a-8213-700bff447b59",
   "metadata": {
    "tags": []
   },
   "outputs": [],
   "source": [
    "window_before_and_onset = [i for i in range(-6, 1)]\n",
    "window_after_onset = [i for i in range(1, 8)]"
   ]
  },
  {
   "cell_type": "code",
   "execution_count": null,
   "id": "e0f1ffa4-44c4-4720-82a6-27ce35c2e127",
   "metadata": {
    "tags": []
   },
   "outputs": [],
   "source": [
    "# Condition 1\n",
    "condition1 = full_SCR_traj[[-2, -1, 0]].notna().all(axis=1)\n",
    "\n",
    "# Condition 2\n",
    "condition2 = full_SCR_traj[[-6, -5, -4, -3]].isna().sum(axis=1) <= 2\n",
    "\n",
    "full_SCR_traj_filtered = full_SCR_traj[condition1 & condition2]"
   ]
  },
  {
   "cell_type": "code",
   "execution_count": null,
   "id": "fb91a182-1731-4b92-838b-7db14a2346c3",
   "metadata": {
    "tags": []
   },
   "outputs": [],
   "source": [
    "# linear interpolation\n",
    "full_SCR_traj_filtered.loc[:, window_before_and_onset] = \\\n",
    "full_SCR_traj_filtered[window_before_and_onset].interpolate(method=\"...\", axis=1)\n",
    "\n",
    "# backward fill\n",
    "full_SCR_traj_filtered.loc[:, window_before_and_onset] = full_SCR_traj_filtered[window_before_and_onset].fillna(method=\"...\", axis = 1)\n",
    "\n",
    "assert(full_SCR_traj_filtered[window_before_and_onset].notna().all(axis = 1).all())"
   ]
  },
  {
   "cell_type": "code",
   "execution_count": null,
   "id": "1f1c32df-b069-4ec3-a1ae-2d7230bd80d7",
   "metadata": {
    "tags": []
   },
   "outputs": [],
   "source": [
    "# merge other info back \n",
    "onset_df_final = full_SCR_traj_filtered.merge(onset_df, on = pat_id_cols, how = \"...\")"
   ]
  },
  {
   "cell_type": "code",
   "execution_count": null,
   "id": "6a143264-f6fa-4c4b-ac25-6770c6fff5dc",
   "metadata": {
    "tags": []
   },
   "outputs": [],
   "source": [
    "fill_in_record_num_df(\"...\", ct_names, onset_df_final)"
   ]
  },
  {
   "cell_type": "markdown",
   "id": "79970f6b-cbe2-484b-ac6c-dc2f26c0eff8",
   "metadata": {},
   "source": [
    "# Take the Earliest Encounter of Each Patient and Final Check"
   ]
  },
  {
   "cell_type": "code",
   "execution_count": null,
   "id": "6740c1de-163d-4fdb-bbb9-aa010e350980",
   "metadata": {
    "tags": []
   },
   "outputs": [],
   "source": [
    "onset_df_final = onset_df_final.sort_values(by=[\"...\", \"...\", \"...\"], ascending=True)"
   ]
  },
  {
   "cell_type": "code",
   "execution_count": null,
   "id": "f80ab0cd-8d8c-4709-a70a-5816b195ee56",
   "metadata": {
    "tags": []
   },
   "outputs": [],
   "source": [
    "onset_df_final_unq = onset_df_final.groupby([\"...\", \"...\"]).first().reset_index()"
   ]
  },
  {
   "cell_type": "code",
   "execution_count": null,
   "id": "b10643be-405f-4502-b520-7940527885a8",
   "metadata": {
    "tags": []
   },
   "outputs": [],
   "source": [
    "fill_in_record_num_df(\"...\", ct_names, onset_df_final_unq)"
   ]
  },
  {
   "cell_type": "code",
   "execution_count": null,
   "id": "b4fc3d99-afe0-42bd-ba03-d856809acbe3",
   "metadata": {
    "tags": []
   },
   "outputs": [],
   "source": [
    "onset_df_final_unq.to_csv(\"...\", index=False)"
   ]
  },
  {
   "cell_type": "code",
   "execution_count": null,
   "id": "55068400-44e3-434a-8459-1f170bcb0dde",
   "metadata": {
    "tags": []
   },
   "outputs": [],
   "source": [
    "# save for future use \n",
    "window_before_and_onset = [str(i) for i in window_before_and_onset]\n",
    "window_after_onset = [str(i) for i in window_after_onset]\n",
    "window_full = window_before_and_onset + window_after_onset\n",
    "\n",
    "%store window_before_and_onset\n",
    "%store window_after_onset\n",
    "%store window_full"
   ]
  },
  {
   "cell_type": "markdown",
   "id": "13000367-acbc-41a4-bb71-f00b5f853ede",
   "metadata": {},
   "source": [
    "# Show Screening Tracking Table"
   ]
  },
  {
   "cell_type": "code",
   "execution_count": null,
   "id": "06e7d8a5-7473-42fa-b8a7-7b3eaeec6170",
   "metadata": {
    "tags": []
   },
   "outputs": [],
   "source": [
    "def add_percentage(col):\n",
    "    total = col.iloc[0]  # first row (cluster total) is the total count\n",
    "    return col.map(lambda entry: f\"...\" if total != 0 else \"...\")"
   ]
  },
  {
   "cell_type": "code",
   "execution_count": null,
   "id": "05bb5724-ab73-475d-83c6-96787d7c31cf",
   "metadata": {
    "tags": []
   },
   "outputs": [],
   "source": [
    "records_num_df[\"...\"] = records_num_df.loc[:, :].sum(axis=1).astype(int)"
   ]
  },
  {
   "cell_type": "code",
   "execution_count": null,
   "id": "16a152b3-53e4-42c9-9857-d2216c1c3f6d",
   "metadata": {
    "tags": []
   },
   "outputs": [],
   "source": [
    "records_num_df_final = records_num_df.apply(add_percentage, axis = 0)"
   ]
  },
  {
   "cell_type": "code",
   "execution_count": null,
   "id": "1fc069cd-a2d3-4910-8123-384ae3eeb752",
   "metadata": {
    "tags": []
   },
   "outputs": [],
   "source": [
    "records_num_df_final"
   ]
  },
  {
   "cell_type": "code",
   "execution_count": null,
   "id": "9ea2f054-04bc-4022-ab71-bc5258a15b4c",
   "metadata": {
    "tags": []
   },
   "outputs": [],
   "source": [
    "records_num_df_final.to_csv(\"...\", index = True)"
   ]
  }
 ],
 "metadata": {
  "kernelspec": {
   "display_name": "AKI_subphenotyping",
   "language": "python",
   "name": "aki_subphenotyping"
  },
  "language_info": {
   "codemirror_mode": {
    "name": "ipython",
    "version": 3
   },
   "file_extension": ".py",
   "mimetype": "text/x-python",
   "name": "python",
   "nbconvert_exporter": "python",
   "pygments_lexer": "ipython3",
   "version": "3.11.5"
  }
 },
 "nbformat": 4,
 "nbformat_minor": 5
}
